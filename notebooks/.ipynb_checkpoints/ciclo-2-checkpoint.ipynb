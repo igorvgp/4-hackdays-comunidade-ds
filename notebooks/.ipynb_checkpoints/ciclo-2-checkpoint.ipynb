{
 "cells": [
  {
   "cell_type": "markdown",
   "id": "ebd6a1b9",
   "metadata": {},
   "source": [
    "# 0.0. Imports"
   ]
  },
  {
   "cell_type": "code",
   "execution_count": 95,
   "id": "92cf2c99",
   "metadata": {
    "ExecuteTime": {
     "end_time": "2023-03-25T20:59:12.294140Z",
     "start_time": "2023-03-25T20:59:11.122908Z"
    }
   },
   "outputs": [],
   "source": [
    "import optuna\n",
    "import warnings\n",
    "import pandas as pd\n",
    "import numpy  as np\n",
    "import seaborn as sns\n",
    "import matplotlib.pyplot as plt\n",
    "from dataprep.eda import create_report\n",
    "from sklearn.preprocessing   import RobustScaler\n",
    "from sklearn.preprocessing   import LabelEncoder\n",
    "from xgboost                 import XGBClassifier\n",
    "from sklearn.model_selection import train_test_split\n",
    "from sklearn                 import metrics\n",
    "from sklearn.metrics         import confusion_matrix\n",
    "from sklearn.ensemble        import ExtraTreesClassifier\n",
    "from sklearn.ensemble        import RandomForestClassifier\n",
    "from sklearn.decomposition   import PCA\n",
    "from IPython.display         import HTML\n",
    "\n",
    "warnings.filterwarnings('ignore')"
   ]
  },
  {
   "cell_type": "markdown",
   "id": "06633ccb",
   "metadata": {},
   "source": [
    "## 0.1. Helper Functions\n"
   ]
  },
  {
   "cell_type": "code",
   "execution_count": 2,
   "id": "8f359ca7",
   "metadata": {
    "ExecuteTime": {
     "end_time": "2023-03-25T19:56:39.113263Z",
     "start_time": "2023-03-25T19:56:39.090636Z"
    }
   },
   "outputs": [
    {
     "data": {
      "text/html": [
       "<style>.container { width:100% !important; }</style>"
      ],
      "text/plain": [
       "<IPython.core.display.HTML object>"
      ]
     },
     "metadata": {},
     "output_type": "display_data"
    }
   ],
   "source": [
    "def jupyter_settings():\n",
    "    %matplotlib inline\n",
    "    \n",
    "    plt.style.use( 'bmh' )\n",
    "    plt.rcParams['figure.figsize'] = [25, 12]\n",
    "    plt.rcParams['font.size'] = 24\n",
    "    display( HTML( '<style>.container { width:100% !important; }</style>') )\n",
    "\n",
    "\n",
    "    sns.set()\n",
    "    \n",
    "jupyter_settings()"
   ]
  },
  {
   "cell_type": "code",
   "execution_count": 43,
   "id": "598f69a8",
   "metadata": {
    "ExecuteTime": {
     "end_time": "2023-03-25T20:13:27.226165Z",
     "start_time": "2023-03-25T20:13:27.196513Z"
    }
   },
   "outputs": [],
   "source": [
    "def preprocessing( X_train, X_test, y_train ):\n",
    "    \n",
    "    ###### Fill NA\n",
    "    \n",
    "    X_train['Nacionalidade'] = X_train['Nacionalidade'].fillna('Spain')\n",
    "    X_train['Número de hospedes'] = X_train['Número de hospedes'].fillna(int(X_train['Número de hospedes'].mode()))\n",
    "    \n",
    "    X_test['Nacionalidade'] = X_test['Nacionalidade'].fillna('Spain')\n",
    "    X_test['Número de hospedes'] = X_test['Número de hospedes'].fillna(int(X_test['Número de hospedes'].mode()))\n",
    "    \n",
    "    \n",
    "    ###### Change dtypes\n",
    "    X_train['Número de hospedes'] = X_train['Número de hospedes'].astype('int32')\n",
    "    X_train['Número de hospedes'] = X_train['Número de hospedes'].apply(lambda x: 8 if x > 5 else x)\n",
    "\n",
    "    X_test['Número de hospedes'] = X_test['Número de hospedes'].astype('int32')\n",
    "    X_test['Número de hospedes'] = X_test['Número de hospedes'].apply(lambda x: 8 if x > 5 else x)      \n",
    "    \n",
    "    ###### Rescaling\n",
    "#     rs_meses_reserva_checkin = RobustScaler()\n",
    "#     X_train['Meses da reserva até o check-in'] = rs_meses_reserva_checkin.fit_transform(X_train[['Meses da reserva até o check-in']]) \n",
    "#     X_test['Meses da reserva até o check-in'] = rs_meses_reserva_checkin.transform(X_test[['Meses da reserva até o check-in']]) \n",
    "    \n",
    "#     rs_numero_pernoites = RobustScaler()\n",
    "#     X_train['Número de pernoites reservadas'] = rs_numero_pernoites.fit_transform(X_train[['Número de pernoites reservadas']]) \n",
    "#     X_test['Número de pernoites reservadas'] = rs_numero_pernoites.transform(X_test[['Número de pernoites reservadas']]) \n",
    "\n",
    "    ###### Data filtering \n",
    "    \n",
    "    # Número de pernoites\n",
    "    X_train['Número de pernoites reservadas'] = X_train['Número de pernoites reservadas'].apply(lambda x: 21 if x > 21 else x)\n",
    "\n",
    "    # Número de hóspedes\n",
    "    X_train['Número de hospedes'] = X_train['Número de hospedes'].apply(lambda x: 5 if x > 5 else x)\n",
    "    \n",
    "    ###### Encoding\n",
    "\n",
    "    # Classificação do hotel\n",
    "    X_train['Classificação do hotel'] = X_train['Classificação do hotel'].apply(lambda x: int(x.replace(' estrelas','')))\n",
    "    X_test['Classificação do hotel'] = X_test['Classificação do hotel'].apply(lambda x: int(x.replace(' estrelas','')))\n",
    "    \n",
    "    # Regime de alimentação\n",
    "    dicio_alimentacao = {'Sem refeicao':0,'Café da manha': 1,'Café da manha e jantar': 2,'Café da manha, almoco e jantar': 3}\n",
    "\n",
    "    X_train['Regime de alimentação'] = X_train['Regime de alimentação'].apply(lambda x: dicio_alimentacao[x])\n",
    "    X_test['Regime de alimentação'] = X_test['Regime de alimentação'].apply(lambda x: dicio_alimentacao[x])\n",
    "\n",
    "    # Nacionalidade\n",
    "    X_train['Nacionalidade'] = X_train['Nacionalidade'].apply(lambda x: 1 if x == \"Spain\" else 0)\n",
    "    X_test['Nacionalidade']  = X_test['Nacionalidade'].apply(lambda x: 1 if x == \"Spain\" else 0)    \n",
    "    \n",
    "#     frequency_nationality = X_train.groupby('Nacionalidade').size() / len( data )\n",
    "#     X_train['Nacionalidade'] = X_train['Nacionalidade'].apply(lambda x: frequency_nationality[x])\n",
    "    \n",
    "#     frequency_nationality = X_test.groupby('Nacionalidade').size() / len( data )\n",
    "#     X_test['Nacionalidade'] = X_test['Nacionalidade'].apply(lambda x: frequency_nationality[x])\n",
    "    \n",
    "\n",
    "    # Já se hospedou anterioremente\n",
    "    X_train['Já se hospedou anterioremente'] = X_train['Já se hospedou anterioremente'].apply(lambda x: 0 if x == \"Não\" else 1)\n",
    "    X_test['Já se hospedou anterioremente'] = X_test['Já se hospedou anterioremente'].apply(lambda x: 0 if x == \"Não\" else 1)\n",
    "    \n",
    "    # Tipo do quarto reservado\n",
    "    tipo_quarto = { 'Amethyst':1,\n",
    "                    'Green Emerald':8,\n",
    "                    'Pink Sapphire':7,\n",
    "                    'Tanzanite':3,\n",
    "                    'Topaz':0,\n",
    "                    'Blue Sapphire':9,\n",
    "                    'Red Ruby':5,\n",
    "                    'Peridot':2,\n",
    "                    'Garnet':6,\n",
    "                    'Moonstone':4}\n",
    "\n",
    "    X_train['Tipo do quarto reservado'] = X_train['Tipo do quarto reservado'].apply(lambda x: tipo_quarto[x])\n",
    "    X_test['Tipo do quarto reservado']  = X_test ['Tipo do quarto reservado'].apply(lambda x: tipo_quarto[x])\n",
    "    \n",
    "    # Reserva com Observações\n",
    "    X_train['Reserva com Observações'] = X_train['Reserva com Observações'].apply(lambda x: 0 if x == \"Nenhuma\" else 1 if x == \"1 a 3\" else 2)\n",
    "    X_test['Reserva com Observações']  = X_test ['Reserva com Observações'].apply(lambda x: 0 if x == \"Nenhuma\" else 1 if x == \"1 a 3\" else 2)\n",
    "    \n",
    "    # Reserva com Estacionamento\n",
    "    X_train['Reserva com Estacionamento'] = X_train['Reserva com Estacionamento'].apply(lambda x: 0 if x == \"Não\" else 1)\n",
    "    X_test ['Reserva com Estacionamento'] = X_test ['Reserva com Estacionamento'].apply(lambda x: 0 if x == \"Não\" else 1)\n",
    "    \n",
    "    # Reserva feita por agência de turismo\n",
    "    X_train['Reserva feita por agência de turismo'] = X_train['Reserva feita por agência de turismo'].apply(lambda x: 0 if x == \"Não\" else 1)\n",
    "    X_test ['Reserva feita por agência de turismo'] = X_test ['Reserva feita por agência de turismo'].apply(lambda x: 0 if x == \"Não\" else 1)\n",
    "    \n",
    "    # Reserva feita por empresa\n",
    "    X_train['Reserva feita por empresa'] = X_train['Reserva feita por empresa'].apply(lambda x: 0 if x == \"Não\" else 1)\n",
    "    X_test ['Reserva feita por empresa'] = X_test['Reserva feita por empresa'].apply(lambda x: 0 if x == \"Não\" else 1)\n",
    "    \n",
    "    # Forma de Reserva\n",
    "    X_train = pd.get_dummies( X_train, prefix=['reserva'], columns=['Forma de Reserva'] )\n",
    "    X_test = pd.get_dummies( X_test, prefix=['reserva'], columns=['Forma de Reserva'] )\n",
    "    \n",
    "    ##### Feature Engineering\n",
    "    X_train, X_test, y_train = embedding(X_train, X_test, y_train)\n",
    "    \n",
    "    ##### Feature selection\n",
    "    X_train = X_train.drop(['id', 'Reserva feita por empresa','Reserva feita por agência de turismo'], axis = 1)\n",
    "    X_test = X_test.drop(['id', 'Reserva feita por empresa','Reserva feita por agência de turismo'], axis = 1)\n",
    "\n",
    "    \n",
    "    return X_train, X_test"
   ]
  },
  {
   "cell_type": "code",
   "execution_count": 42,
   "id": "56723121",
   "metadata": {
    "ExecuteTime": {
     "end_time": "2023-03-25T20:13:24.198838Z",
     "start_time": "2023-03-25T20:13:24.178168Z"
    }
   },
   "outputs": [],
   "source": [
    "def embedding(X_train, X_test, y_train):\n",
    "    ###### Feature Engineering\n",
    "\n",
    "    # Tree Based embedding\n",
    "\n",
    "    # Model definition\n",
    "    rf_model_emb = RandomForestClassifier( n_estimators = 100, random_state = 42 )\n",
    "\n",
    "    # Model training\n",
    "    rf_model_emb.fit( X_train, y_train )\n",
    "\n",
    "    # Leaf\n",
    "    df_leaf_emb = pd.DataFrame( rf_model_emb.apply( X_train ) )\n",
    "\n",
    "    reducer_emb = PCA(n_components = 2, random_state = 42)\n",
    "\n",
    "    embedding = reducer_emb.fit_transform( df_leaf_emb )\n",
    "\n",
    "    # embedding\n",
    "    df_leaf_emb['embedding_x'] = embedding[: , 0]\n",
    "    df_leaf_emb['embedding_y'] = embedding[: , 1]\n",
    "\n",
    "    df_leaf_emb['Reserva Cancelada'] = y_train\n",
    "\n",
    "    X_train['embedding_x'] = embedding[: , 0]\n",
    "    X_train['embedding_y'] = embedding[: , 1]\n",
    "    \n",
    "    X_test_leaf = pd.DataFrame( rf_model_emb.apply( X_test ) )   \n",
    "    \n",
    "    embedding_prep = reducer_emb.transform(X_test_leaf)\n",
    "    \n",
    "    X_test['embedding_x'] = embedding_prep[: , 0]\n",
    "    X_test['embedding_y'] = embedding_prep[: , 1] \n",
    "    \n",
    "    return X_train, X_test, y_train"
   ]
  },
  {
   "cell_type": "code",
   "execution_count": 5,
   "id": "ce005e20",
   "metadata": {
    "ExecuteTime": {
     "end_time": "2023-03-25T19:56:46.057755Z",
     "start_time": "2023-03-25T19:56:46.048027Z"
    }
   },
   "outputs": [],
   "source": [
    "def plot_barras_empilhadas(data_barras_emp, variavel_barras_emp, target_barras_emp, figsize = (6,4)):\n",
    "\n",
    "    aux_barras_emp  = data_barras_emp[[variavel_barras_emp, target_barras_emp]]\n",
    "    aux1_barras_emp = aux_barras_emp.groupby(variavel_barras_emp).count().reset_index()\n",
    "    aux1_barras_emp[target_barras_emp] = 1\n",
    "    aux2_barras_emp = pd.DataFrame(aux_barras_emp.value_counts([variavel_barras_emp, target_barras_emp])).reset_index().sort_values(target_barras_emp)\n",
    "    aux3_barras_emp = pd.DataFrame(aux2_barras_emp.groupby(variavel_barras_emp).sum()[0]).reset_index()\n",
    "    aux3_barras_emp = pd.merge(aux2_barras_emp, aux3_barras_emp, how = 'left', on = variavel_barras_emp)\n",
    "    aux3_barras_emp['percentage'] = aux3_barras_emp['0_x'] / aux3_barras_emp['0_y']\n",
    "    aux3_barras_emp = aux3_barras_emp.sort_values('percentage')\n",
    "\n",
    "    plt.figure(figsize = figsize)\n",
    "    \n",
    "    bar1 = sns.barplot(x = variavel_barras_emp, y = target_barras_emp, data =  aux1_barras_emp, color = 'darkblue', errorbar =  None)\n",
    "    bar2 = sns.barplot(x = variavel_barras_emp, y = 'percentage', data = aux3_barras_emp[aux3_barras_emp[target_barras_emp] == 1], color = 'lightblue', errorbar =  None)"
   ]
  },
  {
   "cell_type": "markdown",
   "id": "11635438",
   "metadata": {},
   "source": [
    "## 0.2. Loading Data"
   ]
  },
  {
   "cell_type": "code",
   "execution_count": 99,
   "id": "cb043cfa",
   "metadata": {
    "ExecuteTime": {
     "end_time": "2023-03-25T21:14:57.213029Z",
     "start_time": "2023-03-25T21:14:56.927752Z"
    }
   },
   "outputs": [],
   "source": [
    "data = pd.read_csv('../data/train.csv')\n",
    "test_data = pd.read_csv('../data/test.csv')"
   ]
  },
  {
   "cell_type": "code",
   "execution_count": null,
   "id": "c333f9b9",
   "metadata": {
    "ExecuteTime": {
     "end_time": "2023-03-25T19:38:35.070923Z",
     "start_time": "2023-03-25T19:38:34.997351Z"
    }
   },
   "outputs": [],
   "source": [
    "data.head()"
   ]
  },
  {
   "cell_type": "markdown",
   "id": "2c0bfa5c",
   "metadata": {},
   "source": [
    "# 1.0. Data Description"
   ]
  },
  {
   "cell_type": "code",
   "execution_count": null,
   "id": "36b192a9",
   "metadata": {
    "ExecuteTime": {
     "end_time": "2023-03-25T19:38:41.957539Z",
     "start_time": "2023-03-25T19:38:41.940215Z"
    }
   },
   "outputs": [],
   "source": [
    "data1 = data.copy()"
   ]
  },
  {
   "cell_type": "markdown",
   "id": "1b0fd27c",
   "metadata": {},
   "source": [
    "## 1.1. Columns Description"
   ]
  },
  {
   "cell_type": "markdown",
   "id": "da3bc0a3",
   "metadata": {},
   "source": [
    "## 1.2. Data Dimensions"
   ]
  },
  {
   "cell_type": "code",
   "execution_count": null,
   "id": "89a18cff",
   "metadata": {
    "ExecuteTime": {
     "end_time": "2023-03-25T19:38:44.052342Z",
     "start_time": "2023-03-25T19:38:44.043738Z"
    }
   },
   "outputs": [],
   "source": [
    "data1.shape"
   ]
  },
  {
   "cell_type": "markdown",
   "id": "40c116bb",
   "metadata": {},
   "source": [
    "## 1.3. Data Types"
   ]
  },
  {
   "cell_type": "code",
   "execution_count": null,
   "id": "31a1b865",
   "metadata": {
    "ExecuteTime": {
     "end_time": "2023-03-25T19:38:46.287415Z",
     "start_time": "2023-03-25T19:38:46.275520Z"
    }
   },
   "outputs": [],
   "source": [
    "data1.dtypes"
   ]
  },
  {
   "cell_type": "markdown",
   "id": "4322ea97",
   "metadata": {},
   "source": [
    "## 1.4. Check NA"
   ]
  },
  {
   "cell_type": "code",
   "execution_count": null,
   "id": "8b18fd6f",
   "metadata": {
    "ExecuteTime": {
     "end_time": "2023-03-25T19:38:48.238702Z",
     "start_time": "2023-03-25T19:38:48.057494Z"
    }
   },
   "outputs": [],
   "source": [
    "data1.isna().sum()"
   ]
  },
  {
   "cell_type": "markdown",
   "id": "9aab51a7",
   "metadata": {},
   "source": [
    "### 1.4.1. Fillout NA"
   ]
  },
  {
   "cell_type": "code",
   "execution_count": null,
   "id": "98bea34b",
   "metadata": {
    "ExecuteTime": {
     "end_time": "2023-03-25T19:38:50.036036Z",
     "start_time": "2023-03-25T19:38:49.919094Z"
    }
   },
   "outputs": [],
   "source": [
    "data1['Nacionalidade'] = data1['Nacionalidade'].fillna('Spain')\n",
    "data1['Número de hospedes'] = data1['Número de hospedes'].fillna(int(data1['Número de hospedes'].mode()))"
   ]
  },
  {
   "cell_type": "code",
   "execution_count": null,
   "id": "220f3a2b",
   "metadata": {
    "ExecuteTime": {
     "end_time": "2023-03-25T19:38:50.623177Z",
     "start_time": "2023-03-25T19:38:50.613371Z"
    }
   },
   "outputs": [],
   "source": [
    "np.round(data1['Número de hospedes'].mean(),0)"
   ]
  },
  {
   "cell_type": "code",
   "execution_count": null,
   "id": "676335e1",
   "metadata": {
    "ExecuteTime": {
     "end_time": "2023-03-25T19:38:51.216365Z",
     "start_time": "2023-03-25T19:38:51.203677Z"
    }
   },
   "outputs": [],
   "source": [
    "data1['Número de hospedes'].value_counts()"
   ]
  },
  {
   "cell_type": "markdown",
   "id": "45ad3027",
   "metadata": {
    "heading_collapsed": true
   },
   "source": [
    "## 1.5. Descriptive Statistics"
   ]
  },
  {
   "cell_type": "markdown",
   "id": "252d98b3",
   "metadata": {
    "heading_collapsed": true,
    "hidden": true
   },
   "source": [
    "### 1.5.1. Cotinuous Variables"
   ]
  },
  {
   "cell_type": "code",
   "execution_count": null,
   "id": "eb4f14b1",
   "metadata": {
    "ExecuteTime": {
     "end_time": "2023-03-25T13:39:20.236004Z",
     "start_time": "2023-03-25T13:39:20.194729Z"
    },
    "hidden": true
   },
   "outputs": [],
   "source": [
    "data1.describe()"
   ]
  },
  {
   "cell_type": "markdown",
   "id": "504534b8",
   "metadata": {
    "hidden": true
   },
   "source": [
    "### 1.5.2. Categorical Variables"
   ]
  },
  {
   "cell_type": "code",
   "execution_count": null,
   "id": "e94ee20e",
   "metadata": {
    "ExecuteTime": {
     "end_time": "2023-03-25T13:39:36.534401Z",
     "start_time": "2023-03-25T13:39:36.523319Z"
    },
    "hidden": true
   },
   "outputs": [],
   "source": [
    "data1.columns"
   ]
  },
  {
   "cell_type": "code",
   "execution_count": null,
   "id": "5e747074",
   "metadata": {
    "ExecuteTime": {
     "end_time": "2023-03-25T13:39:37.930569Z",
     "start_time": "2023-03-25T13:39:37.916631Z"
    },
    "hidden": true
   },
   "outputs": [],
   "source": [
    "data1['Classificação do hotel'].value_counts()"
   ]
  },
  {
   "cell_type": "code",
   "execution_count": null,
   "id": "fa26c09c",
   "metadata": {
    "ExecuteTime": {
     "end_time": "2023-03-25T13:40:03.878123Z",
     "start_time": "2023-03-25T13:40:03.854530Z"
    },
    "hidden": true
   },
   "outputs": [],
   "source": [
    "data1['Regime de alimentação'].value_counts()"
   ]
  },
  {
   "cell_type": "code",
   "execution_count": null,
   "id": "aafeb2c7",
   "metadata": {
    "ExecuteTime": {
     "end_time": "2023-03-25T13:40:31.914769Z",
     "start_time": "2023-03-25T13:40:31.893379Z"
    },
    "hidden": true
   },
   "outputs": [],
   "source": [
    "data1['Nacionalidade'].value_counts()"
   ]
  },
  {
   "cell_type": "code",
   "execution_count": null,
   "id": "4daa67c1",
   "metadata": {
    "ExecuteTime": {
     "end_time": "2023-03-25T13:41:03.763189Z",
     "start_time": "2023-03-25T13:41:03.740793Z"
    },
    "hidden": true
   },
   "outputs": [],
   "source": [
    "data1['Forma de Reserva'].value_counts()"
   ]
  },
  {
   "cell_type": "code",
   "execution_count": null,
   "id": "42acbf7e",
   "metadata": {
    "ExecuteTime": {
     "end_time": "2023-03-25T13:41:39.385778Z",
     "start_time": "2023-03-25T13:41:39.364261Z"
    },
    "hidden": true
   },
   "outputs": [],
   "source": [
    "data1['Reserva com Estacionamento'].value_counts()"
   ]
  },
  {
   "cell_type": "code",
   "execution_count": null,
   "id": "670c8bb3",
   "metadata": {
    "ExecuteTime": {
     "end_time": "2023-03-25T13:42:10.733665Z",
     "start_time": "2023-03-25T13:42:10.715423Z"
    },
    "hidden": true
   },
   "outputs": [],
   "source": [
    "data1['Reserva com Observações'].value_counts()"
   ]
  },
  {
   "cell_type": "code",
   "execution_count": null,
   "id": "9dd0449e",
   "metadata": {
    "ExecuteTime": {
     "end_time": "2023-03-25T13:42:38.339760Z",
     "start_time": "2023-03-25T13:42:38.325766Z"
    },
    "hidden": true
   },
   "outputs": [],
   "source": [
    "data1['Reserva Cancelada'].value_counts()"
   ]
  },
  {
   "cell_type": "markdown",
   "id": "e71047a0",
   "metadata": {},
   "source": [
    "## 1.6. Check Duplicates"
   ]
  },
  {
   "cell_type": "code",
   "execution_count": null,
   "id": "45201efb",
   "metadata": {
    "ExecuteTime": {
     "end_time": "2023-03-25T19:38:57.993063Z",
     "start_time": "2023-03-25T19:38:57.812161Z"
    }
   },
   "outputs": [],
   "source": [
    "data1[data1.duplicated() == True]"
   ]
  },
  {
   "cell_type": "markdown",
   "id": "ea6eac9b",
   "metadata": {},
   "source": [
    "# 2.0. Feature Engineering"
   ]
  },
  {
   "cell_type": "code",
   "execution_count": null,
   "id": "00f697b8",
   "metadata": {
    "ExecuteTime": {
     "end_time": "2023-03-25T19:38:58.905293Z",
     "start_time": "2023-03-25T19:38:58.892284Z"
    }
   },
   "outputs": [],
   "source": [
    "data2 = data1.copy()"
   ]
  },
  {
   "cell_type": "markdown",
   "id": "c9a6b2f8",
   "metadata": {},
   "source": [
    "## 2.1. Embedding"
   ]
  },
  {
   "cell_type": "code",
   "execution_count": null,
   "id": "07da6cab",
   "metadata": {
    "ExecuteTime": {
     "end_time": "2023-03-25T19:39:01.649825Z",
     "start_time": "2023-03-25T19:39:00.691690Z"
    }
   },
   "outputs": [],
   "source": [
    "y_emb = data['Reserva Cancelada']\n",
    "X_emb = data.drop('Reserva Cancelada', axis = 1)\n",
    "X_emb_1 = data.drop('Reserva Cancelada', axis = 1)\n",
    "\n",
    "X_emb,_  = preprocessing( X_emb, X_emb_1 )"
   ]
  },
  {
   "cell_type": "code",
   "execution_count": null,
   "id": "68dba9ce",
   "metadata": {
    "ExecuteTime": {
     "end_time": "2023-03-25T19:39:10.782457Z",
     "start_time": "2023-03-25T19:39:03.242219Z"
    }
   },
   "outputs": [],
   "source": [
    "# Tree Based embedding\n",
    "\n",
    "# Model definition\n",
    "# Define Weights\n",
    "weights_emb = data2['Reserva Cancelada'].value_counts(normalize = True).values\n",
    "weights_emb = {0: weights_emb[1], 1: weights_emb[0]}\n",
    "\n",
    "rf_model_emb = RandomForestClassifier( n_estimators = 100, random_state = 42, class_weight = weights_emb )\n",
    "\n",
    "# Model training\n",
    "rf_model_emb.fit( X_emb, y_emb )\n",
    "\n",
    "# Leaf\n",
    "df_leaf_emb = pd.DataFrame( rf_model_emb.apply( X_emb ) )"
   ]
  },
  {
   "cell_type": "code",
   "execution_count": null,
   "id": "aa1ea340",
   "metadata": {
    "ExecuteTime": {
     "end_time": "2023-03-25T19:39:23.964484Z",
     "start_time": "2023-03-25T19:39:15.625752Z"
    }
   },
   "outputs": [],
   "source": [
    "reducer_emb = PCA(n_components = 2, random_state = 42)\n",
    "\n",
    "embedding = reducer_emb.fit_transform( df_leaf_emb )\n",
    "\n",
    "# embedding\n",
    "df_leaf_emb['embedding_x'] = embedding[: , 0]\n",
    "df_leaf_emb['embedding_y'] = embedding[: , 1]\n",
    "\n",
    "df_leaf_emb['Reserva Cancelada'] = data['Reserva Cancelada']\n",
    "\n",
    "data2['embedding_x'] = embedding[: , 0]\n",
    "data2['embedding_y'] = embedding[: , 1]\n",
    "\n",
    "# Plot leaves\n",
    "plt.figure(figsize=(6, 6))\n",
    "sns.scatterplot( x = 'embedding_x', y = 'embedding_y',\n",
    "                 data = df_leaf_emb,\n",
    "                 hue = 'Reserva Cancelada');"
   ]
  },
  {
   "cell_type": "markdown",
   "id": "3df84486",
   "metadata": {},
   "source": [
    "# 3.0. Data Filtering"
   ]
  },
  {
   "cell_type": "code",
   "execution_count": null,
   "id": "ce0c9a28",
   "metadata": {
    "ExecuteTime": {
     "end_time": "2023-03-25T19:39:30.049965Z",
     "start_time": "2023-03-25T19:39:30.024740Z"
    }
   },
   "outputs": [],
   "source": [
    "data3 = data2.copy()"
   ]
  },
  {
   "cell_type": "code",
   "execution_count": null,
   "id": "dda6bc0d",
   "metadata": {
    "ExecuteTime": {
     "end_time": "2023-03-25T19:39:31.144252Z",
     "start_time": "2023-03-25T19:39:31.132310Z"
    }
   },
   "outputs": [],
   "source": [
    "data3.columns"
   ]
  },
  {
   "cell_type": "code",
   "execution_count": null,
   "id": "0cc93515",
   "metadata": {
    "ExecuteTime": {
     "end_time": "2023-03-25T19:39:32.051238Z",
     "start_time": "2023-03-25T19:39:32.015272Z"
    }
   },
   "outputs": [],
   "source": [
    "# Número de pernoites\n",
    "data3['Número de pernoites reservadas'] = data3['Número de pernoites reservadas'].apply(lambda x: 21 if x > 21 else x)"
   ]
  },
  {
   "cell_type": "code",
   "execution_count": null,
   "id": "a5f3937e",
   "metadata": {
    "ExecuteTime": {
     "end_time": "2023-03-25T19:39:33.913471Z",
     "start_time": "2023-03-25T19:39:33.857210Z"
    }
   },
   "outputs": [],
   "source": [
    "# Número de hóspedes\n",
    "data3['Número de hospedes'] = data3['Número de hospedes'].apply(lambda x: 5 if x > 5 else x)"
   ]
  },
  {
   "cell_type": "markdown",
   "id": "49a3f56f",
   "metadata": {},
   "source": [
    "# 4.0. Exploratory Data Analysis"
   ]
  },
  {
   "cell_type": "code",
   "execution_count": null,
   "id": "992aed7a",
   "metadata": {
    "ExecuteTime": {
     "end_time": "2023-03-25T19:39:35.570339Z",
     "start_time": "2023-03-25T19:39:35.539181Z"
    }
   },
   "outputs": [],
   "source": [
    "data4 = data3.copy()"
   ]
  },
  {
   "cell_type": "markdown",
   "id": "166d410f",
   "metadata": {
    "heading_collapsed": true
   },
   "source": [
    "## 4.1. Univariate Analysis"
   ]
  },
  {
   "cell_type": "code",
   "execution_count": null,
   "id": "bee439fb",
   "metadata": {
    "ExecuteTime": {
     "end_time": "2023-03-25T18:56:35.551090Z",
     "start_time": "2023-03-25T18:56:19.596066Z"
    },
    "hidden": true,
    "scrolled": true
   },
   "outputs": [],
   "source": [
    "report = create_report(data4).show()"
   ]
  },
  {
   "cell_type": "markdown",
   "id": "da6fcb18",
   "metadata": {
    "heading_collapsed": true
   },
   "source": [
    "## 4.2. Bivatiate Analysis"
   ]
  },
  {
   "cell_type": "markdown",
   "id": "f5cd672b",
   "metadata": {
    "hidden": true
   },
   "source": [
    "### 4.2.1. Response Variable Relationship Analysis"
   ]
  },
  {
   "cell_type": "markdown",
   "id": "a0c069ae",
   "metadata": {
    "hidden": true
   },
   "source": [
    "### 4.2.2. Other Variable Relationship Analysis"
   ]
  },
  {
   "cell_type": "markdown",
   "id": "8afdee97",
   "metadata": {},
   "source": [
    "## 4.3. Multivariate Analysis"
   ]
  },
  {
   "cell_type": "markdown",
   "id": "f5bbd919",
   "metadata": {},
   "source": [
    "# 5.0. Data Preparation"
   ]
  },
  {
   "cell_type": "code",
   "execution_count": null,
   "id": "d184f6c9",
   "metadata": {
    "ExecuteTime": {
     "end_time": "2023-03-25T19:39:40.686364Z",
     "start_time": "2023-03-25T19:39:40.669275Z"
    }
   },
   "outputs": [],
   "source": [
    "data5 = data4.copy()"
   ]
  },
  {
   "cell_type": "code",
   "execution_count": null,
   "id": "17e38901",
   "metadata": {
    "ExecuteTime": {
     "end_time": "2023-03-25T19:39:42.365064Z",
     "start_time": "2023-03-25T19:39:42.302378Z"
    }
   },
   "outputs": [],
   "source": [
    "data5['Número de hospedes'] = data5['Número de hospedes'].astype('int32')\n",
    "data5['Número de hospedes'] = data5['Número de hospedes'].apply(lambda x: 8 if x > 5 else x)"
   ]
  },
  {
   "cell_type": "markdown",
   "id": "594d855b",
   "metadata": {},
   "source": [
    "## 5.1. Standardization"
   ]
  },
  {
   "cell_type": "markdown",
   "id": "243a59cf",
   "metadata": {},
   "source": [
    "## 5.2. Rescaling"
   ]
  },
  {
   "cell_type": "code",
   "execution_count": null,
   "id": "083b64ea",
   "metadata": {
    "ExecuteTime": {
     "end_time": "2023-03-25T19:35:31.543548Z",
     "start_time": "2023-03-25T19:35:31.537605Z"
    }
   },
   "outputs": [],
   "source": [
    "# rs_meses_reserva_checkin = RobustScaler()\n",
    "# data5['Meses da reserva até o check-in'] = rs_meses_reserva_checkin.fit_transform(data5[['Meses da reserva até o check-in']]) \n",
    "\n",
    "# rs_numero_pernoites = RobustScaler()\n",
    "# data5['Número de pernoites reservadas'] = rs_numero_pernoites.fit_transform(data5[['Número de pernoites reservadas']]) "
   ]
  },
  {
   "cell_type": "markdown",
   "id": "640313a9",
   "metadata": {},
   "source": [
    "## 5.3. Encoding"
   ]
  },
  {
   "cell_type": "code",
   "execution_count": null,
   "id": "9284ed53",
   "metadata": {
    "ExecuteTime": {
     "end_time": "2023-03-25T19:39:45.095885Z",
     "start_time": "2023-03-25T19:39:44.979821Z"
    }
   },
   "outputs": [],
   "source": [
    "# Classificação do hotel\n",
    "data5['Classificação do hotel'] = data5['Classificação do hotel'].apply(lambda x: int(x.replace(' estrelas','')))"
   ]
  },
  {
   "cell_type": "code",
   "execution_count": null,
   "id": "1123e834",
   "metadata": {
    "ExecuteTime": {
     "end_time": "2023-03-25T19:39:45.829666Z",
     "start_time": "2023-03-25T19:39:45.768731Z"
    }
   },
   "outputs": [],
   "source": [
    "# Regime de alimentação\n",
    "\n",
    "data5['Regime de alimentação'].value_counts()\n",
    "dicio_alimentacao = {'Sem refeicao':0,'Café da manha': 1,'Café da manha e jantar': 2,'Café da manha, almoco e jantar': 3}\n",
    "\n",
    "data5['Regime de alimentação'] = data5['Regime de alimentação'].apply(lambda x: dicio_alimentacao[x])"
   ]
  },
  {
   "cell_type": "code",
   "execution_count": null,
   "id": "6fd6227f",
   "metadata": {
    "ExecuteTime": {
     "end_time": "2023-03-25T19:39:47.445964Z",
     "start_time": "2023-03-25T19:39:47.372938Z"
    }
   },
   "outputs": [],
   "source": [
    "# Nacionalidade\n",
    "data5['Nacionalidade'] = data5['Nacionalidade'].apply(lambda x: 1 if x == \"Spain\" else 0)\n",
    "\n",
    "# frequency_nationality = data5.groupby('Nacionalidade').size() / len( data )\n",
    "# data5['Nacionalidade'] = data5['Nacionalidade'].apply(lambda x: frequency_nationality[x])"
   ]
  },
  {
   "cell_type": "code",
   "execution_count": null,
   "id": "99311a5d",
   "metadata": {
    "ExecuteTime": {
     "end_time": "2023-03-25T19:39:48.451373Z",
     "start_time": "2023-03-25T19:39:48.392214Z"
    }
   },
   "outputs": [],
   "source": [
    "# Já se hospedou anterioremente\n",
    "data5['Já se hospedou anterioremente'] = data5['Já se hospedou anterioremente'].apply(lambda x: 0 if x == \"Não\" else 1)"
   ]
  },
  {
   "cell_type": "code",
   "execution_count": null,
   "id": "f003ed69",
   "metadata": {
    "ExecuteTime": {
     "end_time": "2023-03-25T19:39:49.972141Z",
     "start_time": "2023-03-25T19:39:49.889396Z"
    }
   },
   "outputs": [],
   "source": [
    "# Tipo do quarto reservado\n",
    "data5['Tipo do quarto reservado'].value_counts()\n",
    "\n",
    "tipo_quarto = { 'Amethyst':0,\n",
    "                'Green Emerald':1,\n",
    "                'Pink Sapphire':2,\n",
    "                'Tanzanite':3,\n",
    "                'Topaz':4,\n",
    "                'Blue Sapphire':5,\n",
    "                'Red Ruby':6,\n",
    "                'Peridot':7,\n",
    "                'Garnet':8,\n",
    "                'Moonstone':9}\n",
    "\n",
    "data5['Tipo do quarto reservado'] = data5['Tipo do quarto reservado'].apply(lambda x: tipo_quarto[x])"
   ]
  },
  {
   "cell_type": "code",
   "execution_count": null,
   "id": "8e71b86e",
   "metadata": {
    "ExecuteTime": {
     "end_time": "2023-03-25T19:39:51.263294Z",
     "start_time": "2023-03-25T19:39:51.223014Z"
    }
   },
   "outputs": [],
   "source": [
    "# Reserva com Observações\n",
    "data5['Reserva com Observações'] = data5['Reserva com Observações'].apply(lambda x: 0 if x == \"Nenhuma\" else 1 if x == \"1 a 3\" else 2)"
   ]
  },
  {
   "cell_type": "code",
   "execution_count": null,
   "id": "312a916a",
   "metadata": {
    "ExecuteTime": {
     "end_time": "2023-03-25T19:39:52.939968Z",
     "start_time": "2023-03-25T19:39:52.890741Z"
    }
   },
   "outputs": [],
   "source": [
    "# Reserva com Estacionamento\n",
    "data5['Reserva com Estacionamento'] = data5['Reserva com Estacionamento'].apply(lambda x: 0 if x == \"Não\" else 1)"
   ]
  },
  {
   "cell_type": "code",
   "execution_count": null,
   "id": "a34883ce",
   "metadata": {
    "ExecuteTime": {
     "end_time": "2023-03-25T19:39:53.610997Z",
     "start_time": "2023-03-25T19:39:53.573965Z"
    }
   },
   "outputs": [],
   "source": [
    "# Reserva feita por agência de turismo\n",
    "data5['Reserva feita por agência de turismo'] = data5['Reserva feita por agência de turismo'].apply(lambda x: 0 if x == \"Não\" else 1)"
   ]
  },
  {
   "cell_type": "code",
   "execution_count": null,
   "id": "acec4f02",
   "metadata": {
    "ExecuteTime": {
     "end_time": "2023-03-25T19:39:55.447532Z",
     "start_time": "2023-03-25T19:39:55.407717Z"
    }
   },
   "outputs": [],
   "source": [
    "# Reserva feita por empresa\n",
    "data5['Reserva feita por empresa'] = data5['Reserva feita por empresa'].apply(lambda x: 0 if x == \"Não\" else 1)"
   ]
  },
  {
   "cell_type": "code",
   "execution_count": null,
   "id": "98ab4aea",
   "metadata": {
    "ExecuteTime": {
     "end_time": "2023-03-25T19:39:56.113545Z",
     "start_time": "2023-03-25T19:39:56.050763Z"
    }
   },
   "outputs": [],
   "source": [
    "# Forma de Reserva\n",
    "data5 = pd.get_dummies( data5, prefix=['reserva'], columns=['Forma de Reserva'] )"
   ]
  },
  {
   "cell_type": "markdown",
   "id": "34071779",
   "metadata": {},
   "source": [
    "# 6.0. Feature Selection"
   ]
  },
  {
   "cell_type": "code",
   "execution_count": null,
   "id": "fffd53bf",
   "metadata": {
    "ExecuteTime": {
     "end_time": "2023-03-25T19:39:58.018663Z",
     "start_time": "2023-03-25T19:39:58.013260Z"
    }
   },
   "outputs": [],
   "source": [
    "data6 = data5.copy()"
   ]
  },
  {
   "cell_type": "markdown",
   "id": "9dbd8145",
   "metadata": {},
   "source": [
    "## 6.1. Manual Feature Selection"
   ]
  },
  {
   "cell_type": "code",
   "execution_count": null,
   "id": "773f7acf",
   "metadata": {
    "ExecuteTime": {
     "end_time": "2023-03-25T18:43:14.827655Z",
     "start_time": "2023-03-25T18:43:14.818081Z"
    }
   },
   "outputs": [],
   "source": [
    "data6.columns"
   ]
  },
  {
   "cell_type": "code",
   "execution_count": null,
   "id": "8a6cd489",
   "metadata": {
    "ExecuteTime": {
     "end_time": "2023-03-25T18:58:39.814735Z",
     "start_time": "2023-03-25T18:58:39.805598Z"
    }
   },
   "outputs": [],
   "source": [
    "data6 = data6.drop(['id', 'Reserva feita por empresa','Reserva feita por agência de turismo'], axis = 1)"
   ]
  },
  {
   "cell_type": "code",
   "execution_count": null,
   "id": "cdfaf30b",
   "metadata": {
    "ExecuteTime": {
     "end_time": "2023-03-25T18:31:38.877051Z",
     "start_time": "2023-03-25T18:31:38.870070Z"
    },
    "scrolled": true
   },
   "outputs": [],
   "source": [
    "#plot_barras_empilhadas(data6,'reserva_B2B', 'Reserva Cancelada', figsize = (20,4))"
   ]
  },
  {
   "cell_type": "markdown",
   "id": "94819bbe",
   "metadata": {},
   "source": [
    "## 6.2. Extra Trees Feature Selection"
   ]
  },
  {
   "cell_type": "code",
   "execution_count": null,
   "id": "bd243d9b",
   "metadata": {
    "ExecuteTime": {
     "end_time": "2023-03-25T19:40:36.833321Z",
     "start_time": "2023-03-25T19:40:30.239846Z"
    }
   },
   "outputs": [],
   "source": [
    "##### Extra trees ######\n",
    "y = data6['Reserva Cancelada']\n",
    "X = data6.drop(['Reserva Cancelada', 'id'], axis = 1)\n",
    "\n",
    "# Model definition\n",
    "extra_trees = ExtraTreesClassifier( n_estimators = 250, n_jobs = -1 )\n",
    "\n",
    "# Training model\n",
    "extra_trees.fit( X, y )\n",
    "\n",
    "# Get feature importances\n",
    "importances = extra_trees.feature_importances_\n",
    "\n",
    "# Load std of estimators feature importances\n",
    "std_importances = np.std( [tree.feature_importances_ for tree in extra_trees.estimators_], axis = 0 )\n",
    "\n",
    "# Sort list of feature importance\n",
    "indices_importances = np.argsort( importances )[::-1]\n",
    "\n",
    "# Print feature ranking\n",
    "print('Feature Ranking: ')\n",
    "df = pd.DataFrame()\n",
    "for i, j in zip(X, extra_trees.feature_importances_):\n",
    "    aux = pd.DataFrame( {'feature': i, 'importance': j}, index = [0])\n",
    "    df = pd.concat( [ df, aux], axis = 0 )\n",
    "    df = df.sort_values( 'importance', ascending = False ) \n",
    "print( df )"
   ]
  },
  {
   "cell_type": "code",
   "execution_count": null,
   "id": "deaec599",
   "metadata": {
    "ExecuteTime": {
     "end_time": "2023-03-25T19:41:04.305730Z",
     "start_time": "2023-03-25T19:41:03.756402Z"
    },
    "scrolled": false
   },
   "outputs": [],
   "source": [
    "# Plot impurity-based feature importances of the forest\n",
    "plt.figure(figsize = (6, 4) )\n",
    "plt.title('Feature Importances')\n",
    "plt.bar( range (X.shape[1]), importances[indices_importances], \n",
    "         color = \"r\", yerr = std_importances[indices_importances], align = \"center\")\n",
    "plt.xticks( range( X.shape[1]), df['feature'].values, rotation = 90 )\n",
    "plt.xlim( [ -1, X.shape[1] ] )\n",
    "plt.show()"
   ]
  },
  {
   "cell_type": "markdown",
   "id": "648fbaef",
   "metadata": {},
   "source": [
    "## 6.3. Final feature Selection"
   ]
  },
  {
   "cell_type": "markdown",
   "id": "b65ef529",
   "metadata": {},
   "source": [
    "# 7.0. Machine Learning Modelling"
   ]
  },
  {
   "cell_type": "code",
   "execution_count": 44,
   "id": "245234d7",
   "metadata": {
    "ExecuteTime": {
     "end_time": "2023-03-25T20:13:34.462432Z",
     "start_time": "2023-03-25T20:13:34.412421Z"
    }
   },
   "outputs": [
    {
     "ename": "NameError",
     "evalue": "name 'data6' is not defined",
     "output_type": "error",
     "traceback": [
      "\u001b[0;31m---------------------------------------------------------------------------\u001b[0m",
      "\u001b[0;31mNameError\u001b[0m                                 Traceback (most recent call last)",
      "Cell \u001b[0;32mIn[44], line 1\u001b[0m\n\u001b[0;32m----> 1\u001b[0m data7 \u001b[38;5;241m=\u001b[39m \u001b[43mdata6\u001b[49m\u001b[38;5;241m.\u001b[39mcopy()\n",
      "\u001b[0;31mNameError\u001b[0m: name 'data6' is not defined"
     ]
    }
   ],
   "source": [
    "data7 = data6.copy()"
   ]
  },
  {
   "cell_type": "code",
   "execution_count": 74,
   "id": "c342eb5a",
   "metadata": {
    "ExecuteTime": {
     "end_time": "2023-03-25T20:18:24.102398Z",
     "start_time": "2023-03-25T20:18:24.088470Z"
    }
   },
   "outputs": [],
   "source": [
    "y = data['Reserva Cancelada']\n",
    "X = data.drop('Reserva Cancelada', axis = 1)"
   ]
  },
  {
   "cell_type": "code",
   "execution_count": 75,
   "id": "23e1012a",
   "metadata": {
    "ExecuteTime": {
     "end_time": "2023-03-25T20:18:38.906525Z",
     "start_time": "2023-03-25T20:18:25.335114Z"
    }
   },
   "outputs": [],
   "source": [
    "X_train, X_test, y_train, y_test = train_test_split( X, y, test_size = 0.2 )\n",
    "\n",
    "X_train, X_test = preprocessing( X_train, X_test, y_train )"
   ]
  },
  {
   "cell_type": "markdown",
   "id": "1c074971",
   "metadata": {},
   "source": [
    "## 7.1. Models"
   ]
  },
  {
   "cell_type": "markdown",
   "id": "0f58338d",
   "metadata": {},
   "source": [
    "### 7.1.1. XGBoost"
   ]
  },
  {
   "cell_type": "markdown",
   "id": "527c3993",
   "metadata": {},
   "source": [
    "#### 7.1.1.1. Model Definition"
   ]
  },
  {
   "cell_type": "code",
   "execution_count": 76,
   "id": "429572e0",
   "metadata": {
    "ExecuteTime": {
     "end_time": "2023-03-25T20:19:19.250990Z",
     "start_time": "2023-03-25T20:18:41.281411Z"
    }
   },
   "outputs": [],
   "source": [
    "# Definição modelo\n",
    "xgb_model = XGBClassifier(n_estimators = 500, max_depth = 6, random_state = 42)\n",
    "\n",
    "# Treino\n",
    "xgb_model.fit(X_train, y_train)\n",
    "\n",
    "# Predictions\n",
    "xgb_probas = xgb_model.predict_proba(X_test)\n",
    "xgb_probas = xgb_probas.T[1]"
   ]
  },
  {
   "cell_type": "code",
   "execution_count": 77,
   "id": "238c5d3a",
   "metadata": {
    "ExecuteTime": {
     "end_time": "2023-03-25T20:19:29.725176Z",
     "start_time": "2023-03-25T20:19:27.676276Z"
    }
   },
   "outputs": [],
   "source": [
    "limiares  = np.arange(0,1, 0.01)\n",
    "\n",
    "xgb_scores = []\n",
    "\n",
    "for limiar in limiares:\n",
    "    predictions = []\n",
    "    \n",
    "    for proba in xgb_probas:\n",
    "        if proba > limiar:\n",
    "            predictions.append(1)\n",
    "        else:\n",
    "            predictions.append(0)\n",
    "            \n",
    "    f1 = metrics.f1_score(y_test, predictions)\n",
    "    \n",
    "    xgb_scores.append(f1)"
   ]
  },
  {
   "cell_type": "code",
   "execution_count": 78,
   "id": "d89f74f2",
   "metadata": {
    "ExecuteTime": {
     "end_time": "2023-03-25T20:19:32.188984Z",
     "start_time": "2023-03-25T20:19:31.647280Z"
    }
   },
   "outputs": [
    {
     "data": {
      "text/plain": [
       "<Axes: >"
      ]
     },
     "execution_count": 78,
     "metadata": {},
     "output_type": "execute_result"
    },
    {
     "data": {
      "image/png": "[encoded data removed]",
      "text/plain": [
       "<Figure size 800x500 with 1 Axes>"
      ]
     },
     "metadata": {},
     "output_type": "display_data"
    }
   ],
   "source": [
    "plt.figure(figsize = (8,5))\n",
    "sns.lineplot(x = limiares, y = xgb_scores)"
   ]
  },
  {
   "cell_type": "code",
   "execution_count": 79,
   "id": "263ffca2",
   "metadata": {
    "ExecuteTime": {
     "end_time": "2023-03-25T20:19:37.936805Z",
     "start_time": "2023-03-25T20:19:37.842157Z"
    }
   },
   "outputs": [],
   "source": [
    "xgb_predictions = []\n",
    "limiar = 0.5\n",
    "\n",
    "for proba in xgb_probas:\n",
    "    if proba > limiar:\n",
    "        xgb_predictions.append(1)\n",
    "    else:\n",
    "        xgb_predictions.append(0)"
   ]
  },
  {
   "cell_type": "code",
   "execution_count": 80,
   "id": "4ded7cc4",
   "metadata": {
    "ExecuteTime": {
     "end_time": "2023-03-25T20:19:40.312929Z",
     "start_time": "2023-03-25T20:19:40.291176Z"
    }
   },
   "outputs": [
    {
     "data": {
      "text/plain": [
       "array([[8639,  348],\n",
       "       [ 297, 5148]])"
      ]
     },
     "execution_count": 80,
     "metadata": {},
     "output_type": "execute_result"
    }
   ],
   "source": [
    "confusion_matrix(y_test, xgb_predictions)"
   ]
  },
  {
   "cell_type": "code",
   "execution_count": 81,
   "id": "685cf8e1",
   "metadata": {
    "ExecuteTime": {
     "end_time": "2023-03-25T20:19:42.488009Z",
     "start_time": "2023-03-25T20:19:42.463176Z"
    }
   },
   "outputs": [
    {
     "data": {
      "text/plain": [
       "0.9410474362489718"
      ]
     },
     "execution_count": 81,
     "metadata": {},
     "output_type": "execute_result"
    }
   ],
   "source": [
    "metrics.f1_score(y_test, xgb_predictions)"
   ]
  },
  {
   "cell_type": "markdown",
   "id": "f97240df",
   "metadata": {},
   "source": [
    "#### 7.1.1.2. Model Evaluation"
   ]
  },
  {
   "cell_type": "markdown",
   "id": "19b71353",
   "metadata": {},
   "source": [
    "## 7.2. Comparing Models Performance"
   ]
  },
  {
   "cell_type": "markdown",
   "id": "ea03bed4",
   "metadata": {
    "heading_collapsed": true
   },
   "source": [
    "## 7.3. Selected Model"
   ]
  },
  {
   "cell_type": "markdown",
   "id": "96a7970f",
   "metadata": {},
   "source": [
    "# 8.0. Hyperparameter Fine Tuning"
   ]
  },
  {
   "cell_type": "markdown",
   "id": "b3cbf178",
   "metadata": {},
   "source": [
    "## 8.1. Optuna"
   ]
  },
  {
   "cell_type": "code",
   "execution_count": 97,
   "id": "ec6dbea6",
   "metadata": {
    "ExecuteTime": {
     "end_time": "2023-03-25T21:12:13.938101Z",
     "start_time": "2023-03-25T21:01:43.604546Z"
    }
   },
   "outputs": [
    {
     "name": "stderr",
     "output_type": "stream",
     "text": [
      "\u001b[32m[I 2023-03-25 18:01:53,899]\u001b[0m A new study created in memory with name: no-name-9121ef5c-f105-4b72-869a-2b3d84097137\u001b[0m\n",
      "\u001b[32m[I 2023-03-25 18:01:57,379]\u001b[0m Trial 0 finished with value: 0.7164910039391035 and parameters: {'max_depth': 3, 'learning_rate': 0.012805462365214041, 'min_child_weight': 7, 'subsample': 0.5748857001298437}. Best is trial 0 with value: 0.7164910039391035.\u001b[0m\n",
      "\u001b[32m[I 2023-03-25 18:02:10,955]\u001b[0m Trial 1 finished with value: 0.9301934398654331 and parameters: {'max_depth': 8, 'learning_rate': 0.5630185217709717, 'min_child_weight': 10, 'subsample': 0.6153129594659147}. Best is trial 1 with value: 0.9301934398654331.\u001b[0m\n",
      "\u001b[32m[I 2023-03-25 18:02:32,978]\u001b[0m Trial 2 finished with value: 0.9084133047610174 and parameters: {'max_depth': 10, 'learning_rate': 0.011701699774832043, 'min_child_weight': 7, 'subsample': 0.5301956935380451}. Best is trial 1 with value: 0.9301934398654331.\u001b[0m\n",
      "\u001b[32m[I 2023-03-25 18:02:37,954]\u001b[0m Trial 3 finished with value: 0.9172163894824863 and parameters: {'max_depth': 4, 'learning_rate': 0.6093906254596749, 'min_child_weight': 2, 'subsample': 0.7159893111368336}. Best is trial 1 with value: 0.9301934398654331.\u001b[0m\n",
      "\u001b[32m[I 2023-03-25 18:02:48,576]\u001b[0m Trial 4 finished with value: 0.9370904325032766 and parameters: {'max_depth': 8, 'learning_rate': 0.5605387003967105, 'min_child_weight': 5, 'subsample': 0.8581783677205157}. Best is trial 4 with value: 0.9370904325032766.\u001b[0m\n",
      "\u001b[32m[I 2023-03-25 18:03:01,924]\u001b[0m Trial 5 finished with value: 0.9296272194849865 and parameters: {'max_depth': 8, 'learning_rate': 0.2702633662620282, 'min_child_weight': 8, 'subsample': 0.5923974393976233}. Best is trial 4 with value: 0.9370904325032766.\u001b[0m\n",
      "\u001b[32m[I 2023-03-25 18:03:10,062]\u001b[0m Trial 6 finished with value: 0.9271115258982735 and parameters: {'max_depth': 6, 'learning_rate': 0.49729138165358927, 'min_child_weight': 8, 'subsample': 0.7658296713873372}. Best is trial 4 with value: 0.9370904325032766.\u001b[0m\n",
      "\u001b[32m[I 2023-03-25 18:03:15,980]\u001b[0m Trial 7 finished with value: 0.8986775935928478 and parameters: {'max_depth': 3, 'learning_rate': 0.5511848474504678, 'min_child_weight': 8, 'subsample': 0.666368369173164}. Best is trial 4 with value: 0.9370904325032766.\u001b[0m\n",
      "\u001b[32m[I 2023-03-25 18:03:24,938]\u001b[0m Trial 8 finished with value: 0.8304597701149425 and parameters: {'max_depth': 5, 'learning_rate': 0.03640509828201226, 'min_child_weight': 8, 'subsample': 0.6793749265923629}. Best is trial 4 with value: 0.9370904325032766.\u001b[0m\n",
      "\u001b[32m[I 2023-03-25 18:03:49,508]\u001b[0m Trial 9 finished with value: 0.9161948955916475 and parameters: {'max_depth': 10, 'learning_rate': 0.04174670319758867, 'min_child_weight': 9, 'subsample': 0.6603239321659279}. Best is trial 4 with value: 0.9370904325032766.\u001b[0m\n",
      "\u001b[32m[I 2023-03-25 18:03:51,577]\u001b[0m Trial 10 finished with value: 0.7945987067325978 and parameters: {'max_depth': 1, 'learning_rate': 0.1824991861600458, 'min_child_weight': 4, 'subsample': 0.9289982873001406}. Best is trial 4 with value: 0.9370904325032766.\u001b[0m\n",
      "\u001b[32m[I 2023-03-25 18:04:05,501]\u001b[0m Trial 11 finished with value: 0.9356166947407824 and parameters: {'max_depth': 8, 'learning_rate': 0.9725298770545178, 'min_child_weight': 4, 'subsample': 0.8429089128810218}. Best is trial 4 with value: 0.9370904325032766.\u001b[0m\n",
      "\u001b[32m[I 2023-03-25 18:04:20,609]\u001b[0m Trial 12 finished with value: 0.9362060889929742 and parameters: {'max_depth': 8, 'learning_rate': 0.9067706643691257, 'min_child_weight': 4, 'subsample': 0.8597423004941913}. Best is trial 4 with value: 0.9370904325032766.\u001b[0m\n",
      "\u001b[32m[I 2023-03-25 18:04:35,861]\u001b[0m Trial 13 finished with value: 0.928147047901968 and parameters: {'max_depth': 7, 'learning_rate': 0.2346849321035315, 'min_child_weight': 5, 'subsample': 0.9909841636393288}. Best is trial 4 with value: 0.9370904325032766.\u001b[0m\n",
      "\u001b[32m[I 2023-03-25 18:04:53,778]\u001b[0m Trial 14 finished with value: 0.9387030461595963 and parameters: {'max_depth': 9, 'learning_rate': 0.9973904852017015, 'min_child_weight': 1, 'subsample': 0.8339129662214675}. Best is trial 14 with value: 0.9387030461595963.\u001b[0m\n",
      "\u001b[32m[I 2023-03-25 18:05:13,879]\u001b[0m Trial 15 finished with value: 0.94102252546967 and parameters: {'max_depth': 10, 'learning_rate': 0.3088917210101614, 'min_child_weight': 1, 'subsample': 0.8047242608364303}. Best is trial 15 with value: 0.94102252546967.\u001b[0m\n",
      "\u001b[32m[I 2023-03-25 18:05:38,218]\u001b[0m Trial 16 finished with value: 0.9394700139470014 and parameters: {'max_depth': 10, 'learning_rate': 0.13953128840754608, 'min_child_weight': 1, 'subsample': 0.7759722844487185}. Best is trial 15 with value: 0.94102252546967.\u001b[0m\n",
      "\u001b[32m[I 2023-03-25 18:05:59,102]\u001b[0m Trial 17 finished with value: 0.9352919300855336 and parameters: {'max_depth': 10, 'learning_rate': 0.12525217835307167, 'min_child_weight': 2, 'subsample': 0.7661405725628019}. Best is trial 15 with value: 0.94102252546967.\u001b[0m\n",
      "\u001b[32m[I 2023-03-25 18:06:10,886]\u001b[0m Trial 18 finished with value: 0.8925743035497997 and parameters: {'max_depth': 6, 'learning_rate': 0.08721104086360008, 'min_child_weight': 1, 'subsample': 0.7573552707358812}. Best is trial 15 with value: 0.94102252546967.\u001b[0m\n",
      "\u001b[32m[I 2023-03-25 18:06:32,525]\u001b[0m Trial 19 finished with value: 0.9389013452914798 and parameters: {'max_depth': 9, 'learning_rate': 0.3204381499227735, 'min_child_weight': 2, 'subsample': 0.7317158679571247}. Best is trial 15 with value: 0.94102252546967.\u001b[0m\n",
      "\u001b[32m[I 2023-03-25 18:06:51,577]\u001b[0m Trial 20 finished with value: 0.9330236878773803 and parameters: {'max_depth': 9, 'learning_rate': 0.13842112983264745, 'min_child_weight': 3, 'subsample': 0.7918782014174512}. Best is trial 15 with value: 0.94102252546967.\u001b[0m\n",
      "\u001b[32m[I 2023-03-25 18:07:05,777]\u001b[0m Trial 21 finished with value: 0.9381702881656253 and parameters: {'max_depth': 9, 'learning_rate': 0.3516314439310435, 'min_child_weight': 2, 'subsample': 0.7151793328988238}. Best is trial 15 with value: 0.94102252546967.\u001b[0m\n",
      "\u001b[32m[I 2023-03-25 18:07:18,576]\u001b[0m Trial 22 finished with value: 0.9411544928077713 and parameters: {'max_depth': 10, 'learning_rate': 0.3189667434286865, 'min_child_weight': 1, 'subsample': 0.7316605604536948}. Best is trial 22 with value: 0.9411544928077713.\u001b[0m\n",
      "\u001b[32m[I 2023-03-25 18:07:41,212]\u001b[0m Trial 23 finished with value: 0.9407151526468117 and parameters: {'max_depth': 10, 'learning_rate': 0.19940992884810532, 'min_child_weight': 1, 'subsample': 0.7995307525148561}. Best is trial 22 with value: 0.9411544928077713.\u001b[0m\n",
      "\u001b[32m[I 2023-03-25 18:07:52,376]\u001b[0m Trial 24 finished with value: 0.9272744203370892 and parameters: {'max_depth': 7, 'learning_rate': 0.22347323963148094, 'min_child_weight': 3, 'subsample': 0.8115767173795811}. Best is trial 22 with value: 0.9411544928077713.\u001b[0m\n",
      "\u001b[32m[I 2023-03-25 18:08:13,328]\u001b[0m Trial 25 finished with value: 0.9419776119402986 and parameters: {'max_depth': 10, 'learning_rate': 0.34243651091553046, 'min_child_weight': 1, 'subsample': 0.8775578975948042}. Best is trial 25 with value: 0.9419776119402986.\u001b[0m\n",
      "\u001b[32m[I 2023-03-25 18:08:28,554]\u001b[0m Trial 26 finished with value: 0.9380943501771396 and parameters: {'max_depth': 9, 'learning_rate': 0.3646808913530443, 'min_child_weight': 3, 'subsample': 0.9162809208779223}. Best is trial 25 with value: 0.9419776119402986.\u001b[0m\n",
      "\u001b[32m[I 2023-03-25 18:08:40,635]\u001b[0m Trial 27 finished with value: 0.9348880597014926 and parameters: {'max_depth': 7, 'learning_rate': 0.38029449108925345, 'min_child_weight': 1, 'subsample': 0.8852913414809859}. Best is trial 25 with value: 0.9419776119402986.\u001b[0m\n",
      "\u001b[32m[I 2023-03-25 18:08:43,222]\u001b[0m Trial 28 finished with value: 0.8079306071871128 and parameters: {'max_depth': 1, 'learning_rate': 0.2789057971320229, 'min_child_weight': 2, 'subsample': 0.8160016728879035}. Best is trial 25 with value: 0.9419776119402986.\u001b[0m\n",
      "\u001b[32m[I 2023-03-25 18:08:59,810]\u001b[0m Trial 29 finished with value: 0.9403110159232703 and parameters: {'max_depth': 10, 'learning_rate': 0.431758886405349, 'min_child_weight': 3, 'subsample': 0.7328393605858872}. Best is trial 25 with value: 0.9419776119402986.\u001b[0m\n",
      "\u001b[32m[I 2023-03-25 18:09:03,041]\u001b[0m Trial 30 finished with value: 0.8731315396113601 and parameters: {'max_depth': 2, 'learning_rate': 0.7060772298630843, 'min_child_weight': 6, 'subsample': 0.8918172646126565}. Best is trial 25 with value: 0.9419776119402986.\u001b[0m\n"
     ]
    },
    {
     "name": "stderr",
     "output_type": "stream",
     "text": [
      "\u001b[32m[I 2023-03-25 18:09:22,698]\u001b[0m Trial 31 finished with value: 0.9405304792926943 and parameters: {'max_depth': 10, 'learning_rate': 0.20087750574588512, 'min_child_weight': 1, 'subsample': 0.8103440821713205}. Best is trial 25 with value: 0.9419776119402986.\u001b[0m\n",
      "\u001b[32m[I 2023-03-25 18:09:39,049]\u001b[0m Trial 32 finished with value: 0.9366946778711485 and parameters: {'max_depth': 9, 'learning_rate': 0.3009608422953685, 'min_child_weight': 1, 'subsample': 0.803911130636428}. Best is trial 25 with value: 0.9419776119402986.\u001b[0m\n",
      "\u001b[32m[I 2023-03-25 18:09:56,581]\u001b[0m Trial 33 finished with value: 0.9402650737352997 and parameters: {'max_depth': 10, 'learning_rate': 0.4560309960597724, 'min_child_weight': 2, 'subsample': 0.7479247414553897}. Best is trial 25 with value: 0.9419776119402986.\u001b[0m\n",
      "\u001b[32m[I 2023-03-25 18:10:13,599]\u001b[0m Trial 34 finished with value: 0.9371971673499814 and parameters: {'max_depth': 9, 'learning_rate': 0.17658330639187966, 'min_child_weight': 1, 'subsample': 0.7811639429723205}. Best is trial 25 with value: 0.9419776119402986.\u001b[0m\n",
      "\u001b[32m[I 2023-03-25 18:10:27,737]\u001b[0m Trial 35 finished with value: 0.9410117603136084 and parameters: {'max_depth': 10, 'learning_rate': 0.2588218464984028, 'min_child_weight': 2, 'subsample': 0.7051823150997424}. Best is trial 25 with value: 0.9419776119402986.\u001b[0m\n",
      "\u001b[32m[I 2023-03-25 18:10:36,434]\u001b[0m Trial 36 finished with value: 0.9373363262252151 and parameters: {'max_depth': 8, 'learning_rate': 0.42128403335421255, 'min_child_weight': 2, 'subsample': 0.7007414575574226}. Best is trial 25 with value: 0.9419776119402986.\u001b[0m\n",
      "\u001b[32m[I 2023-03-25 18:10:53,331]\u001b[0m Trial 37 finished with value: 0.9382531527323681 and parameters: {'max_depth': 9, 'learning_rate': 0.649512859427128, 'min_child_weight': 3, 'subsample': 0.6859617876095279}. Best is trial 25 with value: 0.9419776119402986.\u001b[0m\n",
      "\u001b[32m[I 2023-03-25 18:10:58,182]\u001b[0m Trial 38 finished with value: 0.8993950674732433 and parameters: {'max_depth': 4, 'learning_rate': 0.28792849188712927, 'min_child_weight': 10, 'subsample': 0.6320530567795304}. Best is trial 25 with value: 0.9419776119402986.\u001b[0m\n",
      "\u001b[32m[I 2023-03-25 18:11:13,842]\u001b[0m Trial 39 finished with value: 0.9382090951711205 and parameters: {'max_depth': 10, 'learning_rate': 0.5700647927983804, 'min_child_weight': 2, 'subsample': 0.5392669716116714}. Best is trial 25 with value: 0.9419776119402986.\u001b[0m\n",
      "\u001b[32m[I 2023-03-25 18:11:28,739]\u001b[0m Trial 40 finished with value: 0.9239624918763346 and parameters: {'max_depth': 7, 'learning_rate': 0.24273407273482617, 'min_child_weight': 6, 'subsample': 0.7063709663687849}. Best is trial 25 with value: 0.9419776119402986.\u001b[0m\n",
      "\u001b[32m[I 2023-03-25 18:11:51,524]\u001b[0m Trial 41 finished with value: 0.9422843822843823 and parameters: {'max_depth': 10, 'learning_rate': 0.35140412829357376, 'min_child_weight': 1, 'subsample': 0.7435920293033955}. Best is trial 41 with value: 0.9422843822843823.\u001b[0m\n",
      "\u001b[32m[I 2023-03-25 18:12:13,922]\u001b[0m Trial 42 finished with value: 0.9398355754857998 and parameters: {'max_depth': 10, 'learning_rate': 0.4655157311913803, 'min_child_weight': 1, 'subsample': 0.7390134787091737}. Best is trial 41 with value: 0.9422843822843823.\u001b[0m\n"
     ]
    },
    {
     "name": "stdout",
     "output_type": "stream",
     "text": [
      "Number of finished trials: 43\n",
      "Best trial:\n",
      "  Value: 0.9422843822843823\n",
      "  Params: \n",
      "    max_depth: 10\n",
      "    learning_rate: 0.35140412829357376\n",
      "    min_child_weight: 1\n",
      "    subsample: 0.7435920293033955\n"
     ]
    }
   ],
   "source": [
    "y = data['Reserva Cancelada']\n",
    "X = data.drop('Reserva Cancelada', axis = 1)\n",
    "\n",
    "X_train, X_test, y_train, y_test = train_test_split( X, y, test_size = 0.2 )\n",
    "\n",
    "X_train, X_test = preprocessing( X_train, X_test, y_train )\n",
    "\n",
    "def objective(trial):\n",
    "    \"\"\"Define the objective function\"\"\"\n",
    "\n",
    "    params = {\n",
    "                'max_depth': trial.suggest_int('max_depth', 1, 10),\n",
    "                'learning_rate': trial.suggest_loguniform('learning_rate', 0.01, 1.0),\n",
    "                'min_child_weight': trial.suggest_int('min_child_weight', 1, 10),\n",
    "                'subsample': trial.suggest_loguniform('subsample', 0.5, 1.0)\n",
    "            }\n",
    "\n",
    "    # Fit the model\n",
    "    optuna_model = XGBClassifier(**params)\n",
    "    optuna_model.fit(X_train, y_train)\n",
    "\n",
    "    # Make predictions\n",
    "    y_pred = optuna_model.predict(X_test)\n",
    "    xgb_predictions = optuna_model.predict(X_test)\n",
    "\n",
    "    # Evaluate predictions\n",
    "    f1_score = metrics.f1_score(y_test, xgb_predictions)\n",
    "    \n",
    "    return f1_score\n",
    "\n",
    "study = optuna.create_study(direction='maximize')\n",
    "study.optimize(objective, n_trials = 100, timeout = 600)\n",
    "\n",
    "print('Number of finished trials: {}'.format(len(study.trials)))\n",
    "print('Best trial:')\n",
    "trial = study.best_trial\n",
    "\n",
    "print('  Value: {}'.format(trial.value))\n",
    "print('  Params: ')\n",
    "\n",
    "for key, value in trial.params.items():\n",
    "     print('    {}: {}'.format(key, value))"
   ]
  },
  {
   "cell_type": "markdown",
   "id": "95a73d08",
   "metadata": {},
   "source": [
    "## 8.2. Final Model"
   ]
  },
  {
   "cell_type": "code",
   "execution_count": 100,
   "id": "afbec348",
   "metadata": {
    "ExecuteTime": {
     "end_time": "2023-03-25T21:15:17.215510Z",
     "start_time": "2023-03-25T21:15:01.432636Z"
    }
   },
   "outputs": [],
   "source": [
    "train_data = data.drop('Reserva Cancelada', axis = 1)\n",
    "X_train, X_test = preprocessing( train_data, test_data, data['Reserva Cancelada'] )"
   ]
  },
  {
   "cell_type": "code",
   "execution_count": 107,
   "id": "688a485a",
   "metadata": {
    "ExecuteTime": {
     "end_time": "2023-03-25T21:27:28.188710Z",
     "start_time": "2023-03-25T21:24:12.766952Z"
    }
   },
   "outputs": [
    {
     "data": {
      "text/html": [
       "<style>#sk-container-id-4 {color: black;background-color: white;}#sk-container-id-4 pre{padding: 0;}#sk-container-id-4 div.sk-toggleable {background-color: white;}#sk-container-id-4 label.sk-toggleable__label {cursor: pointer;display: block;width: 100%;margin-bottom: 0;padding: 0.3em;box-sizing: border-box;text-align: center;}#sk-container-id-4 label.sk-toggleable__label-arrow:before {content: \"▸\";float: left;margin-right: 0.25em;color: #696969;}#sk-container-id-4 label.sk-toggleable__label-arrow:hover:before {color: black;}#sk-container-id-4 div.sk-estimator:hover label.sk-toggleable__label-arrow:before {color: black;}#sk-container-id-4 div.sk-toggleable__content {max-height: 0;max-width: 0;overflow: hidden;text-align: left;background-color: #f0f8ff;}#sk-container-id-4 div.sk-toggleable__content pre {margin: 0.2em;color: black;border-radius: 0.25em;background-color: #f0f8ff;}#sk-container-id-4 input.sk-toggleable__control:checked~div.sk-toggleable__content {max-height: 200px;max-width: 100%;overflow: auto;}#sk-container-id-4 input.sk-toggleable__control:checked~label.sk-toggleable__label-arrow:before {content: \"▾\";}#sk-container-id-4 div.sk-estimator input.sk-toggleable__control:checked~label.sk-toggleable__label {background-color: #d4ebff;}#sk-container-id-4 div.sk-label input.sk-toggleable__control:checked~label.sk-toggleable__label {background-color: #d4ebff;}#sk-container-id-4 input.sk-hidden--visually {border: 0;clip: rect(1px 1px 1px 1px);clip: rect(1px, 1px, 1px, 1px);height: 1px;margin: -1px;overflow: hidden;padding: 0;position: absolute;width: 1px;}#sk-container-id-4 div.sk-estimator {font-family: monospace;background-color: #f0f8ff;border: 1px dotted black;border-radius: 0.25em;box-sizing: border-box;margin-bottom: 0.5em;}#sk-container-id-4 div.sk-estimator:hover {background-color: #d4ebff;}#sk-container-id-4 div.sk-parallel-item::after {content: \"\";width: 100%;border-bottom: 1px solid gray;flex-grow: 1;}#sk-container-id-4 div.sk-label:hover label.sk-toggleable__label {background-color: #d4ebff;}#sk-container-id-4 div.sk-serial::before {content: \"\";position: absolute;border-left: 1px solid gray;box-sizing: border-box;top: 0;bottom: 0;left: 50%;z-index: 0;}#sk-container-id-4 div.sk-serial {display: flex;flex-direction: column;align-items: center;background-color: white;padding-right: 0.2em;padding-left: 0.2em;position: relative;}#sk-container-id-4 div.sk-item {position: relative;z-index: 1;}#sk-container-id-4 div.sk-parallel {display: flex;align-items: stretch;justify-content: center;background-color: white;position: relative;}#sk-container-id-4 div.sk-item::before, #sk-container-id-4 div.sk-parallel-item::before {content: \"\";position: absolute;border-left: 1px solid gray;box-sizing: border-box;top: 0;bottom: 0;left: 50%;z-index: -1;}#sk-container-id-4 div.sk-parallel-item {display: flex;flex-direction: column;z-index: 1;position: relative;background-color: white;}#sk-container-id-4 div.sk-parallel-item:first-child::after {align-self: flex-end;width: 50%;}#sk-container-id-4 div.sk-parallel-item:last-child::after {align-self: flex-start;width: 50%;}#sk-container-id-4 div.sk-parallel-item:only-child::after {width: 0;}#sk-container-id-4 div.sk-dashed-wrapped {border: 1px dashed gray;margin: 0 0.4em 0.5em 0.4em;box-sizing: border-box;padding-bottom: 0.4em;background-color: white;}#sk-container-id-4 div.sk-label label {font-family: monospace;font-weight: bold;display: inline-block;line-height: 1.2em;}#sk-container-id-4 div.sk-label-container {text-align: center;}#sk-container-id-4 div.sk-container {/* jupyter's `normalize.less` sets `[hidden] { display: none; }` but bootstrap.min.css set `[hidden] { display: none !important; }` so we also need the `!important` here to be able to override the default hidden behavior on the sphinx rendered scikit-learn.org. See: https://github.com/scikit-learn/scikit-learn/issues/21755 */display: inline-block !important;position: relative;}#sk-container-id-4 div.sk-text-repr-fallback {display: none;}</style><div id=\"sk-container-id-4\" class=\"sk-top-container\"><div class=\"sk-text-repr-fallback\"><pre>XGBClassifier(base_score=None, booster=None, callbacks=None,\n",
       "              colsample_bylevel=None, colsample_bynode=None,\n",
       "              colsample_bytree=None, early_stopping_rounds=None,\n",
       "              enable_categorical=False, eval_metric=None, feature_types=None,\n",
       "              gamma=None, gpu_id=None, grow_policy=None, importance_type=None,\n",
       "              interaction_constraints=None, learning_rate=0.35140412829357376,\n",
       "              max_bin=None, max_cat_threshold=None, max_cat_to_onehot=None,\n",
       "              max_delta_step=None, max_depth=9, max_leaves=None,\n",
       "              min_child_weight=2, missing=nan, monotone_constraints=None,\n",
       "              n_estimators=1000, n_jobs=None, num_parallel_tree=None,\n",
       "              predictor=None, random_state=42, ...)</pre><b>In a Jupyter environment, please rerun this cell to show the HTML representation or trust the notebook. <br />On GitHub, the HTML representation is unable to render, please try loading this page with nbviewer.org.</b></div><div class=\"sk-container\" hidden><div class=\"sk-item\"><div class=\"sk-estimator sk-toggleable\"><input class=\"sk-toggleable__control sk-hidden--visually\" id=\"sk-estimator-id-4\" type=\"checkbox\" checked><label for=\"sk-estimator-id-4\" class=\"sk-toggleable__label sk-toggleable__label-arrow\">XGBClassifier</label><div class=\"sk-toggleable__content\"><pre>XGBClassifier(base_score=None, booster=None, callbacks=None,\n",
       "              colsample_bylevel=None, colsample_bynode=None,\n",
       "              colsample_bytree=None, early_stopping_rounds=None,\n",
       "              enable_categorical=False, eval_metric=None, feature_types=None,\n",
       "              gamma=None, gpu_id=None, grow_policy=None, importance_type=None,\n",
       "              interaction_constraints=None, learning_rate=0.35140412829357376,\n",
       "              max_bin=None, max_cat_threshold=None, max_cat_to_onehot=None,\n",
       "              max_delta_step=None, max_depth=9, max_leaves=None,\n",
       "              min_child_weight=2, missing=nan, monotone_constraints=None,\n",
       "              n_estimators=1000, n_jobs=None, num_parallel_tree=None,\n",
       "              predictor=None, random_state=42, ...)</pre></div></div></div></div></div>"
      ],
      "text/plain": [
       "XGBClassifier(base_score=None, booster=None, callbacks=None,\n",
       "              colsample_bylevel=None, colsample_bynode=None,\n",
       "              colsample_bytree=None, early_stopping_rounds=None,\n",
       "              enable_categorical=False, eval_metric=None, feature_types=None,\n",
       "              gamma=None, gpu_id=None, grow_policy=None, importance_type=None,\n",
       "              interaction_constraints=None, learning_rate=0.35140412829357376,\n",
       "              max_bin=None, max_cat_threshold=None, max_cat_to_onehot=None,\n",
       "              max_delta_step=None, max_depth=9, max_leaves=None,\n",
       "              min_child_weight=2, missing=nan, monotone_constraints=None,\n",
       "              n_estimators=1000, n_jobs=None, num_parallel_tree=None,\n",
       "              predictor=None, random_state=42, ...)"
      ]
     },
     "execution_count": 107,
     "metadata": {},
     "output_type": "execute_result"
    }
   ],
   "source": [
    "model = XGBClassifier(n_estimators = 1000, max_depth = 10, learning_rate = 0.35140412829357376, min_child_weight = 1, subsample =  0.7435920293033955, random_state = 42)\n",
    "model.fit(X_train, data['Reserva Cancelada'])"
   ]
  },
  {
   "cell_type": "markdown",
   "id": "be2b90c2",
   "metadata": {},
   "source": [
    "## 8.3. Final Predictions"
   ]
  },
  {
   "cell_type": "code",
   "execution_count": 108,
   "id": "7c3d80b9",
   "metadata": {
    "ExecuteTime": {
     "end_time": "2023-03-25T21:28:02.417900Z",
     "start_time": "2023-03-25T21:28:01.509180Z"
    }
   },
   "outputs": [],
   "source": [
    "predict_proba = model.predict_proba(X_test).T[1]\n",
    "predictions = []\n",
    "\n",
    "limiar = 0.5\n",
    "\n",
    "for proba in predict_proba:\n",
    "    if proba > limiar:\n",
    "        predictions.append(1)\n",
    "    else:\n",
    "        predictions.append(0)"
   ]
  },
  {
   "cell_type": "code",
   "execution_count": 109,
   "id": "2d218757",
   "metadata": {
    "ExecuteTime": {
     "end_time": "2023-03-25T21:28:03.322917Z",
     "start_time": "2023-03-25T21:28:03.281478Z"
    }
   },
   "outputs": [],
   "source": [
    "sumbmission_data = pd.DataFrame(test_data['id'])\n",
    "sumbmission_data['Reserva Cancelada'] = predictions"
   ]
  },
  {
   "cell_type": "markdown",
   "id": "1bedeb84",
   "metadata": {},
   "source": [
    "## 8.4. Export Data"
   ]
  },
  {
   "cell_type": "code",
   "execution_count": 110,
   "id": "2df20439",
   "metadata": {
    "ExecuteTime": {
     "end_time": "2023-03-25T21:28:07.058092Z",
     "start_time": "2023-03-25T21:28:06.933180Z"
    }
   },
   "outputs": [],
   "source": [
    "sumbmission_data.to_csv('../data/submission_8.csv', index = False)"
   ]
  },
  {
   "cell_type": "markdown",
   "id": "f71e9cfc",
   "metadata": {
    "heading_collapsed": true
   },
   "source": [
    "# 9.0. Error Interpretation"
   ]
  },
  {
   "cell_type": "markdown",
   "id": "8fcb254a",
   "metadata": {
    "heading_collapsed": true,
    "hidden": true
   },
   "source": [
    "## 9.1. Model Performance"
   ]
  }
 ],
 "metadata": {
  "kernelspec": {
   "display_name": "Python 3 (ipykernel)",
   "language": "python",
   "name": "python3"
  },
  "language_info": {
   "codemirror_mode": {
    "name": "ipython",
    "version": 3
   },
   "file_extension": ".py",
   "mimetype": "text/x-python",
   "name": "python",
   "nbconvert_exporter": "python",
   "pygments_lexer": "ipython3",
   "version": "3.9.13"
  },
  "varInspector": {
   "cols": {
    "lenName": 16,
    "lenType": 16,
    "lenVar": 40
   },
   "kernels_config": {
    "python": {
     "delete_cmd_postfix": "",
     "delete_cmd_prefix": "del ",
     "library": "var_list.py",
     "varRefreshCmd": "print(var_dic_list())"
    },
    "r": {
     "delete_cmd_postfix": ") ",
     "delete_cmd_prefix": "rm(",
     "library": "var_list.r",
     "varRefreshCmd": "cat(var_dic_list()) "
    }
   },
   "types_to_exclude": [
    "module",
    "function",
    "builtin_function_or_method",
    "instance",
    "_Feature"
   ],
   "window_display": false
  }
 },
 "nbformat": 4,
 "nbformat_minor": 5
}
