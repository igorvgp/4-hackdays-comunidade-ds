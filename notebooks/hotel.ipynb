{
 "cells": [
  {
   "cell_type": "markdown",
   "metadata": {},
   "source": [
    "# 0.0. IMPORTS"
   ]
  },
  {
   "cell_type": "code",
   "execution_count": 3,
   "metadata": {
    "ExecuteTime": {
     "end_time": "2023-03-26T12:30:48.916470Z",
     "start_time": "2023-03-26T12:30:48.889618Z"
    }
   },
   "outputs": [],
   "source": [
    "import math\n",
    "import optuna\n",
    "import numpy  as np\n",
    "import pandas as pd\n",
    "import warnings\n",
    "import seaborn as sns\n",
    "import xgboost as xgb\n",
    "\n",
    "from sklearn.decomposition   import PCA\n",
    "from IPython.display         import HTML\n",
    "from sklearn.manifold        import TSNE\n",
    "from scipy                 import stats  as ss\n",
    "from matplotlib            import pyplot as plt\n",
    "from IPython.display       import Image\n",
    "from IPython.core.display  import HTML\n",
    "\n",
    "from sklearn.decomposition   import TruncatedSVD\n",
    "\n",
    "from sklearn        import metrics\n",
    "from sklearn.ensemble      import RandomForestClassifier\n",
    "from sklearn.linear_model  import LinearRegression, Lasso\n",
    "from sklearn.preprocessing import RobustScaler, MinMaxScaler, LabelEncoder\n",
    "from sklearn.model_selection import train_test_split\n",
    "from sklearn.linear_model import LogisticRegression\n",
    "warnings.filterwarnings( 'ignore' )"
   ]
  },
  {
   "cell_type": "markdown",
   "metadata": {},
   "source": [
    "## 0.2. Loading data"
   ]
  },
  {
   "cell_type": "code",
   "execution_count": 6,
   "metadata": {
    "ExecuteTime": {
     "end_time": "2023-03-26T12:30:59.196538Z",
     "start_time": "2023-03-26T12:30:59.028363Z"
    }
   },
   "outputs": [],
   "source": [
    "df = pd.read_csv('../data/train.csv')"
   ]
  },
  {
   "cell_type": "markdown",
   "metadata": {
    "heading_collapsed": true
   },
   "source": [
    "## 0.3. Funções"
   ]
  },
  {
   "cell_type": "code",
   "execution_count": 16,
   "metadata": {
    "hidden": true
   },
   "outputs": [],
   "source": [
    "def embedding_svd(x, X_test, y):\n",
    "    ###### Feature Engineering\n",
    "\n",
    "    # Tree Based embedding\n",
    "\n",
    "    # Model definition\n",
    "    rf_model_emb = RandomForestClassifier( n_estimators = 100, random_state = 42 )\n",
    "\n",
    "    # Model training\n",
    "    rf_model_emb.fit( x, y )\n",
    "\n",
    "    # Leaf\n",
    "    df_leaf_emb = pd.DataFrame( rf_model_emb.apply( x ) )\n",
    "\n",
    "    reducer_emb = TruncatedSVD( n_components = 3, random_state = 42 )\n",
    "\n",
    "    embedding = reducer_emb.fit_transform( df_leaf_emb )\n",
    "\n",
    "    # embedding\n",
    "    df_leaf_emb['embedding_x'] = embedding[: , 0]\n",
    "    df_leaf_emb['embedding_y'] = embedding[: , 1]\n",
    "    df_leaf_emb['embedding_z'] = embedding[: , 2]\n",
    "\n",
    "    df_leaf_emb['Reserva Cancelada'] = y\n",
    "\n",
    "    x['embedding_x'] = embedding[: , 0]\n",
    "    x['embedding_y'] = embedding[: , 1]\n",
    "    x['embedding_z'] = embedding[: , 2]\n",
    "    \n",
    "    x_leaf = pd.DataFrame( rf_model_emb.apply( x ) )   \n",
    "    \n",
    "    embedding_prep = reducer_emb.transform(x_leaf)\n",
    "    \n",
    "    x['embedding_x'] = embedding_prep[: , 0]\n",
    "    x['embedding_y'] = embedding_prep[: , 1]\n",
    "    x['embedding_z'] = embedding_prep[: , 2]\n",
    "    \n",
    "    return x, y"
   ]
  },
  {
   "cell_type": "markdown",
   "metadata": {
    "ExecuteTime": {
     "end_time": "2019-11-10T11:26:41.736121Z",
     "start_time": "2019-11-10T11:26:41.732986Z"
    }
   },
   "source": [
    "## 1.3. Data Types"
   ]
  },
  {
   "cell_type": "code",
   "execution_count": 3,
   "metadata": {
    "ExecuteTime": {
     "end_time": "2020-01-08T11:25:27.937245Z",
     "start_time": "2020-01-08T11:25:27.716659Z"
    }
   },
   "outputs": [
    {
     "data": {
      "text/plain": [
       "id                                        int64\n",
       "Classificação do hotel                   object\n",
       "Meses da reserva até o check-in           int64\n",
       "Número de pernoites reservadas            int64\n",
       "Número de hospedes                      float64\n",
       "Regime de alimentação                    object\n",
       "Nacionalidade                            object\n",
       "Forma de Reserva                         object\n",
       "Já se hospedou anterioremente            object\n",
       "Tipo do quarto reservado                 object\n",
       "Reserva feita por agência de turismo     object\n",
       "Reserva feita por empresa                object\n",
       "Reserva com Estacionamento               object\n",
       "Reserva com Observações                  object\n",
       "Reserva Cancelada                         int64\n",
       "dtype: object"
      ]
     },
     "execution_count": 3,
     "metadata": {},
     "output_type": "execute_result"
    }
   ],
   "source": [
    "df.dtypes"
   ]
  },
  {
   "cell_type": "markdown",
   "metadata": {
    "ExecuteTime": {
     "end_time": "2019-11-10T11:26:41.736121Z",
     "start_time": "2019-11-10T11:26:41.732986Z"
    }
   },
   "source": [
    "## 1.4. Check NA"
   ]
  },
  {
   "cell_type": "code",
   "execution_count": 7,
   "metadata": {
    "ExecuteTime": {
     "end_time": "2023-03-26T12:31:35.706898Z",
     "start_time": "2023-03-26T12:31:35.586602Z"
    }
   },
   "outputs": [
    {
     "data": {
      "text/plain": [
       "id                                         0\n",
       "Classificação do hotel                     0\n",
       "Meses da reserva até o check-in            0\n",
       "Número de pernoites reservadas             0\n",
       "Número de hospedes                         3\n",
       "Regime de alimentação                      0\n",
       "Nacionalidade                           1093\n",
       "Forma de Reserva                           0\n",
       "Já se hospedou anterioremente              0\n",
       "Tipo do quarto reservado                   0\n",
       "Reserva feita por agência de turismo       0\n",
       "Reserva feita por empresa                  0\n",
       "Reserva com Estacionamento                 0\n",
       "Reserva com Observações                    0\n",
       "Reserva Cancelada                          0\n",
       "dtype: int64"
      ]
     },
     "execution_count": 7,
     "metadata": {},
     "output_type": "execute_result"
    }
   ],
   "source": [
    "df.isna().sum()"
   ]
  },
  {
   "cell_type": "markdown",
   "metadata": {
    "ExecuteTime": {
     "end_time": "2019-11-10T11:26:41.736121Z",
     "start_time": "2019-11-10T11:26:41.732986Z"
    }
   },
   "source": [
    "## 1.5. Fillout NA"
   ]
  },
  {
   "cell_type": "code",
   "execution_count": 8,
   "metadata": {
    "ExecuteTime": {
     "end_time": "2023-03-26T12:33:54.005397Z",
     "start_time": "2023-03-26T12:33:53.820579Z"
    }
   },
   "outputs": [],
   "source": [
    "df.dropna(inplace=True)"
   ]
  },
  {
   "cell_type": "code",
   "execution_count": 9,
   "metadata": {
    "ExecuteTime": {
     "end_time": "2023-03-26T12:33:54.953979Z",
     "start_time": "2023-03-26T12:33:54.786015Z"
    }
   },
   "outputs": [
    {
     "data": {
      "text/plain": [
       "id                                      0\n",
       "Classificação do hotel                  0\n",
       "Meses da reserva até o check-in         0\n",
       "Número de pernoites reservadas          0\n",
       "Número de hospedes                      0\n",
       "Regime de alimentação                   0\n",
       "Nacionalidade                           0\n",
       "Forma de Reserva                        0\n",
       "Já se hospedou anterioremente           0\n",
       "Tipo do quarto reservado                0\n",
       "Reserva feita por agência de turismo    0\n",
       "Reserva feita por empresa               0\n",
       "Reserva com Estacionamento              0\n",
       "Reserva com Observações                 0\n",
       "Reserva Cancelada                       0\n",
       "dtype: int64"
      ]
     },
     "execution_count": 9,
     "metadata": {},
     "output_type": "execute_result"
    }
   ],
   "source": [
    "df.isna().sum()"
   ]
  },
  {
   "cell_type": "markdown",
   "metadata": {},
   "source": [
    "# 3.0. PASSO 03 - FILTRAGEM DE VARIÁVEIS"
   ]
  },
  {
   "cell_type": "code",
   "execution_count": 10,
   "metadata": {
    "ExecuteTime": {
     "end_time": "2023-03-26T12:34:00.004808Z",
     "start_time": "2023-03-26T12:33:59.979172Z"
    }
   },
   "outputs": [
    {
     "data": {
      "text/html": [
       "<div>\n",
       "<style scoped>\n",
       "    .dataframe tbody tr th:only-of-type {\n",
       "        vertical-align: middle;\n",
       "    }\n",
       "\n",
       "    .dataframe tbody tr th {\n",
       "        vertical-align: top;\n",
       "    }\n",
       "\n",
       "    .dataframe thead th {\n",
       "        text-align: right;\n",
       "    }\n",
       "</style>\n",
       "<table border=\"1\" class=\"dataframe\">\n",
       "  <thead>\n",
       "    <tr style=\"text-align: right;\">\n",
       "      <th></th>\n",
       "      <th>id</th>\n",
       "      <th>Classificação do hotel</th>\n",
       "      <th>Meses da reserva até o check-in</th>\n",
       "      <th>Número de pernoites reservadas</th>\n",
       "      <th>Número de hospedes</th>\n",
       "      <th>Regime de alimentação</th>\n",
       "      <th>Nacionalidade</th>\n",
       "      <th>Forma de Reserva</th>\n",
       "      <th>Já se hospedou anterioremente</th>\n",
       "      <th>Tipo do quarto reservado</th>\n",
       "      <th>Reserva feita por agência de turismo</th>\n",
       "      <th>Reserva feita por empresa</th>\n",
       "      <th>Reserva com Estacionamento</th>\n",
       "      <th>Reserva com Observações</th>\n",
       "      <th>Reserva Cancelada</th>\n",
       "    </tr>\n",
       "  </thead>\n",
       "  <tbody>\n",
       "    <tr>\n",
       "      <th>0</th>\n",
       "      <td>33571</td>\n",
       "      <td>5 estrelas</td>\n",
       "      <td>5</td>\n",
       "      <td>5</td>\n",
       "      <td>2.0</td>\n",
       "      <td>Café da manha e jantar</td>\n",
       "      <td>France</td>\n",
       "      <td>Agência</td>\n",
       "      <td>Não</td>\n",
       "      <td>Amethyst</td>\n",
       "      <td>Sim</td>\n",
       "      <td>Não</td>\n",
       "      <td>Sim</td>\n",
       "      <td>Nenhuma</td>\n",
       "      <td>0</td>\n",
       "    </tr>\n",
       "    <tr>\n",
       "      <th>1</th>\n",
       "      <td>82458</td>\n",
       "      <td>4 estrelas</td>\n",
       "      <td>167</td>\n",
       "      <td>3</td>\n",
       "      <td>2.0</td>\n",
       "      <td>Café da manha</td>\n",
       "      <td>Spain</td>\n",
       "      <td>Agência</td>\n",
       "      <td>Não</td>\n",
       "      <td>Amethyst</td>\n",
       "      <td>Sim</td>\n",
       "      <td>Não</td>\n",
       "      <td>Não</td>\n",
       "      <td>Nenhuma</td>\n",
       "      <td>1</td>\n",
       "    </tr>\n",
       "    <tr>\n",
       "      <th>2</th>\n",
       "      <td>94061</td>\n",
       "      <td>4 estrelas</td>\n",
       "      <td>4</td>\n",
       "      <td>3</td>\n",
       "      <td>2.0</td>\n",
       "      <td>Café da manha</td>\n",
       "      <td>Belgium</td>\n",
       "      <td>Agência</td>\n",
       "      <td>Não</td>\n",
       "      <td>Amethyst</td>\n",
       "      <td>Sim</td>\n",
       "      <td>Não</td>\n",
       "      <td>Não</td>\n",
       "      <td>1 a 3</td>\n",
       "      <td>0</td>\n",
       "    </tr>\n",
       "    <tr>\n",
       "      <th>3</th>\n",
       "      <td>75196</td>\n",
       "      <td>4 estrelas</td>\n",
       "      <td>13</td>\n",
       "      <td>2</td>\n",
       "      <td>2.0</td>\n",
       "      <td>Café da manha</td>\n",
       "      <td>Spain</td>\n",
       "      <td>Agência</td>\n",
       "      <td>Não</td>\n",
       "      <td>Amethyst</td>\n",
       "      <td>Sim</td>\n",
       "      <td>Não</td>\n",
       "      <td>Não</td>\n",
       "      <td>Nenhuma</td>\n",
       "      <td>1</td>\n",
       "    </tr>\n",
       "    <tr>\n",
       "      <th>4</th>\n",
       "      <td>82940</td>\n",
       "      <td>4 estrelas</td>\n",
       "      <td>4</td>\n",
       "      <td>2</td>\n",
       "      <td>2.0</td>\n",
       "      <td>Café da manha</td>\n",
       "      <td>Spain</td>\n",
       "      <td>Agência</td>\n",
       "      <td>Não</td>\n",
       "      <td>Amethyst</td>\n",
       "      <td>Sim</td>\n",
       "      <td>Não</td>\n",
       "      <td>Não</td>\n",
       "      <td>Nenhuma</td>\n",
       "      <td>1</td>\n",
       "    </tr>\n",
       "  </tbody>\n",
       "</table>\n",
       "</div>"
      ],
      "text/plain": [
       "      id Classificação do hotel  Meses da reserva até o check-in  \\\n",
       "0  33571             5 estrelas                                5   \n",
       "1  82458             4 estrelas                              167   \n",
       "2  94061             4 estrelas                                4   \n",
       "3  75196             4 estrelas                               13   \n",
       "4  82940             4 estrelas                                4   \n",
       "\n",
       "   Número de pernoites reservadas  Número de hospedes   Regime de alimentação  \\\n",
       "0                               5                 2.0  Café da manha e jantar   \n",
       "1                               3                 2.0           Café da manha   \n",
       "2                               3                 2.0           Café da manha   \n",
       "3                               2                 2.0           Café da manha   \n",
       "4                               2                 2.0           Café da manha   \n",
       "\n",
       "  Nacionalidade Forma de Reserva Já se hospedou anterioremente  \\\n",
       "0        France          Agência                           Não   \n",
       "1         Spain          Agência                           Não   \n",
       "2       Belgium          Agência                           Não   \n",
       "3         Spain          Agência                           Não   \n",
       "4         Spain          Agência                           Não   \n",
       "\n",
       "  Tipo do quarto reservado Reserva feita por agência de turismo  \\\n",
       "0                 Amethyst                                  Sim   \n",
       "1                 Amethyst                                  Sim   \n",
       "2                 Amethyst                                  Sim   \n",
       "3                 Amethyst                                  Sim   \n",
       "4                 Amethyst                                  Sim   \n",
       "\n",
       "  Reserva feita por empresa Reserva com Estacionamento  \\\n",
       "0                       Não                        Sim   \n",
       "1                       Não                        Não   \n",
       "2                       Não                        Não   \n",
       "3                       Não                        Não   \n",
       "4                       Não                        Não   \n",
       "\n",
       "  Reserva com Observações  Reserva Cancelada  \n",
       "0                 Nenhuma                  0  \n",
       "1                 Nenhuma                  1  \n",
       "2                   1 a 3                  0  \n",
       "3                 Nenhuma                  1  \n",
       "4                 Nenhuma                  1  "
      ]
     },
     "execution_count": 10,
     "metadata": {},
     "output_type": "execute_result"
    }
   ],
   "source": [
    "df3 = df.copy()\n",
    "df3.head()"
   ]
  },
  {
   "cell_type": "code",
   "execution_count": 11,
   "metadata": {
    "ExecuteTime": {
     "end_time": "2023-03-26T12:34:06.855682Z",
     "start_time": "2023-03-26T12:34:06.843650Z"
    }
   },
   "outputs": [
    {
     "data": {
      "text/plain": [
       "Index(['id', 'Classificação do hotel', 'Meses da reserva até o check-in',\n",
       "       'Número de pernoites reservadas', 'Número de hospedes',\n",
       "       'Regime de alimentação', 'Nacionalidade', 'Forma de Reserva',\n",
       "       'Já se hospedou anterioremente', 'Tipo do quarto reservado',\n",
       "       'Reserva feita por agência de turismo', 'Reserva feita por empresa',\n",
       "       'Reserva com Estacionamento', 'Reserva com Observações',\n",
       "       'Reserva Cancelada'],\n",
       "      dtype='object')"
      ]
     },
     "execution_count": 11,
     "metadata": {},
     "output_type": "execute_result"
    }
   ],
   "source": [
    "df3.columns"
   ]
  },
  {
   "cell_type": "markdown",
   "metadata": {},
   "source": [
    "## 3.1. Filtragem das Linhas\n"
   ]
  },
  {
   "cell_type": "code",
   "execution_count": 12,
   "metadata": {
    "ExecuteTime": {
     "end_time": "2023-03-26T12:34:10.340358Z",
     "start_time": "2023-03-26T12:34:10.290586Z"
    }
   },
   "outputs": [],
   "source": [
    "df3 = df3[(df3['Número de hospedes'] != 0)]\n",
    "df3 = df3[(df3['Número de pernoites reservadas'] != 0)]"
   ]
  },
  {
   "cell_type": "markdown",
   "metadata": {},
   "source": [
    "# 4.0. Transformação"
   ]
  },
  {
   "cell_type": "code",
   "execution_count": 13,
   "metadata": {
    "ExecuteTime": {
     "end_time": "2023-03-26T12:34:12.273987Z",
     "start_time": "2023-03-26T12:34:12.264412Z"
    },
    "scrolled": true
   },
   "outputs": [],
   "source": [
    "df4 = df3.copy()"
   ]
  },
  {
   "cell_type": "code",
   "execution_count": 15,
   "metadata": {
    "ExecuteTime": {
     "end_time": "2023-03-26T12:35:38.195405Z",
     "start_time": "2023-03-26T12:35:38.182405Z"
    },
    "code_folding": []
   },
   "outputs": [],
   "source": [
    "def preproc(df4):    \n",
    "    #Regime de alimentação\n",
    "    dic_alim = {\"Café da manha\":1,\n",
    "               \"Sem refeicao\":0,\n",
    "                \"Café da manha e jantar\":2,\n",
    "                \"Café da manha, almoco e jantar\":3\n",
    "               }\n",
    "\n",
    "    df4['Regime de alimentação'] = df4['Regime de alimentação'].map(dic_alim)\n",
    "\n",
    "\n",
    "    #Forma de Reserva\n",
    "    df4 = pd.get_dummies( df4, prefix=['reserva'], columns=['Forma de Reserva'] )\n",
    "\n",
    "    #Já se hospedou anterioremente\n",
    "    df4['Já se hospedou anterioremente'] = df4['Já se hospedou anterioremente'].apply(lambda x: 1 if x=='Sim' else 0)\n",
    "\n",
    "    #Tipo do quarto reservado\n",
    "    #dic_quarto = {\"Topaz\": 0,\n",
    "    #\"Amethyst\": 1,\n",
    "    #\"Peridot\": 2,\n",
    "    #\"Tanzanite\": 3,\n",
    "    #\"Moonstone\": 4,\n",
    "    #\"Red Ruby\": 5,\n",
    "    #\"Garnet\": 6,\n",
    "    #\"Pink Sapphire\": 7,\n",
    "    #\"Green Emerald\": 8,\n",
    "    #\"Blue Sapphire\": 9\n",
    "    #}\n",
    "    #df4['Tipo do quarto reservado'] = df4['Tipo do quarto reservado'].map(dic_quarto)\n",
    "    \n",
    "    freq = df4['Tipo do quarto reservado'].value_counts(normalize=True)\n",
    "    dic = dict(freq)\n",
    "    df4['Tipo do quarto reservado'] = df4['Tipo do quarto reservado'].map(dic)\n",
    "    \n",
    "\n",
    "    #Reserva com Estacionamento\n",
    "    df4['Reserva com Estacionamento'] = df4['Reserva com Estacionamento'].apply(lambda x: 1 if x=='Sim' else 0)\n",
    "\n",
    "    #Reserva com Observações\n",
    "    dic_obs = {\"1 a 3\":1,\n",
    "               \"Nenhuma\":0,\n",
    "                \"Mais de 3\":2\n",
    "               }\n",
    "\n",
    "    def al(a):\n",
    "        return dic_obs[a]\n",
    "\n",
    "    df4['Reserva com Observações'] = df4['Reserva com Observações'].map(dic_obs)\n",
    "\n",
    "    #freq = df4['Nacionalidade'].value_counts(normalize=True)\n",
    "    #\n",
    "    #dic = dict(freq)\n",
    "    #\n",
    "    #df4['Nacionalidade'] = df['Nacionalidade'].map(dic)\n",
    "\n",
    "    df4['Nacionalidade'] = df4['Nacionalidade'].apply(lambda x: 1 if x==\"Spain\" else 0)\n",
    "    \n",
    "    df4['Classificação do hotel'] = df4['Classificação do hotel'].apply(lambda x: 5 if x=='5 estrelas' else 4)\n",
    "    df4 = df4.drop(columns=['Reserva feita por agência de turismo','Reserva feita por empresa', 'Já se hospedou anterioremente', 'reserva_Agência', 'reserva_Balcão', 'reserva_B2B'])\n",
    "    return df4"
   ]
  },
  {
   "cell_type": "code",
   "execution_count": 16,
   "metadata": {
    "ExecuteTime": {
     "end_time": "2023-03-26T12:35:42.222925Z",
     "start_time": "2023-03-26T12:35:42.012470Z"
    }
   },
   "outputs": [],
   "source": [
    "df4 = preproc(df4)"
   ]
  },
  {
   "cell_type": "markdown",
   "metadata": {},
   "source": [
    "# 5.0. Embedding"
   ]
  },
  {
   "cell_type": "code",
   "execution_count": 17,
   "metadata": {
    "ExecuteTime": {
     "end_time": "2023-03-26T12:35:44.118057Z",
     "start_time": "2023-03-26T12:35:44.107178Z"
    }
   },
   "outputs": [],
   "source": [
    "df5 = df4.copy()"
   ]
  },
  {
   "cell_type": "code",
   "execution_count": 18,
   "metadata": {
    "ExecuteTime": {
     "end_time": "2023-03-26T12:35:45.594424Z",
     "start_time": "2023-03-26T12:35:45.580465Z"
    }
   },
   "outputs": [],
   "source": [
    "y_emb = df5['Reserva Cancelada']\n",
    "X_emb = df5.drop('Reserva Cancelada', axis = 1)\n",
    "X_emb_1 = df5.drop('Reserva Cancelada', axis = 1)"
   ]
  },
  {
   "cell_type": "code",
   "execution_count": 19,
   "metadata": {
    "ExecuteTime": {
     "end_time": "2023-03-26T12:36:51.817660Z",
     "start_time": "2023-03-26T12:35:47.975857Z"
    }
   },
   "outputs": [],
   "source": [
    "# Tree Based embedding\n",
    "\n",
    "# Model definition\n",
    "# Define Weights\n",
    "weights_emb = df5['Reserva Cancelada'].value_counts(normalize = True).values\n",
    "weights_emb = {0: weights_emb[1], 1: weights_emb[0]}\n",
    "\n",
    "rf_model_emb = RandomForestClassifier( n_estimators = 1000, random_state = 42, class_weight = weights_emb )\n",
    "\n",
    "# Model training\n",
    "rf_model_emb.fit( X_emb, y_emb )\n",
    "\n",
    "# Leaf\n",
    "df_leaf_emb = pd.DataFrame( rf_model_emb.apply( X_emb ) )"
   ]
  },
  {
   "cell_type": "code",
   "execution_count": 114,
   "metadata": {
    "scrolled": true
   },
   "outputs": [],
   "source": [
    "# SVD\n",
    "reducer_emb = TruncatedSVD(n_components = 10, random_state = 42)\n",
    "\n",
    "embedding = reducer_emb.fit_transform( df_leaf_emb )\n",
    "\n",
    "df5['embedding_a'] = embedding[: , 0]\n",
    "df5['embedding_b'] = embedding[: , 1]\n",
    "df5['embedding_c'] = embedding[: , 2]\n",
    "df5['embedding_d'] = embedding[: , 3]\n",
    "df5['embedding_e'] = embedding[: , 4]\n",
    "df5['embedding_f'] = embedding[: , 5]\n",
    "df5['embedding_g'] = embedding[: , 6]\n",
    "df5['embedding_h'] = embedding[: , 7]\n",
    "df5['embedding_i'] = embedding[: , 8]\n",
    "df5['embedding_j'] = embedding[: , 9]\n",
    "\n",
    "# Plot leaves\n",
    "#plt.figure(figsize=(6, 6))\n",
    "#sns.scatterplot( x = 'embedding_x', y = 'embedding_y',\n",
    "#                 data = df_leaf_emb,\n",
    "#                 hue = 'Reserva Cancelada');"
   ]
  },
  {
   "cell_type": "markdown",
   "metadata": {},
   "source": [
    "# 6.0. Data Preparation"
   ]
  },
  {
   "cell_type": "code",
   "execution_count": 115,
   "metadata": {},
   "outputs": [],
   "source": [
    "df6 = df5.copy()"
   ]
  },
  {
   "cell_type": "markdown",
   "metadata": {},
   "source": [
    "## 6.1. Rescaling"
   ]
  },
  {
   "cell_type": "code",
   "execution_count": 116,
   "metadata": {},
   "outputs": [],
   "source": [
    "rs_embedding_a = MinMaxScaler()\n",
    "df6['embedding_a'] = rs_embedding_x.fit_transform(df6[['embedding_a']]) \n",
    "\n",
    "rs_embedding_b = MinMaxScaler()\n",
    "df6['embedding_b'] = rs_embedding_y.fit_transform(df6[['embedding_b']]) \n",
    "\n",
    "rs_embedding_c = MinMaxScaler()\n",
    "df6['embedding_c'] = rs_embedding_z.fit_transform(df6[['embedding_c']]) \n",
    "\n",
    "rs_embedding_d = MinMaxScaler()\n",
    "df6['embedding_d'] = rs_embedding_y.fit_transform(df6[['embedding_d']]) \n",
    "\n",
    "rs_embedding_e = MinMaxScaler()\n",
    "df6['embedding_e'] = rs_embedding_z.fit_transform(df6[['embedding_e']]) \n",
    "\n",
    "rs_embedding_f = MinMaxScaler()\n",
    "df6['embedding_f'] = rs_embedding_x.fit_transform(df6[['embedding_f']]) \n",
    "\n",
    "rs_embedding_g = MinMaxScaler()\n",
    "df6['embedding_g'] = rs_embedding_y.fit_transform(df6[['embedding_g']]) \n",
    "\n",
    "rs_embedding_h = MinMaxScaler()\n",
    "df6['embedding_h'] = rs_embedding_z.fit_transform(df6[['embedding_h']]) \n",
    "\n",
    "rs_embedding_i = MinMaxScaler()\n",
    "df6['embedding_i'] = rs_embedding_y.fit_transform(df6[['embedding_i']]) \n",
    "\n",
    "rs_embedding_j = MinMaxScaler()\n",
    "df6['embedding_j'] = rs_embedding_z.fit_transform(df6[['embedding_j']]) "
   ]
  },
  {
   "cell_type": "markdown",
   "metadata": {},
   "source": [
    "# Separação das Variáveis"
   ]
  },
  {
   "cell_type": "code",
   "execution_count": 117,
   "metadata": {},
   "outputs": [],
   "source": [
    "df7 = df6.copy()"
   ]
  },
  {
   "cell_type": "code",
   "execution_count": 118,
   "metadata": {
    "ExecuteTime": {
     "end_time": "2020-01-08T11:31:12.961627Z",
     "start_time": "2020-01-08T11:31:12.952511Z"
    }
   },
   "outputs": [],
   "source": [
    "x = df7.drop(columns=['id','Reserva Cancelada'])\n",
    "y = df7['Reserva Cancelada']"
   ]
  },
  {
   "cell_type": "code",
   "execution_count": 119,
   "metadata": {},
   "outputs": [],
   "source": [
    "x_treino, x_teste, y_treino, y_teste = train_test_split(x,y,test_size=0.3)"
   ]
  },
  {
   "cell_type": "markdown",
   "metadata": {},
   "source": [
    "# 7.0. PASSO 07 - MACHINE LEARNING MODELLING"
   ]
  },
  {
   "cell_type": "markdown",
   "metadata": {},
   "source": [
    "## 7.4. Random Forest"
   ]
  },
  {
   "cell_type": "code",
   "execution_count": 120,
   "metadata": {
    "ExecuteTime": {
     "end_time": "2020-01-08T11:37:39.995818Z",
     "start_time": "2020-01-08T11:31:22.253568Z"
    },
    "scrolled": true
   },
   "outputs": [
    {
     "name": "stdout",
     "output_type": "stream",
     "text": [
      "0.9577054577687729\n"
     ]
    }
   ],
   "source": [
    "modelo_random_forest = RandomForestClassifier(n_estimators=2000)\n",
    "modelo_random_forest.fit(x_treino,y_treino)\n",
    "Y = pd.DataFrame()\n",
    "y_previsao = modelo_random_forest.predict(x_teste)\n",
    "print(metrics.f1_score(y_teste,y_previsao))"
   ]
  },
  {
   "cell_type": "markdown",
   "metadata": {},
   "source": [
    "## Optuna"
   ]
  },
  {
   "cell_type": "code",
   "execution_count": 122,
   "metadata": {
    "scrolled": true
   },
   "outputs": [
    {
     "name": "stderr",
     "output_type": "stream",
     "text": [
      "\u001b[32m[I 2023-03-26 08:09:52,866]\u001b[0m A new study created in memory with name: no-name-ed7e24b2-e78b-4695-9d39-425aa5ab1c61\u001b[0m\n",
      "\u001b[32m[I 2023-03-26 08:11:41,184]\u001b[0m Trial 0 finished with value: 0.8824819805703542 and parameters: {'n_estimators': 500, 'max_depth': 5, 'min_samples_split': 10, 'min_samples_leaf': 5, 'max_features': 0.478216930883984}. Best is trial 0 with value: 0.8824819805703542.\u001b[0m\n",
      "\u001b[32m[I 2023-03-26 08:15:53,412]\u001b[0m Trial 1 finished with value: 0.9244372990353699 and parameters: {'n_estimators': 400, 'max_depth': 8, 'min_samples_split': 4, 'min_samples_leaf': 8, 'max_features': 0.9665148601346435}. Best is trial 1 with value: 0.9244372990353699.\u001b[0m\n",
      "\u001b[32m[I 2023-03-26 08:18:06,154]\u001b[0m Trial 2 finished with value: 0.8406072106261859 and parameters: {'n_estimators': 700, 'max_depth': 4, 'min_samples_split': 9, 'min_samples_leaf': 9, 'max_features': 0.5050927843041215}. Best is trial 1 with value: 0.9244372990353699.\u001b[0m\n",
      "\u001b[32m[I 2023-03-26 08:19:48,450]\u001b[0m Trial 3 finished with value: 0.8859009801457652 and parameters: {'n_estimators': 400, 'max_depth': 5, 'min_samples_split': 7, 'min_samples_leaf': 7, 'max_features': 0.566193920331879}. Best is trial 1 with value: 0.9244372990353699.\u001b[0m\n",
      "\u001b[32m[I 2023-03-26 08:24:51,873]\u001b[0m Trial 4 finished with value: 0.8382051759448892 and parameters: {'n_estimators': 900, 'max_depth': 4, 'min_samples_split': 3, 'min_samples_leaf': 2, 'max_features': 0.8404282295995088}. Best is trial 1 with value: 0.9244372990353699.\u001b[0m\n",
      "\u001b[32m[I 2023-03-26 08:29:04,488]\u001b[0m Trial 5 finished with value: 0.9213330029732408 and parameters: {'n_estimators': 600, 'max_depth': 7, 'min_samples_split': 7, 'min_samples_leaf': 6, 'max_features': 0.6132725091541467}. Best is trial 1 with value: 0.9244372990353699.\u001b[0m\n",
      "\u001b[33m[W 2023-03-26 08:29:12,687]\u001b[0m Trial 6 failed with parameters: {'n_estimators': 700, 'max_depth': 5, 'min_samples_split': 4, 'min_samples_leaf': 4, 'max_features': 0.5108797387993957} because of the following error: KeyboardInterrupt().\u001b[0m\n",
      "Traceback (most recent call last):\n",
      "  File \"C:\\Users\\ander\\anaconda3\\lib\\site-packages\\optuna\\study\\_optimize.py\", line 200, in _run_trial\n",
      "    value_or_values = func(trial)\n",
      "  File \"C:\\Users\\ander\\AppData\\Local\\Temp\\ipykernel_21952\\3686646478.py\", line 20, in objective\n",
      "    clf.fit(x_treino, y_treino)\n",
      "  File \"C:\\Users\\ander\\anaconda3\\lib\\site-packages\\sklearn\\ensemble\\_forest.py\", line 450, in fit\n",
      "    trees = Parallel(\n",
      "  File \"C:\\Users\\ander\\anaconda3\\lib\\site-packages\\joblib\\parallel.py\", line 1046, in __call__\n",
      "    while self.dispatch_one_batch(iterator):\n",
      "  File \"C:\\Users\\ander\\anaconda3\\lib\\site-packages\\joblib\\parallel.py\", line 861, in dispatch_one_batch\n",
      "    self._dispatch(tasks)\n",
      "  File \"C:\\Users\\ander\\anaconda3\\lib\\site-packages\\joblib\\parallel.py\", line 779, in _dispatch\n",
      "    job = self._backend.apply_async(batch, callback=cb)\n",
      "  File \"C:\\Users\\ander\\anaconda3\\lib\\site-packages\\joblib\\_parallel_backends.py\", line 208, in apply_async\n",
      "    result = ImmediateResult(func)\n",
      "  File \"C:\\Users\\ander\\anaconda3\\lib\\site-packages\\joblib\\_parallel_backends.py\", line 572, in __init__\n",
      "    self.results = batch()\n",
      "  File \"C:\\Users\\ander\\anaconda3\\lib\\site-packages\\joblib\\parallel.py\", line 262, in __call__\n",
      "    return [func(*args, **kwargs)\n",
      "  File \"C:\\Users\\ander\\anaconda3\\lib\\site-packages\\joblib\\parallel.py\", line 262, in <listcomp>\n",
      "    return [func(*args, **kwargs)\n",
      "  File \"C:\\Users\\ander\\anaconda3\\lib\\site-packages\\sklearn\\utils\\fixes.py\", line 216, in __call__\n",
      "    return self.function(*args, **kwargs)\n",
      "  File \"C:\\Users\\ander\\anaconda3\\lib\\site-packages\\sklearn\\ensemble\\_forest.py\", line 185, in _parallel_build_trees\n",
      "    tree.fit(X, y, sample_weight=curr_sample_weight, check_input=False)\n",
      "  File \"C:\\Users\\ander\\anaconda3\\lib\\site-packages\\sklearn\\tree\\_classes.py\", line 937, in fit\n",
      "    super().fit(\n",
      "  File \"C:\\Users\\ander\\anaconda3\\lib\\site-packages\\sklearn\\tree\\_classes.py\", line 420, in fit\n",
      "    builder.build(self.tree_, X, y, sample_weight)\n",
      "KeyboardInterrupt\n",
      "\u001b[33m[W 2023-03-26 08:29:12,702]\u001b[0m Trial 6 failed with value None.\u001b[0m\n"
     ]
    },
    {
     "ename": "KeyboardInterrupt",
     "evalue": "",
     "output_type": "error",
     "traceback": [
      "\u001b[1;31m---------------------------------------------------------------------------\u001b[0m",
      "\u001b[1;31mKeyboardInterrupt\u001b[0m                         Traceback (most recent call last)",
      "\u001b[1;32m~\\AppData\\Local\\Temp\\ipykernel_21952\\3686646478.py\u001b[0m in \u001b[0;36m<module>\u001b[1;34m\u001b[0m\n\u001b[0;32m     28\u001b[0m \u001b[1;31m# Create Optuna study and optimize hyperparameters\u001b[0m\u001b[1;33m\u001b[0m\u001b[1;33m\u001b[0m\u001b[0m\n\u001b[0;32m     29\u001b[0m \u001b[0mstudy\u001b[0m \u001b[1;33m=\u001b[0m \u001b[0moptuna\u001b[0m\u001b[1;33m.\u001b[0m\u001b[0mcreate_study\u001b[0m\u001b[1;33m(\u001b[0m\u001b[0mdirection\u001b[0m\u001b[1;33m=\u001b[0m\u001b[1;34m\"maximize\"\u001b[0m\u001b[1;33m)\u001b[0m\u001b[1;33m\u001b[0m\u001b[1;33m\u001b[0m\u001b[0m\n\u001b[1;32m---> 30\u001b[1;33m \u001b[0mstudy\u001b[0m\u001b[1;33m.\u001b[0m\u001b[0moptimize\u001b[0m\u001b[1;33m(\u001b[0m\u001b[0mobjective\u001b[0m\u001b[1;33m,\u001b[0m \u001b[0mn_trials\u001b[0m\u001b[1;33m=\u001b[0m\u001b[1;36m200\u001b[0m\u001b[1;33m)\u001b[0m\u001b[1;33m\u001b[0m\u001b[1;33m\u001b[0m\u001b[0m\n\u001b[0m\u001b[0;32m     31\u001b[0m \u001b[1;33m\u001b[0m\u001b[0m\n\u001b[0;32m     32\u001b[0m \u001b[1;31m# Print best hyperparameters and corresponding accuracy score\u001b[0m\u001b[1;33m\u001b[0m\u001b[1;33m\u001b[0m\u001b[0m\n",
      "\u001b[1;32m~\\anaconda3\\lib\\site-packages\\optuna\\study\\study.py\u001b[0m in \u001b[0;36moptimize\u001b[1;34m(self, func, n_trials, timeout, n_jobs, catch, callbacks, gc_after_trial, show_progress_bar)\u001b[0m\n\u001b[0;32m    423\u001b[0m         \"\"\"\n\u001b[0;32m    424\u001b[0m \u001b[1;33m\u001b[0m\u001b[0m\n\u001b[1;32m--> 425\u001b[1;33m         _optimize(\n\u001b[0m\u001b[0;32m    426\u001b[0m             \u001b[0mstudy\u001b[0m\u001b[1;33m=\u001b[0m\u001b[0mself\u001b[0m\u001b[1;33m,\u001b[0m\u001b[1;33m\u001b[0m\u001b[1;33m\u001b[0m\u001b[0m\n\u001b[0;32m    427\u001b[0m             \u001b[0mfunc\u001b[0m\u001b[1;33m=\u001b[0m\u001b[0mfunc\u001b[0m\u001b[1;33m,\u001b[0m\u001b[1;33m\u001b[0m\u001b[1;33m\u001b[0m\u001b[0m\n",
      "\u001b[1;32m~\\anaconda3\\lib\\site-packages\\optuna\\study\\_optimize.py\u001b[0m in \u001b[0;36m_optimize\u001b[1;34m(study, func, n_trials, timeout, n_jobs, catch, callbacks, gc_after_trial, show_progress_bar)\u001b[0m\n\u001b[0;32m     64\u001b[0m     \u001b[1;32mtry\u001b[0m\u001b[1;33m:\u001b[0m\u001b[1;33m\u001b[0m\u001b[1;33m\u001b[0m\u001b[0m\n\u001b[0;32m     65\u001b[0m         \u001b[1;32mif\u001b[0m \u001b[0mn_jobs\u001b[0m \u001b[1;33m==\u001b[0m \u001b[1;36m1\u001b[0m\u001b[1;33m:\u001b[0m\u001b[1;33m\u001b[0m\u001b[1;33m\u001b[0m\u001b[0m\n\u001b[1;32m---> 66\u001b[1;33m             _optimize_sequential(\n\u001b[0m\u001b[0;32m     67\u001b[0m                 \u001b[0mstudy\u001b[0m\u001b[1;33m,\u001b[0m\u001b[1;33m\u001b[0m\u001b[1;33m\u001b[0m\u001b[0m\n\u001b[0;32m     68\u001b[0m                 \u001b[0mfunc\u001b[0m\u001b[1;33m,\u001b[0m\u001b[1;33m\u001b[0m\u001b[1;33m\u001b[0m\u001b[0m\n",
      "\u001b[1;32m~\\anaconda3\\lib\\site-packages\\optuna\\study\\_optimize.py\u001b[0m in \u001b[0;36m_optimize_sequential\u001b[1;34m(study, func, n_trials, timeout, catch, callbacks, gc_after_trial, reseed_sampler_rng, time_start, progress_bar)\u001b[0m\n\u001b[0;32m    161\u001b[0m \u001b[1;33m\u001b[0m\u001b[0m\n\u001b[0;32m    162\u001b[0m         \u001b[1;32mtry\u001b[0m\u001b[1;33m:\u001b[0m\u001b[1;33m\u001b[0m\u001b[1;33m\u001b[0m\u001b[0m\n\u001b[1;32m--> 163\u001b[1;33m             \u001b[0mfrozen_trial\u001b[0m \u001b[1;33m=\u001b[0m \u001b[0m_run_trial\u001b[0m\u001b[1;33m(\u001b[0m\u001b[0mstudy\u001b[0m\u001b[1;33m,\u001b[0m \u001b[0mfunc\u001b[0m\u001b[1;33m,\u001b[0m \u001b[0mcatch\u001b[0m\u001b[1;33m)\u001b[0m\u001b[1;33m\u001b[0m\u001b[1;33m\u001b[0m\u001b[0m\n\u001b[0m\u001b[0;32m    164\u001b[0m         \u001b[1;32mfinally\u001b[0m\u001b[1;33m:\u001b[0m\u001b[1;33m\u001b[0m\u001b[1;33m\u001b[0m\u001b[0m\n\u001b[0;32m    165\u001b[0m             \u001b[1;31m# The following line mitigates memory problems that can be occurred in some\u001b[0m\u001b[1;33m\u001b[0m\u001b[1;33m\u001b[0m\u001b[0m\n",
      "\u001b[1;32m~\\anaconda3\\lib\\site-packages\\optuna\\study\\_optimize.py\u001b[0m in \u001b[0;36m_run_trial\u001b[1;34m(study, func, catch)\u001b[0m\n\u001b[0;32m    249\u001b[0m         \u001b[1;32mand\u001b[0m \u001b[1;32mnot\u001b[0m \u001b[0misinstance\u001b[0m\u001b[1;33m(\u001b[0m\u001b[0mfunc_err\u001b[0m\u001b[1;33m,\u001b[0m \u001b[0mcatch\u001b[0m\u001b[1;33m)\u001b[0m\u001b[1;33m\u001b[0m\u001b[1;33m\u001b[0m\u001b[0m\n\u001b[0;32m    250\u001b[0m     ):\n\u001b[1;32m--> 251\u001b[1;33m         \u001b[1;32mraise\u001b[0m \u001b[0mfunc_err\u001b[0m\u001b[1;33m\u001b[0m\u001b[1;33m\u001b[0m\u001b[0m\n\u001b[0m\u001b[0;32m    252\u001b[0m     \u001b[1;32mreturn\u001b[0m \u001b[0mfrozen_trial\u001b[0m\u001b[1;33m\u001b[0m\u001b[1;33m\u001b[0m\u001b[0m\n\u001b[0;32m    253\u001b[0m \u001b[1;33m\u001b[0m\u001b[0m\n",
      "\u001b[1;32m~\\anaconda3\\lib\\site-packages\\optuna\\study\\_optimize.py\u001b[0m in \u001b[0;36m_run_trial\u001b[1;34m(study, func, catch)\u001b[0m\n\u001b[0;32m    198\u001b[0m     \u001b[1;32mwith\u001b[0m \u001b[0mget_heartbeat_thread\u001b[0m\u001b[1;33m(\u001b[0m\u001b[0mtrial\u001b[0m\u001b[1;33m.\u001b[0m\u001b[0m_trial_id\u001b[0m\u001b[1;33m,\u001b[0m \u001b[0mstudy\u001b[0m\u001b[1;33m.\u001b[0m\u001b[0m_storage\u001b[0m\u001b[1;33m)\u001b[0m\u001b[1;33m:\u001b[0m\u001b[1;33m\u001b[0m\u001b[1;33m\u001b[0m\u001b[0m\n\u001b[0;32m    199\u001b[0m         \u001b[1;32mtry\u001b[0m\u001b[1;33m:\u001b[0m\u001b[1;33m\u001b[0m\u001b[1;33m\u001b[0m\u001b[0m\n\u001b[1;32m--> 200\u001b[1;33m             \u001b[0mvalue_or_values\u001b[0m \u001b[1;33m=\u001b[0m \u001b[0mfunc\u001b[0m\u001b[1;33m(\u001b[0m\u001b[0mtrial\u001b[0m\u001b[1;33m)\u001b[0m\u001b[1;33m\u001b[0m\u001b[1;33m\u001b[0m\u001b[0m\n\u001b[0m\u001b[0;32m    201\u001b[0m         \u001b[1;32mexcept\u001b[0m \u001b[0mexceptions\u001b[0m\u001b[1;33m.\u001b[0m\u001b[0mTrialPruned\u001b[0m \u001b[1;32mas\u001b[0m \u001b[0me\u001b[0m\u001b[1;33m:\u001b[0m\u001b[1;33m\u001b[0m\u001b[1;33m\u001b[0m\u001b[0m\n\u001b[0;32m    202\u001b[0m             \u001b[1;31m# TODO(mamu): Handle multi-objective cases.\u001b[0m\u001b[1;33m\u001b[0m\u001b[1;33m\u001b[0m\u001b[0m\n",
      "\u001b[1;32m~\\AppData\\Local\\Temp\\ipykernel_21952\\3686646478.py\u001b[0m in \u001b[0;36mobjective\u001b[1;34m(trial)\u001b[0m\n\u001b[0;32m     18\u001b[0m \u001b[1;33m\u001b[0m\u001b[0m\n\u001b[0;32m     19\u001b[0m     \u001b[1;31m# Train and predict on validation set\u001b[0m\u001b[1;33m\u001b[0m\u001b[1;33m\u001b[0m\u001b[0m\n\u001b[1;32m---> 20\u001b[1;33m     \u001b[0mclf\u001b[0m\u001b[1;33m.\u001b[0m\u001b[0mfit\u001b[0m\u001b[1;33m(\u001b[0m\u001b[0mx_treino\u001b[0m\u001b[1;33m,\u001b[0m \u001b[0my_treino\u001b[0m\u001b[1;33m)\u001b[0m\u001b[1;33m\u001b[0m\u001b[1;33m\u001b[0m\u001b[0m\n\u001b[0m\u001b[0;32m     21\u001b[0m     \u001b[0my_pred\u001b[0m \u001b[1;33m=\u001b[0m \u001b[0mclf\u001b[0m\u001b[1;33m.\u001b[0m\u001b[0mpredict\u001b[0m\u001b[1;33m(\u001b[0m\u001b[0mx_teste\u001b[0m\u001b[1;33m)\u001b[0m\u001b[1;33m\u001b[0m\u001b[1;33m\u001b[0m\u001b[0m\n\u001b[0;32m     22\u001b[0m \u001b[1;33m\u001b[0m\u001b[0m\n",
      "\u001b[1;32m~\\anaconda3\\lib\\site-packages\\sklearn\\ensemble\\_forest.py\u001b[0m in \u001b[0;36mfit\u001b[1;34m(self, X, y, sample_weight)\u001b[0m\n\u001b[0;32m    448\u001b[0m             \u001b[1;31m# parallel_backend contexts set at a higher level,\u001b[0m\u001b[1;33m\u001b[0m\u001b[1;33m\u001b[0m\u001b[0m\n\u001b[0;32m    449\u001b[0m             \u001b[1;31m# since correctness does not rely on using threads.\u001b[0m\u001b[1;33m\u001b[0m\u001b[1;33m\u001b[0m\u001b[0m\n\u001b[1;32m--> 450\u001b[1;33m             trees = Parallel(\n\u001b[0m\u001b[0;32m    451\u001b[0m                 \u001b[0mn_jobs\u001b[0m\u001b[1;33m=\u001b[0m\u001b[0mself\u001b[0m\u001b[1;33m.\u001b[0m\u001b[0mn_jobs\u001b[0m\u001b[1;33m,\u001b[0m\u001b[1;33m\u001b[0m\u001b[1;33m\u001b[0m\u001b[0m\n\u001b[0;32m    452\u001b[0m                 \u001b[0mverbose\u001b[0m\u001b[1;33m=\u001b[0m\u001b[0mself\u001b[0m\u001b[1;33m.\u001b[0m\u001b[0mverbose\u001b[0m\u001b[1;33m,\u001b[0m\u001b[1;33m\u001b[0m\u001b[1;33m\u001b[0m\u001b[0m\n",
      "\u001b[1;32m~\\anaconda3\\lib\\site-packages\\joblib\\parallel.py\u001b[0m in \u001b[0;36m__call__\u001b[1;34m(self, iterable)\u001b[0m\n\u001b[0;32m   1044\u001b[0m                 \u001b[0mself\u001b[0m\u001b[1;33m.\u001b[0m\u001b[0m_iterating\u001b[0m \u001b[1;33m=\u001b[0m \u001b[0mself\u001b[0m\u001b[1;33m.\u001b[0m\u001b[0m_original_iterator\u001b[0m \u001b[1;32mis\u001b[0m \u001b[1;32mnot\u001b[0m \u001b[1;32mNone\u001b[0m\u001b[1;33m\u001b[0m\u001b[1;33m\u001b[0m\u001b[0m\n\u001b[0;32m   1045\u001b[0m \u001b[1;33m\u001b[0m\u001b[0m\n\u001b[1;32m-> 1046\u001b[1;33m             \u001b[1;32mwhile\u001b[0m \u001b[0mself\u001b[0m\u001b[1;33m.\u001b[0m\u001b[0mdispatch_one_batch\u001b[0m\u001b[1;33m(\u001b[0m\u001b[0miterator\u001b[0m\u001b[1;33m)\u001b[0m\u001b[1;33m:\u001b[0m\u001b[1;33m\u001b[0m\u001b[1;33m\u001b[0m\u001b[0m\n\u001b[0m\u001b[0;32m   1047\u001b[0m                 \u001b[1;32mpass\u001b[0m\u001b[1;33m\u001b[0m\u001b[1;33m\u001b[0m\u001b[0m\n\u001b[0;32m   1048\u001b[0m \u001b[1;33m\u001b[0m\u001b[0m\n",
      "\u001b[1;32m~\\anaconda3\\lib\\site-packages\\joblib\\parallel.py\u001b[0m in \u001b[0;36mdispatch_one_batch\u001b[1;34m(self, iterator)\u001b[0m\n\u001b[0;32m    859\u001b[0m                 \u001b[1;32mreturn\u001b[0m \u001b[1;32mFalse\u001b[0m\u001b[1;33m\u001b[0m\u001b[1;33m\u001b[0m\u001b[0m\n\u001b[0;32m    860\u001b[0m             \u001b[1;32melse\u001b[0m\u001b[1;33m:\u001b[0m\u001b[1;33m\u001b[0m\u001b[1;33m\u001b[0m\u001b[0m\n\u001b[1;32m--> 861\u001b[1;33m                 \u001b[0mself\u001b[0m\u001b[1;33m.\u001b[0m\u001b[0m_dispatch\u001b[0m\u001b[1;33m(\u001b[0m\u001b[0mtasks\u001b[0m\u001b[1;33m)\u001b[0m\u001b[1;33m\u001b[0m\u001b[1;33m\u001b[0m\u001b[0m\n\u001b[0m\u001b[0;32m    862\u001b[0m                 \u001b[1;32mreturn\u001b[0m \u001b[1;32mTrue\u001b[0m\u001b[1;33m\u001b[0m\u001b[1;33m\u001b[0m\u001b[0m\n\u001b[0;32m    863\u001b[0m \u001b[1;33m\u001b[0m\u001b[0m\n",
      "\u001b[1;32m~\\anaconda3\\lib\\site-packages\\joblib\\parallel.py\u001b[0m in \u001b[0;36m_dispatch\u001b[1;34m(self, batch)\u001b[0m\n\u001b[0;32m    777\u001b[0m         \u001b[1;32mwith\u001b[0m \u001b[0mself\u001b[0m\u001b[1;33m.\u001b[0m\u001b[0m_lock\u001b[0m\u001b[1;33m:\u001b[0m\u001b[1;33m\u001b[0m\u001b[1;33m\u001b[0m\u001b[0m\n\u001b[0;32m    778\u001b[0m             \u001b[0mjob_idx\u001b[0m \u001b[1;33m=\u001b[0m \u001b[0mlen\u001b[0m\u001b[1;33m(\u001b[0m\u001b[0mself\u001b[0m\u001b[1;33m.\u001b[0m\u001b[0m_jobs\u001b[0m\u001b[1;33m)\u001b[0m\u001b[1;33m\u001b[0m\u001b[1;33m\u001b[0m\u001b[0m\n\u001b[1;32m--> 779\u001b[1;33m             \u001b[0mjob\u001b[0m \u001b[1;33m=\u001b[0m \u001b[0mself\u001b[0m\u001b[1;33m.\u001b[0m\u001b[0m_backend\u001b[0m\u001b[1;33m.\u001b[0m\u001b[0mapply_async\u001b[0m\u001b[1;33m(\u001b[0m\u001b[0mbatch\u001b[0m\u001b[1;33m,\u001b[0m \u001b[0mcallback\u001b[0m\u001b[1;33m=\u001b[0m\u001b[0mcb\u001b[0m\u001b[1;33m)\u001b[0m\u001b[1;33m\u001b[0m\u001b[1;33m\u001b[0m\u001b[0m\n\u001b[0m\u001b[0;32m    780\u001b[0m             \u001b[1;31m# A job can complete so quickly than its callback is\u001b[0m\u001b[1;33m\u001b[0m\u001b[1;33m\u001b[0m\u001b[0m\n\u001b[0;32m    781\u001b[0m             \u001b[1;31m# called before we get here, causing self._jobs to\u001b[0m\u001b[1;33m\u001b[0m\u001b[1;33m\u001b[0m\u001b[0m\n",
      "\u001b[1;32m~\\anaconda3\\lib\\site-packages\\joblib\\_parallel_backends.py\u001b[0m in \u001b[0;36mapply_async\u001b[1;34m(self, func, callback)\u001b[0m\n\u001b[0;32m    206\u001b[0m     \u001b[1;32mdef\u001b[0m \u001b[0mapply_async\u001b[0m\u001b[1;33m(\u001b[0m\u001b[0mself\u001b[0m\u001b[1;33m,\u001b[0m \u001b[0mfunc\u001b[0m\u001b[1;33m,\u001b[0m \u001b[0mcallback\u001b[0m\u001b[1;33m=\u001b[0m\u001b[1;32mNone\u001b[0m\u001b[1;33m)\u001b[0m\u001b[1;33m:\u001b[0m\u001b[1;33m\u001b[0m\u001b[1;33m\u001b[0m\u001b[0m\n\u001b[0;32m    207\u001b[0m         \u001b[1;34m\"\"\"Schedule a func to be run\"\"\"\u001b[0m\u001b[1;33m\u001b[0m\u001b[1;33m\u001b[0m\u001b[0m\n\u001b[1;32m--> 208\u001b[1;33m         \u001b[0mresult\u001b[0m \u001b[1;33m=\u001b[0m \u001b[0mImmediateResult\u001b[0m\u001b[1;33m(\u001b[0m\u001b[0mfunc\u001b[0m\u001b[1;33m)\u001b[0m\u001b[1;33m\u001b[0m\u001b[1;33m\u001b[0m\u001b[0m\n\u001b[0m\u001b[0;32m    209\u001b[0m         \u001b[1;32mif\u001b[0m \u001b[0mcallback\u001b[0m\u001b[1;33m:\u001b[0m\u001b[1;33m\u001b[0m\u001b[1;33m\u001b[0m\u001b[0m\n\u001b[0;32m    210\u001b[0m             \u001b[0mcallback\u001b[0m\u001b[1;33m(\u001b[0m\u001b[0mresult\u001b[0m\u001b[1;33m)\u001b[0m\u001b[1;33m\u001b[0m\u001b[1;33m\u001b[0m\u001b[0m\n",
      "\u001b[1;32m~\\anaconda3\\lib\\site-packages\\joblib\\_parallel_backends.py\u001b[0m in \u001b[0;36m__init__\u001b[1;34m(self, batch)\u001b[0m\n\u001b[0;32m    570\u001b[0m         \u001b[1;31m# Don't delay the application, to avoid keeping the input\u001b[0m\u001b[1;33m\u001b[0m\u001b[1;33m\u001b[0m\u001b[0m\n\u001b[0;32m    571\u001b[0m         \u001b[1;31m# arguments in memory\u001b[0m\u001b[1;33m\u001b[0m\u001b[1;33m\u001b[0m\u001b[0m\n\u001b[1;32m--> 572\u001b[1;33m         \u001b[0mself\u001b[0m\u001b[1;33m.\u001b[0m\u001b[0mresults\u001b[0m \u001b[1;33m=\u001b[0m \u001b[0mbatch\u001b[0m\u001b[1;33m(\u001b[0m\u001b[1;33m)\u001b[0m\u001b[1;33m\u001b[0m\u001b[1;33m\u001b[0m\u001b[0m\n\u001b[0m\u001b[0;32m    573\u001b[0m \u001b[1;33m\u001b[0m\u001b[0m\n\u001b[0;32m    574\u001b[0m     \u001b[1;32mdef\u001b[0m \u001b[0mget\u001b[0m\u001b[1;33m(\u001b[0m\u001b[0mself\u001b[0m\u001b[1;33m)\u001b[0m\u001b[1;33m:\u001b[0m\u001b[1;33m\u001b[0m\u001b[1;33m\u001b[0m\u001b[0m\n",
      "\u001b[1;32m~\\anaconda3\\lib\\site-packages\\joblib\\parallel.py\u001b[0m in \u001b[0;36m__call__\u001b[1;34m(self)\u001b[0m\n\u001b[0;32m    260\u001b[0m         \u001b[1;31m# change the default number of processes to -1\u001b[0m\u001b[1;33m\u001b[0m\u001b[1;33m\u001b[0m\u001b[0m\n\u001b[0;32m    261\u001b[0m         \u001b[1;32mwith\u001b[0m \u001b[0mparallel_backend\u001b[0m\u001b[1;33m(\u001b[0m\u001b[0mself\u001b[0m\u001b[1;33m.\u001b[0m\u001b[0m_backend\u001b[0m\u001b[1;33m,\u001b[0m \u001b[0mn_jobs\u001b[0m\u001b[1;33m=\u001b[0m\u001b[0mself\u001b[0m\u001b[1;33m.\u001b[0m\u001b[0m_n_jobs\u001b[0m\u001b[1;33m)\u001b[0m\u001b[1;33m:\u001b[0m\u001b[1;33m\u001b[0m\u001b[1;33m\u001b[0m\u001b[0m\n\u001b[1;32m--> 262\u001b[1;33m             return [func(*args, **kwargs)\n\u001b[0m\u001b[0;32m    263\u001b[0m                     for func, args, kwargs in self.items]\n\u001b[0;32m    264\u001b[0m \u001b[1;33m\u001b[0m\u001b[0m\n",
      "\u001b[1;32m~\\anaconda3\\lib\\site-packages\\joblib\\parallel.py\u001b[0m in \u001b[0;36m<listcomp>\u001b[1;34m(.0)\u001b[0m\n\u001b[0;32m    260\u001b[0m         \u001b[1;31m# change the default number of processes to -1\u001b[0m\u001b[1;33m\u001b[0m\u001b[1;33m\u001b[0m\u001b[0m\n\u001b[0;32m    261\u001b[0m         \u001b[1;32mwith\u001b[0m \u001b[0mparallel_backend\u001b[0m\u001b[1;33m(\u001b[0m\u001b[0mself\u001b[0m\u001b[1;33m.\u001b[0m\u001b[0m_backend\u001b[0m\u001b[1;33m,\u001b[0m \u001b[0mn_jobs\u001b[0m\u001b[1;33m=\u001b[0m\u001b[0mself\u001b[0m\u001b[1;33m.\u001b[0m\u001b[0m_n_jobs\u001b[0m\u001b[1;33m)\u001b[0m\u001b[1;33m:\u001b[0m\u001b[1;33m\u001b[0m\u001b[1;33m\u001b[0m\u001b[0m\n\u001b[1;32m--> 262\u001b[1;33m             return [func(*args, **kwargs)\n\u001b[0m\u001b[0;32m    263\u001b[0m                     for func, args, kwargs in self.items]\n\u001b[0;32m    264\u001b[0m \u001b[1;33m\u001b[0m\u001b[0m\n",
      "\u001b[1;32m~\\anaconda3\\lib\\site-packages\\sklearn\\utils\\fixes.py\u001b[0m in \u001b[0;36m__call__\u001b[1;34m(self, *args, **kwargs)\u001b[0m\n\u001b[0;32m    214\u001b[0m     \u001b[1;32mdef\u001b[0m \u001b[0m__call__\u001b[0m\u001b[1;33m(\u001b[0m\u001b[0mself\u001b[0m\u001b[1;33m,\u001b[0m \u001b[1;33m*\u001b[0m\u001b[0margs\u001b[0m\u001b[1;33m,\u001b[0m \u001b[1;33m**\u001b[0m\u001b[0mkwargs\u001b[0m\u001b[1;33m)\u001b[0m\u001b[1;33m:\u001b[0m\u001b[1;33m\u001b[0m\u001b[1;33m\u001b[0m\u001b[0m\n\u001b[0;32m    215\u001b[0m         \u001b[1;32mwith\u001b[0m \u001b[0mconfig_context\u001b[0m\u001b[1;33m(\u001b[0m\u001b[1;33m**\u001b[0m\u001b[0mself\u001b[0m\u001b[1;33m.\u001b[0m\u001b[0mconfig\u001b[0m\u001b[1;33m)\u001b[0m\u001b[1;33m:\u001b[0m\u001b[1;33m\u001b[0m\u001b[1;33m\u001b[0m\u001b[0m\n\u001b[1;32m--> 216\u001b[1;33m             \u001b[1;32mreturn\u001b[0m \u001b[0mself\u001b[0m\u001b[1;33m.\u001b[0m\u001b[0mfunction\u001b[0m\u001b[1;33m(\u001b[0m\u001b[1;33m*\u001b[0m\u001b[0margs\u001b[0m\u001b[1;33m,\u001b[0m \u001b[1;33m**\u001b[0m\u001b[0mkwargs\u001b[0m\u001b[1;33m)\u001b[0m\u001b[1;33m\u001b[0m\u001b[1;33m\u001b[0m\u001b[0m\n\u001b[0m\u001b[0;32m    217\u001b[0m \u001b[1;33m\u001b[0m\u001b[0m\n\u001b[0;32m    218\u001b[0m \u001b[1;33m\u001b[0m\u001b[0m\n",
      "\u001b[1;32m~\\anaconda3\\lib\\site-packages\\sklearn\\ensemble\\_forest.py\u001b[0m in \u001b[0;36m_parallel_build_trees\u001b[1;34m(tree, forest, X, y, sample_weight, tree_idx, n_trees, verbose, class_weight, n_samples_bootstrap)\u001b[0m\n\u001b[0;32m    183\u001b[0m             \u001b[0mcurr_sample_weight\u001b[0m \u001b[1;33m*=\u001b[0m \u001b[0mcompute_sample_weight\u001b[0m\u001b[1;33m(\u001b[0m\u001b[1;34m\"balanced\"\u001b[0m\u001b[1;33m,\u001b[0m \u001b[0my\u001b[0m\u001b[1;33m,\u001b[0m \u001b[0mindices\u001b[0m\u001b[1;33m=\u001b[0m\u001b[0mindices\u001b[0m\u001b[1;33m)\u001b[0m\u001b[1;33m\u001b[0m\u001b[1;33m\u001b[0m\u001b[0m\n\u001b[0;32m    184\u001b[0m \u001b[1;33m\u001b[0m\u001b[0m\n\u001b[1;32m--> 185\u001b[1;33m         \u001b[0mtree\u001b[0m\u001b[1;33m.\u001b[0m\u001b[0mfit\u001b[0m\u001b[1;33m(\u001b[0m\u001b[0mX\u001b[0m\u001b[1;33m,\u001b[0m \u001b[0my\u001b[0m\u001b[1;33m,\u001b[0m \u001b[0msample_weight\u001b[0m\u001b[1;33m=\u001b[0m\u001b[0mcurr_sample_weight\u001b[0m\u001b[1;33m,\u001b[0m \u001b[0mcheck_input\u001b[0m\u001b[1;33m=\u001b[0m\u001b[1;32mFalse\u001b[0m\u001b[1;33m)\u001b[0m\u001b[1;33m\u001b[0m\u001b[1;33m\u001b[0m\u001b[0m\n\u001b[0m\u001b[0;32m    186\u001b[0m     \u001b[1;32melse\u001b[0m\u001b[1;33m:\u001b[0m\u001b[1;33m\u001b[0m\u001b[1;33m\u001b[0m\u001b[0m\n\u001b[0;32m    187\u001b[0m         \u001b[0mtree\u001b[0m\u001b[1;33m.\u001b[0m\u001b[0mfit\u001b[0m\u001b[1;33m(\u001b[0m\u001b[0mX\u001b[0m\u001b[1;33m,\u001b[0m \u001b[0my\u001b[0m\u001b[1;33m,\u001b[0m \u001b[0msample_weight\u001b[0m\u001b[1;33m=\u001b[0m\u001b[0msample_weight\u001b[0m\u001b[1;33m,\u001b[0m \u001b[0mcheck_input\u001b[0m\u001b[1;33m=\u001b[0m\u001b[1;32mFalse\u001b[0m\u001b[1;33m)\u001b[0m\u001b[1;33m\u001b[0m\u001b[1;33m\u001b[0m\u001b[0m\n",
      "\u001b[1;32m~\\anaconda3\\lib\\site-packages\\sklearn\\tree\\_classes.py\u001b[0m in \u001b[0;36mfit\u001b[1;34m(self, X, y, sample_weight, check_input, X_idx_sorted)\u001b[0m\n\u001b[0;32m    935\u001b[0m         \"\"\"\n\u001b[0;32m    936\u001b[0m \u001b[1;33m\u001b[0m\u001b[0m\n\u001b[1;32m--> 937\u001b[1;33m         super().fit(\n\u001b[0m\u001b[0;32m    938\u001b[0m             \u001b[0mX\u001b[0m\u001b[1;33m,\u001b[0m\u001b[1;33m\u001b[0m\u001b[1;33m\u001b[0m\u001b[0m\n\u001b[0;32m    939\u001b[0m             \u001b[0my\u001b[0m\u001b[1;33m,\u001b[0m\u001b[1;33m\u001b[0m\u001b[1;33m\u001b[0m\u001b[0m\n",
      "\u001b[1;32m~\\anaconda3\\lib\\site-packages\\sklearn\\tree\\_classes.py\u001b[0m in \u001b[0;36mfit\u001b[1;34m(self, X, y, sample_weight, check_input, X_idx_sorted)\u001b[0m\n\u001b[0;32m    418\u001b[0m             )\n\u001b[0;32m    419\u001b[0m \u001b[1;33m\u001b[0m\u001b[0m\n\u001b[1;32m--> 420\u001b[1;33m         \u001b[0mbuilder\u001b[0m\u001b[1;33m.\u001b[0m\u001b[0mbuild\u001b[0m\u001b[1;33m(\u001b[0m\u001b[0mself\u001b[0m\u001b[1;33m.\u001b[0m\u001b[0mtree_\u001b[0m\u001b[1;33m,\u001b[0m \u001b[0mX\u001b[0m\u001b[1;33m,\u001b[0m \u001b[0my\u001b[0m\u001b[1;33m,\u001b[0m \u001b[0msample_weight\u001b[0m\u001b[1;33m)\u001b[0m\u001b[1;33m\u001b[0m\u001b[1;33m\u001b[0m\u001b[0m\n\u001b[0m\u001b[0;32m    421\u001b[0m \u001b[1;33m\u001b[0m\u001b[0m\n\u001b[0;32m    422\u001b[0m         \u001b[1;32mif\u001b[0m \u001b[0mself\u001b[0m\u001b[1;33m.\u001b[0m\u001b[0mn_outputs_\u001b[0m \u001b[1;33m==\u001b[0m \u001b[1;36m1\u001b[0m \u001b[1;32mand\u001b[0m \u001b[0mis_classifier\u001b[0m\u001b[1;33m(\u001b[0m\u001b[0mself\u001b[0m\u001b[1;33m)\u001b[0m\u001b[1;33m:\u001b[0m\u001b[1;33m\u001b[0m\u001b[1;33m\u001b[0m\u001b[0m\n",
      "\u001b[1;31mKeyboardInterrupt\u001b[0m: "
     ]
    }
   ],
   "source": [
    "def objective(trial):\n",
    "    # Define hyperparameters to search over\n",
    "    \n",
    "    max_depth = trial.suggest_int(\"max_depth\", 6, 10)\n",
    "    min_samples_split = trial.suggest_int(\"min_samples_split\", 2, 10)\n",
    "    min_samples_leaf = trial.suggest_int(\"min_samples_leaf\", 2, 10)\n",
    "    max_features = trial.suggest_uniform(\"max_features\", 0.4, 1.0)\n",
    "    \n",
    "    # Initialize random forest classifier with hyperparameters\n",
    "    clf = RandomForestClassifier(\n",
    "        max_depth=max_depth,\n",
    "        min_samples_split=min_samples_split,\n",
    "        min_samples_leaf=min_samples_leaf,\n",
    "        max_features=max_features,\n",
    "        random_state=42,\n",
    "    )\n",
    "\n",
    "    # Train and predict on validation set\n",
    "    clf.fit(x_treino, y_treino)\n",
    "    y_pred = clf.predict(x_teste)\n",
    "\n",
    "    # Calculate accuracy score\n",
    "    f1 = metrics.f1_score(y_teste, y_pred)\n",
    "\n",
    "    return f1\n",
    "\n",
    "# Create Optuna study and optimize hyperparameters\n",
    "study = optuna.create_study(direction=\"maximize\")\n",
    "study.optimize(objective, n_trials=200,timeout=600)\n",
    "\n",
    "# Print best hyperparameters and corresponding accuracy score\n",
    "best_trial = study.best_trial\n",
    "print(f\"Best trial: {best_trial.number}\")\n",
    "print(f\"Accuracy: {best_trial.value}\")\n",
    "for key, value in best_trial.params.items():\n",
    "    print(f\"{key}: {value}\")"
   ]
  },
  {
   "cell_type": "code",
   "execution_count": 52,
   "metadata": {},
   "outputs": [
    {
     "name": "stdout",
     "output_type": "stream",
     "text": [
      "0.7466440582167585\n"
     ]
    }
   ],
   "source": [
    "modelo_random_forest = RandomForestClassifier(n_estimators = 2000,\n",
    "    max_depth = 7,\n",
    "    min_samples_split = 4,\n",
    "    min_samples_leaf = 2,\n",
    "    max_features = 0.5)\n",
    "modelo_random_forest.fit(x_treino,y_treino)\n",
    "Y = pd.DataFrame()\n",
    "y_previsao = modelo_random_forest.predict(x_teste)\n",
    "print(metrics.f1_score(y_teste,y_previsao))"
   ]
  },
  {
   "cell_type": "markdown",
   "metadata": {
    "heading_collapsed": true
   },
   "source": [
    "## 7.5. XGBoost "
   ]
  },
  {
   "cell_type": "code",
   "execution_count": 43,
   "metadata": {
    "hidden": true
   },
   "outputs": [
    {
     "name": "stdout",
     "output_type": "stream",
     "text": [
      "0.9468882779305173\n"
     ]
    }
   ],
   "source": [
    "modelo_xgb = xgb.XGBClassifier(n_estimators = 500, max_depth = 6, random_state = 42)\n",
    "modelo_xgb.fit(x_treino, y_treino)\n",
    "y_xgb = modelo_xgb.predict(x_teste)\n",
    "print(metrics.f1_score(y_teste,y_xgb))"
   ]
  },
  {
   "cell_type": "markdown",
   "metadata": {},
   "source": [
    "# Optuna"
   ]
  },
  {
   "cell_type": "code",
   "execution_count": 45,
   "metadata": {
    "code_folding": [
     0
    ],
    "collapsed": true
   },
   "outputs": [
    {
     "name": "stderr",
     "output_type": "stream",
     "text": [
      "\u001b[32m[I 2023-03-26 06:17:07,278]\u001b[0m A new study created in memory with name: no-name-faa1c4ca-7a1d-4d83-aaae-dd386d88d50c\u001b[0m\n",
      "\u001b[32m[I 2023-03-26 06:17:09,574]\u001b[0m Trial 0 finished with value: 0.9414191934979681 and parameters: {'max_depth': 7, 'learning_rate': 0.6470280915279841, 'min_child_weight': 7, 'subsample': 0.735556348732361}. Best is trial 0 with value: 0.9414191934979681.\u001b[0m\n",
      "\u001b[32m[I 2023-03-26 06:17:10,359]\u001b[0m Trial 1 finished with value: 0.8570896911053218 and parameters: {'max_depth': 2, 'learning_rate': 0.1849224895408612, 'min_child_weight': 7, 'subsample': 0.8447441322974777}. Best is trial 0 with value: 0.9414191934979681.\u001b[0m\n",
      "\u001b[32m[I 2023-03-26 06:17:11,611]\u001b[0m Trial 2 finished with value: 0.9324815232368783 and parameters: {'max_depth': 5, 'learning_rate': 0.6453389027836505, 'min_child_weight': 4, 'subsample': 0.5931230733382671}. Best is trial 0 with value: 0.9414191934979681.\u001b[0m\n",
      "\u001b[32m[I 2023-03-26 06:17:12,601]\u001b[0m Trial 3 finished with value: 0.8428562488265849 and parameters: {'max_depth': 3, 'learning_rate': 0.039361626603984165, 'min_child_weight': 3, 'subsample': 0.9325566921120867}. Best is trial 0 with value: 0.9414191934979681.\u001b[0m\n",
      "\u001b[32m[I 2023-03-26 06:17:14,014]\u001b[0m Trial 4 finished with value: 0.9379776970304473 and parameters: {'max_depth': 6, 'learning_rate': 0.6755526297318019, 'min_child_weight': 6, 'subsample': 0.558341238841817}. Best is trial 0 with value: 0.9414191934979681.\u001b[0m\n",
      "\u001b[32m[I 2023-03-26 06:17:15,065]\u001b[0m Trial 5 finished with value: 0.9089095330132801 and parameters: {'max_depth': 3, 'learning_rate': 0.4955019478397633, 'min_child_weight': 10, 'subsample': 0.7217717135271663}. Best is trial 0 with value: 0.9414191934979681.\u001b[0m\n",
      "\u001b[32m[I 2023-03-26 06:17:16,228]\u001b[0m Trial 6 finished with value: 0.9227408886669994 and parameters: {'max_depth': 4, 'learning_rate': 0.45005309053587866, 'min_child_weight': 5, 'subsample': 0.5320955127596856}. Best is trial 0 with value: 0.9414191934979681.\u001b[0m\n",
      "\u001b[32m[I 2023-03-26 06:17:16,845]\u001b[0m Trial 7 finished with value: 0.6016644908616188 and parameters: {'max_depth': 1, 'learning_rate': 0.013736176893136815, 'min_child_weight': 10, 'subsample': 0.7873555975939317}. Best is trial 0 with value: 0.9414191934979681.\u001b[0m\n",
      "\u001b[32m[I 2023-03-26 06:17:18,045]\u001b[0m Trial 8 finished with value: 0.9300062383031815 and parameters: {'max_depth': 4, 'learning_rate': 0.6855036616853571, 'min_child_weight': 8, 'subsample': 0.9360953425276334}. Best is trial 0 with value: 0.9414191934979681.\u001b[0m\n",
      "\u001b[32m[I 2023-03-26 06:17:20,042]\u001b[0m Trial 9 finished with value: 0.9456371625863151 and parameters: {'max_depth': 10, 'learning_rate': 0.30347397559884853, 'min_child_weight': 4, 'subsample': 0.5033588116620727}. Best is trial 9 with value: 0.9456371625863151.\u001b[0m\n",
      "\u001b[32m[I 2023-03-26 06:17:22,261]\u001b[0m Trial 10 finished with value: 0.9443229394488534 and parameters: {'max_depth': 10, 'learning_rate': 0.14319497545232518, 'min_child_weight': 1, 'subsample': 0.6411746581074086}. Best is trial 9 with value: 0.9456371625863151.\u001b[0m\n",
      "\u001b[32m[I 2023-03-26 06:17:24,457]\u001b[0m Trial 11 finished with value: 0.9449300699300699 and parameters: {'max_depth': 10, 'learning_rate': 0.1484817530778116, 'min_child_weight': 1, 'subsample': 0.6164493695133275}. Best is trial 9 with value: 0.9456371625863151.\u001b[0m\n",
      "\u001b[32m[I 2023-03-26 06:17:26,563]\u001b[0m Trial 12 finished with value: 0.94657251765294 and parameters: {'max_depth': 10, 'learning_rate': 0.22434267476112216, 'min_child_weight': 1, 'subsample': 0.5031156409678393}. Best is trial 12 with value: 0.94657251765294.\u001b[0m\n",
      "\u001b[32m[I 2023-03-26 06:17:28,292]\u001b[0m Trial 13 finished with value: 0.9411691231576318 and parameters: {'max_depth': 8, 'learning_rate': 0.26524800099351714, 'min_child_weight': 3, 'subsample': 0.5008770944884884}. Best is trial 12 with value: 0.94657251765294.\u001b[0m\n",
      "\u001b[32m[I 2023-03-26 06:17:30,158]\u001b[0m Trial 14 finished with value: 0.930648769574944 and parameters: {'max_depth': 9, 'learning_rate': 0.07434113789505795, 'min_child_weight': 2, 'subsample': 0.5112299422547115}. Best is trial 12 with value: 0.94657251765294.\u001b[0m\n",
      "\u001b[32m[I 2023-03-26 06:17:31,897]\u001b[0m Trial 15 finished with value: 0.9405216086059166 and parameters: {'max_depth': 8, 'learning_rate': 0.27575738030310165, 'min_child_weight': 4, 'subsample': 0.5588869096492}. Best is trial 12 with value: 0.94657251765294.\u001b[0m\n",
      "\u001b[32m[I 2023-03-26 06:17:33,775]\u001b[0m Trial 16 finished with value: 0.9428964138448083 and parameters: {'max_depth': 9, 'learning_rate': 0.3183218659425859, 'min_child_weight': 2, 'subsample': 0.5002274321902015}. Best is trial 12 with value: 0.94657251765294.\u001b[0m\n",
      "\u001b[32m[I 2023-03-26 06:17:35,950]\u001b[0m Trial 17 finished with value: 0.9344598372367522 and parameters: {'max_depth': 10, 'learning_rate': 0.08348557008264192, 'min_child_weight': 5, 'subsample': 0.6387841155679655}. Best is trial 12 with value: 0.94657251765294.\u001b[0m\n",
      "\u001b[32m[I 2023-03-26 06:17:37,569]\u001b[0m Trial 18 finished with value: 0.93935983995999 and parameters: {'max_depth': 7, 'learning_rate': 0.3698051598726971, 'min_child_weight': 3, 'subsample': 0.5657847525014511}. Best is trial 12 with value: 0.94657251765294.\u001b[0m\n",
      "\u001b[32m[I 2023-03-26 06:17:39,612]\u001b[0m Trial 19 finished with value: 0.9452910317262054 and parameters: {'max_depth': 9, 'learning_rate': 0.20639470032643947, 'min_child_weight': 1, 'subsample': 0.6730096140824167}. Best is trial 12 with value: 0.94657251765294.\u001b[0m\n",
      "\u001b[32m[I 2023-03-26 06:17:41,336]\u001b[0m Trial 20 finished with value: 0.9431711145996861 and parameters: {'max_depth': 8, 'learning_rate': 0.9134860921549268, 'min_child_weight': 4, 'subsample': 0.5859653941363498}. Best is trial 12 with value: 0.94657251765294.\u001b[0m\n",
      "\u001b[32m[I 2023-03-26 06:17:43,348]\u001b[0m Trial 21 finished with value: 0.9452251577040784 and parameters: {'max_depth': 9, 'learning_rate': 0.22054397830569417, 'min_child_weight': 1, 'subsample': 0.6733906788710339}. Best is trial 12 with value: 0.94657251765294.\u001b[0m\n",
      "\u001b[32m[I 2023-03-26 06:17:45,401]\u001b[0m Trial 22 finished with value: 0.9404412224235985 and parameters: {'max_depth': 10, 'learning_rate': 0.11991550027568373, 'min_child_weight': 2, 'subsample': 0.5379563443308036}. Best is trial 12 with value: 0.94657251765294.\u001b[0m\n",
      "\u001b[32m[I 2023-03-26 06:17:47,454]\u001b[0m Trial 23 finished with value: 0.9451044141553082 and parameters: {'max_depth': 9, 'learning_rate': 0.20024911433337533, 'min_child_weight': 1, 'subsample': 0.6054632460276842}. Best is trial 12 with value: 0.94657251765294.\u001b[0m\n",
      "\u001b[32m[I 2023-03-26 06:17:49,092]\u001b[0m Trial 24 finished with value: 0.9399762158102273 and parameters: {'max_depth': 7, 'learning_rate': 0.36331867195916767, 'min_child_weight': 2, 'subsample': 0.5324943629242254}. Best is trial 12 with value: 0.94657251765294.\u001b[0m\n",
      "\u001b[32m[I 2023-03-26 06:17:51,317]\u001b[0m Trial 25 finished with value: 0.9451402805611222 and parameters: {'max_depth': 10, 'learning_rate': 0.23325387528276387, 'min_child_weight': 3, 'subsample': 0.6685990300928843}. Best is trial 12 with value: 0.94657251765294.\u001b[0m\n",
      "\u001b[32m[I 2023-03-26 06:17:53,121]\u001b[0m Trial 26 finished with value: 0.9325451151213441 and parameters: {'max_depth': 8, 'learning_rate': 0.11950967743742258, 'min_child_weight': 2, 'subsample': 0.5824016346903688}. Best is trial 12 with value: 0.94657251765294.\u001b[0m\n",
      "\u001b[32m[I 2023-03-26 06:17:54,951]\u001b[0m Trial 27 finished with value: 0.9451926088318197 and parameters: {'max_depth': 9, 'learning_rate': 0.4140982287886276, 'min_child_weight': 6, 'subsample': 0.5383811889540945}. Best is trial 12 with value: 0.94657251765294.\u001b[0m\n",
      "\u001b[32m[I 2023-03-26 06:17:56,360]\u001b[0m Trial 28 finished with value: 0.9319795689547775 and parameters: {'max_depth': 6, 'learning_rate': 0.18649573335198427, 'min_child_weight': 1, 'subsample': 0.5163965948152163}. Best is trial 12 with value: 0.94657251765294.\u001b[0m\n",
      "\u001b[32m[I 2023-03-26 06:17:57,958]\u001b[0m Trial 29 finished with value: 0.9353992252905161 and parameters: {'max_depth': 7, 'learning_rate': 0.283184206848237, 'min_child_weight': 9, 'subsample': 0.6986809094775706}. Best is trial 12 with value: 0.94657251765294.\u001b[0m\n",
      "\u001b[32m[I 2023-03-26 06:18:00,078]\u001b[0m Trial 30 finished with value: 0.9335981134417277 and parameters: {'max_depth': 10, 'learning_rate': 0.0811046524913715, 'min_child_weight': 7, 'subsample': 0.7472495763920799}. Best is trial 12 with value: 0.94657251765294.\u001b[0m\n"
     ]
    },
    {
     "name": "stderr",
     "output_type": "stream",
     "text": [
      "\u001b[32m[I 2023-03-26 06:18:02,083]\u001b[0m Trial 31 finished with value: 0.9446946946946947 and parameters: {'max_depth': 9, 'learning_rate': 0.23476429304239543, 'min_child_weight': 1, 'subsample': 0.6664100008580992}. Best is trial 12 with value: 0.94657251765294.\u001b[0m\n",
      "\u001b[32m[I 2023-03-26 06:18:04,073]\u001b[0m Trial 32 finished with value: 0.9439929991248907 and parameters: {'max_depth': 9, 'learning_rate': 0.18790796345080818, 'min_child_weight': 1, 'subsample': 0.6233329497148732}. Best is trial 12 with value: 0.94657251765294.\u001b[0m\n",
      "\u001b[32m[I 2023-03-26 06:18:05,854]\u001b[0m Trial 33 finished with value: 0.9440690690690691 and parameters: {'max_depth': 8, 'learning_rate': 0.32569947906583646, 'min_child_weight': 2, 'subsample': 0.5776717832817283}. Best is trial 12 with value: 0.94657251765294.\u001b[0m\n",
      "\u001b[32m[I 2023-03-26 06:18:07,750]\u001b[0m Trial 34 finished with value: 0.9403824521934759 and parameters: {'max_depth': 9, 'learning_rate': 0.1630037985284386, 'min_child_weight': 3, 'subsample': 0.598581473284874}. Best is trial 12 with value: 0.94657251765294.\u001b[0m\n",
      "\u001b[32m[I 2023-03-26 06:18:09,975]\u001b[0m Trial 35 finished with value: 0.9487099001820579 and parameters: {'max_depth': 10, 'learning_rate': 0.5213295286133423, 'min_child_weight': 1, 'subsample': 0.6872717464784801}. Best is trial 35 with value: 0.9487099001820579.\u001b[0m\n",
      "\u001b[32m[I 2023-03-26 06:18:12,102]\u001b[0m Trial 36 finished with value: 0.9462594845425472 and parameters: {'max_depth': 10, 'learning_rate': 0.422989740000125, 'min_child_weight': 4, 'subsample': 0.7653272745861587}. Best is trial 35 with value: 0.9487099001820579.\u001b[0m\n",
      "\u001b[32m[I 2023-03-26 06:18:14,236]\u001b[0m Trial 37 finished with value: 0.9455867602808425 and parameters: {'max_depth': 10, 'learning_rate': 0.5902927099558268, 'min_child_weight': 5, 'subsample': 0.8407242252959826}. Best is trial 35 with value: 0.9487099001820579.\u001b[0m\n",
      "\u001b[32m[I 2023-03-26 06:18:15,708]\u001b[0m Trial 38 finished with value: 0.938168177555486 and parameters: {'max_depth': 6, 'learning_rate': 0.505659026828953, 'min_child_weight': 4, 'subsample': 0.7545610166303097}. Best is trial 35 with value: 0.9487099001820579.\u001b[0m\n",
      "\u001b[32m[I 2023-03-26 06:18:17,712]\u001b[0m Trial 39 finished with value: 0.9432921862272072 and parameters: {'max_depth': 10, 'learning_rate': 0.43297918177121103, 'min_child_weight': 6, 'subsample': 0.5536189685587414}. Best is trial 35 with value: 0.9487099001820579.\u001b[0m\n",
      "\u001b[32m[I 2023-03-26 06:18:19,081]\u001b[0m Trial 40 finished with value: 0.938189983159733 and parameters: {'max_depth': 5, 'learning_rate': 0.8457551274811913, 'min_child_weight': 4, 'subsample': 0.9738286810464565}. Best is trial 35 with value: 0.9487099001820579.\u001b[0m\n",
      "\u001b[32m[I 2023-03-26 06:18:21,214]\u001b[0m Trial 41 finished with value: 0.9470909433251742 and parameters: {'max_depth': 10, 'learning_rate': 0.5647114762199232, 'min_child_weight': 5, 'subsample': 0.8320670973380128}. Best is trial 35 with value: 0.9487099001820579.\u001b[0m\n",
      "\u001b[32m[I 2023-03-26 06:18:23,335]\u001b[0m Trial 42 finished with value: 0.9473419946023974 and parameters: {'max_depth': 10, 'learning_rate': 0.5560255410553172, 'min_child_weight': 5, 'subsample': 0.792920592305054}. Best is trial 35 with value: 0.9487099001820579.\u001b[0m\n",
      "\u001b[32m[I 2023-03-26 06:18:23,923]\u001b[0m Trial 43 finished with value: 0.8465997631365704 and parameters: {'max_depth': 1, 'learning_rate': 0.6054722545785846, 'min_child_weight': 5, 'subsample': 0.8151196852544176}. Best is trial 35 with value: 0.9487099001820579.\u001b[0m\n",
      "\u001b[32m[I 2023-03-26 06:18:26,023]\u001b[0m Trial 44 finished with value: 0.9455547898001377 and parameters: {'max_depth': 10, 'learning_rate': 0.5124032838573206, 'min_child_weight': 6, 'subsample': 0.7754290040292087}. Best is trial 35 with value: 0.9487099001820579.\u001b[0m\n",
      "\u001b[32m[I 2023-03-26 06:18:28,138]\u001b[0m Trial 45 finished with value: 0.9450260139158779 and parameters: {'max_depth': 10, 'learning_rate': 0.7514788219934669, 'min_child_weight': 7, 'subsample': 0.8861725350508934}. Best is trial 35 with value: 0.9487099001820579.\u001b[0m\n",
      "\u001b[32m[I 2023-03-26 06:18:29,075]\u001b[0m Trial 46 finished with value: 0.9171401810802372 and parameters: {'max_depth': 3, 'learning_rate': 0.9993822796526954, 'min_child_weight': 8, 'subsample': 0.7222716072641093}. Best is trial 35 with value: 0.9487099001820579.\u001b[0m\n",
      "\u001b[32m[I 2023-03-26 06:18:30,887]\u001b[0m Trial 47 finished with value: 0.9434695412384057 and parameters: {'max_depth': 8, 'learning_rate': 0.6970213604146503, 'min_child_weight': 5, 'subsample': 0.8004993502215856}. Best is trial 35 with value: 0.9487099001820579.\u001b[0m\n",
      "\u001b[32m[I 2023-03-26 06:18:32,983]\u001b[0m Trial 48 finished with value: 0.9464308116923849 and parameters: {'max_depth': 10, 'learning_rate': 0.5339900855334159, 'min_child_weight': 6, 'subsample': 0.7680837461625665}. Best is trial 35 with value: 0.9487099001820579.\u001b[0m\n",
      "\u001b[32m[I 2023-03-26 06:18:34,896]\u001b[0m Trial 49 finished with value: 0.946312092323131 and parameters: {'max_depth': 9, 'learning_rate': 0.5367315917108404, 'min_child_weight': 8, 'subsample': 0.7361976918805387}. Best is trial 35 with value: 0.9487099001820579.\u001b[0m\n",
      "\u001b[32m[I 2023-03-26 06:18:36,999]\u001b[0m Trial 50 finished with value: 0.948774217819299 and parameters: {'max_depth': 10, 'learning_rate': 0.6700464468021834, 'min_child_weight': 6, 'subsample': 0.7833722296719879}. Best is trial 50 with value: 0.948774217819299.\u001b[0m\n",
      "\u001b[32m[I 2023-03-26 06:18:39,115]\u001b[0m Trial 51 finished with value: 0.9458850056369785 and parameters: {'max_depth': 10, 'learning_rate': 0.6922335325875726, 'min_child_weight': 6, 'subsample': 0.7889474293336272}. Best is trial 50 with value: 0.948774217819299.\u001b[0m\n",
      "\u001b[32m[I 2023-03-26 06:18:41,082]\u001b[0m Trial 52 finished with value: 0.9456187668569277 and parameters: {'max_depth': 9, 'learning_rate': 0.5852679427467578, 'min_child_weight': 7, 'subsample': 0.8219625805957987}. Best is trial 50 with value: 0.948774217819299.\u001b[0m\n",
      "\u001b[32m[I 2023-03-26 06:18:43,236]\u001b[0m Trial 53 finished with value: 0.9459374804234792 and parameters: {'max_depth': 10, 'learning_rate': 0.4625420210203579, 'min_child_weight': 6, 'subsample': 0.8721748188063084}. Best is trial 50 with value: 0.948774217819299.\u001b[0m\n",
      "\u001b[32m[I 2023-03-26 06:18:45,301]\u001b[0m Trial 54 finished with value: 0.9464633151321158 and parameters: {'max_depth': 10, 'learning_rate': 0.842590409656029, 'min_child_weight': 7, 'subsample': 0.7729135861040346}. Best is trial 50 with value: 0.948774217819299.\u001b[0m\n",
      "\u001b[32m[I 2023-03-26 06:18:47,229]\u001b[0m Trial 55 finished with value: 0.9439709200300826 and parameters: {'max_depth': 9, 'learning_rate': 0.8396178437868365, 'min_child_weight': 7, 'subsample': 0.7938447813579627}. Best is trial 50 with value: 0.948774217819299.\u001b[0m\n",
      "\u001b[32m[I 2023-03-26 06:18:49,219]\u001b[0m Trial 56 finished with value: 0.9449984321103794 and parameters: {'max_depth': 10, 'learning_rate': 0.7776673418433304, 'min_child_weight': 9, 'subsample': 0.7261946146019536}. Best is trial 50 with value: 0.948774217819299.\u001b[0m\n",
      "\u001b[32m[I 2023-03-26 06:18:50,982]\u001b[0m Trial 57 finished with value: 0.9438455753321636 and parameters: {'max_depth': 8, 'learning_rate': 0.9929689207718375, 'min_child_weight': 8, 'subsample': 0.7071422133807888}. Best is trial 50 with value: 0.948774217819299.\u001b[0m\n",
      "\u001b[32m[I 2023-03-26 06:18:52,100]\u001b[0m Trial 58 finished with value: 0.9316164520565071 and parameters: {'max_depth': 4, 'learning_rate': 0.7684038410501713, 'min_child_weight': 5, 'subsample': 0.7475229726498166}. Best is trial 50 with value: 0.948774217819299.\u001b[0m\n",
      "\u001b[32m[I 2023-03-26 06:18:54,105]\u001b[0m Trial 59 finished with value: 0.94575 and parameters: {'max_depth': 9, 'learning_rate': 0.6244888134429617, 'min_child_weight': 9, 'subsample': 0.8113300578607804}. Best is trial 50 with value: 0.948774217819299.\u001b[0m\n",
      "\u001b[32m[I 2023-03-26 06:18:56,280]\u001b[0m Trial 60 finished with value: 0.9449380553122263 and parameters: {'max_depth': 10, 'learning_rate': 0.3670213236850158, 'min_child_weight': 7, 'subsample': 0.8374509358790995}. Best is trial 50 with value: 0.948774217819299.\u001b[0m\n",
      "\u001b[32m[I 2023-03-26 06:18:58,380]\u001b[0m Trial 61 finished with value: 0.9464184997179921 and parameters: {'max_depth': 10, 'learning_rate': 0.5256824801577317, 'min_child_weight': 6, 'subsample': 0.7738603625198791}. Best is trial 50 with value: 0.948774217819299.\u001b[0m\n"
     ]
    },
    {
     "name": "stderr",
     "output_type": "stream",
     "text": [
      "\u001b[32m[I 2023-03-26 06:19:00,490]\u001b[0m Trial 62 finished with value: 0.9468265427836021 and parameters: {'max_depth': 10, 'learning_rate': 0.6628886542650841, 'min_child_weight': 6, 'subsample': 0.7943049239964611}. Best is trial 50 with value: 0.948774217819299.\u001b[0m\n",
      "\u001b[32m[I 2023-03-26 06:19:02,440]\u001b[0m Trial 63 finished with value: 0.9452037617554859 and parameters: {'max_depth': 9, 'learning_rate': 0.6634984568332163, 'min_child_weight': 5, 'subsample': 0.7876589222148689}. Best is trial 50 with value: 0.948774217819299.\u001b[0m\n",
      "\u001b[32m[I 2023-03-26 06:19:04,553]\u001b[0m Trial 64 finished with value: 0.9469403078463271 and parameters: {'max_depth': 10, 'learning_rate': 0.9198525178173353, 'min_child_weight': 6, 'subsample': 0.8614913952014299}. Best is trial 50 with value: 0.948774217819299.\u001b[0m\n",
      "\u001b[32m[I 2023-03-26 06:19:06,534]\u001b[0m Trial 65 finished with value: 0.9447990987607962 and parameters: {'max_depth': 9, 'learning_rate': 0.39158352967754534, 'min_child_weight': 5, 'subsample': 0.8686316169770387}. Best is trial 50 with value: 0.948774217819299.\u001b[0m\n",
      "\u001b[32m[I 2023-03-26 06:19:08,640]\u001b[0m Trial 66 finished with value: 0.9464173672982809 and parameters: {'max_depth': 10, 'learning_rate': 0.689306595301461, 'min_child_weight': 6, 'subsample': 0.8250228743303158}. Best is trial 50 with value: 0.948774217819299.\u001b[0m\n",
      "\u001b[32m[I 2023-03-26 06:19:10,826]\u001b[0m Trial 67 finished with value: 0.9458307210031349 and parameters: {'max_depth': 10, 'learning_rate': 0.4654233821260835, 'min_child_weight': 3, 'subsample': 0.8550009296737003}. Best is trial 50 with value: 0.948774217819299.\u001b[0m\n",
      "\u001b[32m[I 2023-03-26 06:19:12,818]\u001b[0m Trial 68 finished with value: 0.9425229845518794 and parameters: {'max_depth': 9, 'learning_rate': 0.3481644319400386, 'min_child_weight': 6, 'subsample': 0.8978807187662443}. Best is trial 50 with value: 0.948774217819299.\u001b[0m\n",
      "\u001b[32m[I 2023-03-26 06:19:14,933]\u001b[0m Trial 69 finished with value: 0.9453291536050157 and parameters: {'max_depth': 10, 'learning_rate': 0.8930570627693887, 'min_child_weight': 5, 'subsample': 0.8313915399815409}. Best is trial 50 with value: 0.948774217819299.\u001b[0m\n",
      "\u001b[32m[I 2023-03-26 06:19:16,908]\u001b[0m Trial 70 finished with value: 0.944083874188717 and parameters: {'max_depth': 9, 'learning_rate': 0.2866139819434064, 'min_child_weight': 4, 'subsample': 0.8018746644605061}. Best is trial 50 with value: 0.948774217819299.\u001b[0m\n",
      "\u001b[32m[I 2023-03-26 06:19:18,988]\u001b[0m Trial 71 finished with value: 0.9460867382162808 and parameters: {'max_depth': 10, 'learning_rate': 0.8714908572552112, 'min_child_weight': 7, 'subsample': 0.8473647441716038}. Best is trial 50 with value: 0.948774217819299.\u001b[0m\n",
      "\u001b[32m[I 2023-03-26 06:19:21,078]\u001b[0m Trial 72 finished with value: 0.9451154640465611 and parameters: {'max_depth': 10, 'learning_rate': 0.6054732306680768, 'min_child_weight': 7, 'subsample': 0.8090547548887331}. Best is trial 50 with value: 0.948774217819299.\u001b[0m\n",
      "\u001b[32m[I 2023-03-26 06:19:23,248]\u001b[0m Trial 73 finished with value: 0.9481332999248308 and parameters: {'max_depth': 10, 'learning_rate': 0.7625187138417421, 'min_child_weight': 2, 'subsample': 0.7580431274031425}. Best is trial 50 with value: 0.948774217819299.\u001b[0m\n",
      "\u001b[32m[I 2023-03-26 06:19:25,408]\u001b[0m Trial 74 finished with value: 0.9482076715424695 and parameters: {'max_depth': 10, 'learning_rate': 0.7655683859528851, 'min_child_weight': 2, 'subsample': 0.7364977673837}. Best is trial 50 with value: 0.948774217819299.\u001b[0m\n",
      "\u001b[32m[I 2023-03-26 06:19:27,410]\u001b[0m Trial 75 finished with value: 0.9478762059892244 and parameters: {'max_depth': 9, 'learning_rate': 0.737737799351661, 'min_child_weight': 2, 'subsample': 0.7552545155860501}. Best is trial 50 with value: 0.948774217819299.\u001b[0m\n",
      "\u001b[32m[I 2023-03-26 06:19:29,398]\u001b[0m Trial 76 finished with value: 0.947824449048785 and parameters: {'max_depth': 9, 'learning_rate': 0.7403070367259681, 'min_child_weight': 2, 'subsample': 0.7395361090278083}. Best is trial 50 with value: 0.948774217819299.\u001b[0m\n",
      "\u001b[32m[I 2023-03-26 06:19:31,242]\u001b[0m Trial 77 finished with value: 0.9465314300025044 and parameters: {'max_depth': 8, 'learning_rate': 0.7577678505595812, 'min_child_weight': 2, 'subsample': 0.7550588019460761}. Best is trial 50 with value: 0.948774217819299.\u001b[0m\n",
      "\u001b[32m[I 2023-03-26 06:19:33,228]\u001b[0m Trial 78 finished with value: 0.9480405659196194 and parameters: {'max_depth': 9, 'learning_rate': 0.46035028624809055, 'min_child_weight': 2, 'subsample': 0.7400975710336425}. Best is trial 50 with value: 0.948774217819299.\u001b[0m\n",
      "\u001b[32m[I 2023-03-26 06:19:35,051]\u001b[0m Trial 79 finished with value: 0.9462122638548924 and parameters: {'max_depth': 8, 'learning_rate': 0.47789103658639487, 'min_child_weight': 2, 'subsample': 0.7035104841754244}. Best is trial 50 with value: 0.948774217819299.\u001b[0m\n",
      "\u001b[32m[I 2023-03-26 06:19:37,045]\u001b[0m Trial 80 finished with value: 0.9450315802638983 and parameters: {'max_depth': 9, 'learning_rate': 0.45636028637413834, 'min_child_weight': 3, 'subsample': 0.7353322136523617}. Best is trial 50 with value: 0.948774217819299.\u001b[0m\n",
      "\u001b[32m[I 2023-03-26 06:19:39,057]\u001b[0m Trial 81 finished with value: 0.9462136409227684 and parameters: {'max_depth': 9, 'learning_rate': 0.5559922720769483, 'min_child_weight': 2, 'subsample': 0.7566850706169359}. Best is trial 50 with value: 0.948774217819299.\u001b[0m\n",
      "\u001b[32m[I 2023-03-26 06:19:41,108]\u001b[0m Trial 82 finished with value: 0.9486423778767167 and parameters: {'max_depth': 9, 'learning_rate': 0.6148926356637288, 'min_child_weight': 1, 'subsample': 0.7354795717992895}. Best is trial 50 with value: 0.948774217819299.\u001b[0m\n",
      "\u001b[32m[I 2023-03-26 06:19:42,799]\u001b[0m Trial 83 finished with value: 0.9441389652586852 and parameters: {'max_depth': 7, 'learning_rate': 0.7431910391757922, 'min_child_weight': 1, 'subsample': 0.7393563920007459}. Best is trial 50 with value: 0.948774217819299.\u001b[0m\n",
      "\u001b[32m[I 2023-03-26 06:19:44,821]\u001b[0m Trial 84 finished with value: 0.9489693313222725 and parameters: {'max_depth': 9, 'learning_rate': 0.6323626047362968, 'min_child_weight': 1, 'subsample': 0.714054534445977}. Best is trial 84 with value: 0.9489693313222725.\u001b[0m\n",
      "\u001b[32m[I 2023-03-26 06:19:46,657]\u001b[0m Trial 85 finished with value: 0.9472564599887381 and parameters: {'max_depth': 8, 'learning_rate': 0.4241854094560044, 'min_child_weight': 1, 'subsample': 0.712946440835504}. Best is trial 84 with value: 0.9489693313222725.\u001b[0m\n",
      "\u001b[32m[I 2023-03-26 06:19:48,632]\u001b[0m Trial 86 finished with value: 0.9456255879586077 and parameters: {'max_depth': 9, 'learning_rate': 0.6218266270601011, 'min_child_weight': 2, 'subsample': 0.6931156484213731}. Best is trial 84 with value: 0.9489693313222725.\u001b[0m\n",
      "\u001b[32m[I 2023-03-26 06:19:50,687]\u001b[0m Trial 87 finished with value: 0.9484186746987951 and parameters: {'max_depth': 9, 'learning_rate': 0.7802588857816958, 'min_child_weight': 1, 'subsample': 0.7192557978647447}. Best is trial 84 with value: 0.9489693313222725.\u001b[0m\n",
      "\u001b[32m[I 2023-03-26 06:19:52,538]\u001b[0m Trial 88 finished with value: 0.9451185012887408 and parameters: {'max_depth': 8, 'learning_rate': 0.990581691238966, 'min_child_weight': 1, 'subsample': 0.721748012312928}. Best is trial 84 with value: 0.9489693313222725.\u001b[0m\n",
      "\u001b[32m[I 2023-03-26 06:19:54,549]\u001b[0m Trial 89 finished with value: 0.9472032142632935 and parameters: {'max_depth': 9, 'learning_rate': 0.833587858944798, 'min_child_weight': 1, 'subsample': 0.6914086906302794}. Best is trial 84 with value: 0.9489693313222725.\u001b[0m\n",
      "\u001b[32m[I 2023-03-26 06:19:56,377]\u001b[0m Trial 90 finished with value: 0.9461152882205514 and parameters: {'max_depth': 8, 'learning_rate': 0.6705344315868358, 'min_child_weight': 1, 'subsample': 0.6878877487165692}. Best is trial 84 with value: 0.9489693313222725.\u001b[0m\n",
      "\u001b[32m[I 2023-03-26 06:19:58,415]\u001b[0m Trial 91 finished with value: 0.9464845218699085 and parameters: {'max_depth': 9, 'learning_rate': 0.7765934976088906, 'min_child_weight': 2, 'subsample': 0.7154134636061925}. Best is trial 84 with value: 0.9489693313222725.\u001b[0m\n",
      "\u001b[32m[I 2023-03-26 06:20:00,500]\u001b[0m Trial 92 finished with value: 0.9483591642090732 and parameters: {'max_depth': 9, 'learning_rate': 0.6091730508058044, 'min_child_weight': 2, 'subsample': 0.7323214705952353}. Best is trial 84 with value: 0.9489693313222725.\u001b[0m\n"
     ]
    },
    {
     "name": "stderr",
     "output_type": "stream",
     "text": [
      "\u001b[32m[I 2023-03-26 06:20:02,583]\u001b[0m Trial 93 finished with value: 0.9482466595571168 and parameters: {'max_depth': 9, 'learning_rate': 0.5014341561007198, 'min_child_weight': 1, 'subsample': 0.7292028492493547}. Best is trial 84 with value: 0.9489693313222725.\u001b[0m\n",
      "\u001b[32m[I 2023-03-26 06:20:04,604]\u001b[0m Trial 94 finished with value: 0.9491312801856614 and parameters: {'max_depth': 9, 'learning_rate': 0.496460462572989, 'min_child_weight': 1, 'subsample': 0.7314719104836033}. Best is trial 94 with value: 0.9491312801856614.\u001b[0m\n",
      "\u001b[32m[I 2023-03-26 06:20:06,452]\u001b[0m Trial 95 finished with value: 0.946840521564694 and parameters: {'max_depth': 8, 'learning_rate': 0.5875638298693988, 'min_child_weight': 1, 'subsample': 0.7262555854181587}. Best is trial 94 with value: 0.9491312801856614.\u001b[0m\n",
      "\u001b[32m[I 2023-03-26 06:20:08,582]\u001b[0m Trial 96 finished with value: 0.9482066716829697 and parameters: {'max_depth': 9, 'learning_rate': 0.5271072140430856, 'min_child_weight': 1, 'subsample': 0.7099019496257644}. Best is trial 94 with value: 0.9491312801856614.\u001b[0m\n",
      "\u001b[32m[I 2023-03-26 06:20:10,699]\u001b[0m Trial 97 finished with value: 0.9485878890350053 and parameters: {'max_depth': 9, 'learning_rate': 0.5106810430949054, 'min_child_weight': 1, 'subsample': 0.679594370040813}. Best is trial 94 with value: 0.9491312801856614.\u001b[0m\n",
      "\u001b[32m[I 2023-03-26 06:20:12,391]\u001b[0m Trial 98 finished with value: 0.9469142749953104 and parameters: {'max_depth': 7, 'learning_rate': 0.3841412179847439, 'min_child_weight': 1, 'subsample': 0.7026906062990513}. Best is trial 94 with value: 0.9491312801856614.\u001b[0m\n",
      "\u001b[32m[I 2023-03-26 06:20:14,253]\u001b[0m Trial 99 finished with value: 0.9472695390781564 and parameters: {'max_depth': 8, 'learning_rate': 0.5059313025232499, 'min_child_weight': 1, 'subsample': 0.663870527472975}. Best is trial 94 with value: 0.9491312801856614.\u001b[0m\n"
     ]
    },
    {
     "name": "stdout",
     "output_type": "stream",
     "text": [
      "Number of finished trials: 100\n",
      "Best trial:\n",
      "  Value: 0.9491312801856614\n",
      "  Params: \n",
      "    max_depth: 9\n",
      "    learning_rate: 0.496460462572989\n",
      "    min_child_weight: 1\n",
      "    subsample: 0.7314719104836033\n"
     ]
    }
   ],
   "source": [
    "def objective(trial):\n",
    "    \"\"\"Define the objective function\"\"\"\n",
    "\n",
    "    params = {\n",
    "                'max_depth': trial.suggest_int('max_depth', 1, 10),\n",
    "                'learning_rate': trial.suggest_loguniform('learning_rate', 0.01, 1.0),\n",
    "                'min_child_weight': trial.suggest_int('min_child_weight', 1, 10),\n",
    "                'subsample': trial.suggest_loguniform('subsample', 0.5, 1.0)\n",
    "            }\n",
    "\n",
    "    # Fit the model\n",
    "    optuna_model = xgb.XGBClassifier(**params)\n",
    "    optuna_model.fit(x_treino, y_treino)\n",
    "\n",
    "    # Make predictions\n",
    "    y_pred = optuna_model.predict(x_teste)\n",
    "    xgb_predictions = optuna_model.predict(x_teste)\n",
    "\n",
    "    # Evaluate predictions\n",
    "    f1_score = metrics.f1_score(y_teste, xgb_predictions)\n",
    "    \n",
    "    return f1_score\n",
    "\n",
    "study = optuna.create_study(direction='maximize')\n",
    "study.optimize(objective, n_trials = 100, timeout = 600)\n",
    "\n",
    "print('Number of finished trials: {}'.format(len(study.trials)))\n",
    "print('Best trial:')\n",
    "trial = study.best_trial\n",
    "\n",
    "print('  Value: {}'.format(trial.value))\n",
    "print('  Params: ')\n",
    "\n",
    "for key, value in trial.params.items():\n",
    "    print('    {}: {}'.format(key, value))"
   ]
  },
  {
   "cell_type": "code",
   "execution_count": 121,
   "metadata": {},
   "outputs": [
    {
     "name": "stdout",
     "output_type": "stream",
     "text": [
      "0.9572931187428716\n"
     ]
    }
   ],
   "source": [
    "modelo_xgb = xgb.XGBClassifier(n_estimators = 1500, max_depth = 9, random_state = 42, \n",
    "                               learning_rate=0.496460462572989, min_child_weight=1, subsample=0.7314719104836033)\n",
    "modelo_xgb.fit(x_treino, y_treino)\n",
    "y_xgb = modelo_xgb.predict(x_teste)\n",
    "print(metrics.f1_score(y_teste,y_xgb))"
   ]
  },
  {
   "cell_type": "code",
   "execution_count": null,
   "metadata": {},
   "outputs": [],
   "source": [
    "df7.columns"
   ]
  },
  {
   "cell_type": "markdown",
   "metadata": {},
   "source": [
    "# Final"
   ]
  },
  {
   "cell_type": "code",
   "execution_count": 54,
   "metadata": {
    "collapsed": true
   },
   "outputs": [
    {
     "data": {
      "text/plain": [
       "id                                 0\n",
       "Classificação do hotel             0\n",
       "Meses da reserva até o check-in    0\n",
       "Número de pernoites reservadas     0\n",
       "Número de hospedes                 1\n",
       "Regime de alimentação              0\n",
       "Nacionalidade                      0\n",
       "Tipo do quarto reservado           0\n",
       "Reserva com Estacionamento         0\n",
       "Reserva com Observações            0\n",
       "dtype: int64"
      ]
     },
     "execution_count": 54,
     "metadata": {},
     "output_type": "execute_result"
    }
   ],
   "source": [
    "dados = pd.read_csv('test.csv')\n",
    "dados2 = preproc(dados)\n",
    "dados2.isna().sum()"
   ]
  },
  {
   "cell_type": "code",
   "execution_count": 62,
   "metadata": {},
   "outputs": [],
   "source": [
    "dados2['Número de hospedes'] = dados2['Número de hospedes'].fillna(int(dados2['Número de hospedes'].mode()))"
   ]
  },
  {
   "cell_type": "code",
   "execution_count": 63,
   "metadata": {
    "collapsed": true
   },
   "outputs": [
    {
     "data": {
      "text/plain": [
       "id                                 0\n",
       "Classificação do hotel             0\n",
       "Meses da reserva até o check-in    0\n",
       "Número de pernoites reservadas     0\n",
       "Número de hospedes                 0\n",
       "Regime de alimentação              0\n",
       "Nacionalidade                      0\n",
       "Tipo do quarto reservado           0\n",
       "Reserva com Estacionamento         0\n",
       "Reserva com Observações            0\n",
       "dtype: int64"
      ]
     },
     "execution_count": 63,
     "metadata": {},
     "output_type": "execute_result"
    }
   ],
   "source": [
    "dados2.isna().sum()"
   ]
  },
  {
   "cell_type": "code",
   "execution_count": 64,
   "metadata": {},
   "outputs": [],
   "source": [
    "x_test = dados2.drop(columns='id')"
   ]
  },
  {
   "cell_type": "code",
   "execution_count": null,
   "metadata": {},
   "outputs": [],
   "source": []
  },
  {
   "cell_type": "code",
   "execution_count": 65,
   "metadata": {},
   "outputs": [
    {
     "ename": "ValueError",
     "evalue": "X has 9 features, but RandomForestClassifier is expecting 11 features as input.",
     "output_type": "error",
     "traceback": [
      "\u001b[1;31m---------------------------------------------------------------------------\u001b[0m",
      "\u001b[1;31mValueError\u001b[0m                                Traceback (most recent call last)",
      "\u001b[1;32m~\\AppData\\Local\\Temp\\ipykernel_21952\\1214738906.py\u001b[0m in \u001b[0;36m<module>\u001b[1;34m\u001b[0m\n\u001b[0;32m      1\u001b[0m \u001b[0my_test\u001b[0m \u001b[1;33m=\u001b[0m \u001b[0mdados2\u001b[0m\u001b[1;33m[\u001b[0m\u001b[1;34m'id'\u001b[0m\u001b[1;33m]\u001b[0m\u001b[1;33m\u001b[0m\u001b[1;33m\u001b[0m\u001b[0m\n\u001b[1;32m----> 2\u001b[1;33m \u001b[0my_test\u001b[0m\u001b[1;33m[\u001b[0m\u001b[1;34m'Reserva Cancelada'\u001b[0m\u001b[1;33m]\u001b[0m \u001b[1;33m=\u001b[0m \u001b[0mmodelo_random_forest\u001b[0m\u001b[1;33m.\u001b[0m\u001b[0mpredict\u001b[0m\u001b[1;33m(\u001b[0m\u001b[0mx_test\u001b[0m\u001b[1;33m)\u001b[0m\u001b[1;33m\u001b[0m\u001b[1;33m\u001b[0m\u001b[0m\n\u001b[0m",
      "\u001b[1;32m~\\anaconda3\\lib\\site-packages\\sklearn\\ensemble\\_forest.py\u001b[0m in \u001b[0;36mpredict\u001b[1;34m(self, X)\u001b[0m\n\u001b[0;32m    806\u001b[0m             \u001b[0mThe\u001b[0m \u001b[0mpredicted\u001b[0m \u001b[0mclasses\u001b[0m\u001b[1;33m.\u001b[0m\u001b[1;33m\u001b[0m\u001b[1;33m\u001b[0m\u001b[0m\n\u001b[0;32m    807\u001b[0m         \"\"\"\n\u001b[1;32m--> 808\u001b[1;33m         \u001b[0mproba\u001b[0m \u001b[1;33m=\u001b[0m \u001b[0mself\u001b[0m\u001b[1;33m.\u001b[0m\u001b[0mpredict_proba\u001b[0m\u001b[1;33m(\u001b[0m\u001b[0mX\u001b[0m\u001b[1;33m)\u001b[0m\u001b[1;33m\u001b[0m\u001b[1;33m\u001b[0m\u001b[0m\n\u001b[0m\u001b[0;32m    809\u001b[0m \u001b[1;33m\u001b[0m\u001b[0m\n\u001b[0;32m    810\u001b[0m         \u001b[1;32mif\u001b[0m \u001b[0mself\u001b[0m\u001b[1;33m.\u001b[0m\u001b[0mn_outputs_\u001b[0m \u001b[1;33m==\u001b[0m \u001b[1;36m1\u001b[0m\u001b[1;33m:\u001b[0m\u001b[1;33m\u001b[0m\u001b[1;33m\u001b[0m\u001b[0m\n",
      "\u001b[1;32m~\\anaconda3\\lib\\site-packages\\sklearn\\ensemble\\_forest.py\u001b[0m in \u001b[0;36mpredict_proba\u001b[1;34m(self, X)\u001b[0m\n\u001b[0;32m    848\u001b[0m         \u001b[0mcheck_is_fitted\u001b[0m\u001b[1;33m(\u001b[0m\u001b[0mself\u001b[0m\u001b[1;33m)\u001b[0m\u001b[1;33m\u001b[0m\u001b[1;33m\u001b[0m\u001b[0m\n\u001b[0;32m    849\u001b[0m         \u001b[1;31m# Check data\u001b[0m\u001b[1;33m\u001b[0m\u001b[1;33m\u001b[0m\u001b[0m\n\u001b[1;32m--> 850\u001b[1;33m         \u001b[0mX\u001b[0m \u001b[1;33m=\u001b[0m \u001b[0mself\u001b[0m\u001b[1;33m.\u001b[0m\u001b[0m_validate_X_predict\u001b[0m\u001b[1;33m(\u001b[0m\u001b[0mX\u001b[0m\u001b[1;33m)\u001b[0m\u001b[1;33m\u001b[0m\u001b[1;33m\u001b[0m\u001b[0m\n\u001b[0m\u001b[0;32m    851\u001b[0m \u001b[1;33m\u001b[0m\u001b[0m\n\u001b[0;32m    852\u001b[0m         \u001b[1;31m# Assign chunk of trees to jobs\u001b[0m\u001b[1;33m\u001b[0m\u001b[1;33m\u001b[0m\u001b[0m\n",
      "\u001b[1;32m~\\anaconda3\\lib\\site-packages\\sklearn\\ensemble\\_forest.py\u001b[0m in \u001b[0;36m_validate_X_predict\u001b[1;34m(self, X)\u001b[0m\n\u001b[0;32m    577\u001b[0m         Validate X whenever one tries to predict, apply, predict_proba.\"\"\"\n\u001b[0;32m    578\u001b[0m         \u001b[0mcheck_is_fitted\u001b[0m\u001b[1;33m(\u001b[0m\u001b[0mself\u001b[0m\u001b[1;33m)\u001b[0m\u001b[1;33m\u001b[0m\u001b[1;33m\u001b[0m\u001b[0m\n\u001b[1;32m--> 579\u001b[1;33m         \u001b[0mX\u001b[0m \u001b[1;33m=\u001b[0m \u001b[0mself\u001b[0m\u001b[1;33m.\u001b[0m\u001b[0m_validate_data\u001b[0m\u001b[1;33m(\u001b[0m\u001b[0mX\u001b[0m\u001b[1;33m,\u001b[0m \u001b[0mdtype\u001b[0m\u001b[1;33m=\u001b[0m\u001b[0mDTYPE\u001b[0m\u001b[1;33m,\u001b[0m \u001b[0maccept_sparse\u001b[0m\u001b[1;33m=\u001b[0m\u001b[1;34m\"csr\"\u001b[0m\u001b[1;33m,\u001b[0m \u001b[0mreset\u001b[0m\u001b[1;33m=\u001b[0m\u001b[1;32mFalse\u001b[0m\u001b[1;33m)\u001b[0m\u001b[1;33m\u001b[0m\u001b[1;33m\u001b[0m\u001b[0m\n\u001b[0m\u001b[0;32m    580\u001b[0m         \u001b[1;32mif\u001b[0m \u001b[0missparse\u001b[0m\u001b[1;33m(\u001b[0m\u001b[0mX\u001b[0m\u001b[1;33m)\u001b[0m \u001b[1;32mand\u001b[0m \u001b[1;33m(\u001b[0m\u001b[0mX\u001b[0m\u001b[1;33m.\u001b[0m\u001b[0mindices\u001b[0m\u001b[1;33m.\u001b[0m\u001b[0mdtype\u001b[0m \u001b[1;33m!=\u001b[0m \u001b[0mnp\u001b[0m\u001b[1;33m.\u001b[0m\u001b[0mintc\u001b[0m \u001b[1;32mor\u001b[0m \u001b[0mX\u001b[0m\u001b[1;33m.\u001b[0m\u001b[0mindptr\u001b[0m\u001b[1;33m.\u001b[0m\u001b[0mdtype\u001b[0m \u001b[1;33m!=\u001b[0m \u001b[0mnp\u001b[0m\u001b[1;33m.\u001b[0m\u001b[0mintc\u001b[0m\u001b[1;33m)\u001b[0m\u001b[1;33m:\u001b[0m\u001b[1;33m\u001b[0m\u001b[1;33m\u001b[0m\u001b[0m\n\u001b[0;32m    581\u001b[0m             \u001b[1;32mraise\u001b[0m \u001b[0mValueError\u001b[0m\u001b[1;33m(\u001b[0m\u001b[1;34m\"No support for np.int64 index based sparse matrices\"\u001b[0m\u001b[1;33m)\u001b[0m\u001b[1;33m\u001b[0m\u001b[1;33m\u001b[0m\u001b[0m\n",
      "\u001b[1;32m~\\anaconda3\\lib\\site-packages\\sklearn\\base.py\u001b[0m in \u001b[0;36m_validate_data\u001b[1;34m(self, X, y, reset, validate_separately, **check_params)\u001b[0m\n\u001b[0;32m    583\u001b[0m \u001b[1;33m\u001b[0m\u001b[0m\n\u001b[0;32m    584\u001b[0m         \u001b[1;32mif\u001b[0m \u001b[1;32mnot\u001b[0m \u001b[0mno_val_X\u001b[0m \u001b[1;32mand\u001b[0m \u001b[0mcheck_params\u001b[0m\u001b[1;33m.\u001b[0m\u001b[0mget\u001b[0m\u001b[1;33m(\u001b[0m\u001b[1;34m\"ensure_2d\"\u001b[0m\u001b[1;33m,\u001b[0m \u001b[1;32mTrue\u001b[0m\u001b[1;33m)\u001b[0m\u001b[1;33m:\u001b[0m\u001b[1;33m\u001b[0m\u001b[1;33m\u001b[0m\u001b[0m\n\u001b[1;32m--> 585\u001b[1;33m             \u001b[0mself\u001b[0m\u001b[1;33m.\u001b[0m\u001b[0m_check_n_features\u001b[0m\u001b[1;33m(\u001b[0m\u001b[0mX\u001b[0m\u001b[1;33m,\u001b[0m \u001b[0mreset\u001b[0m\u001b[1;33m=\u001b[0m\u001b[0mreset\u001b[0m\u001b[1;33m)\u001b[0m\u001b[1;33m\u001b[0m\u001b[1;33m\u001b[0m\u001b[0m\n\u001b[0m\u001b[0;32m    586\u001b[0m \u001b[1;33m\u001b[0m\u001b[0m\n\u001b[0;32m    587\u001b[0m         \u001b[1;32mreturn\u001b[0m \u001b[0mout\u001b[0m\u001b[1;33m\u001b[0m\u001b[1;33m\u001b[0m\u001b[0m\n",
      "\u001b[1;32m~\\anaconda3\\lib\\site-packages\\sklearn\\base.py\u001b[0m in \u001b[0;36m_check_n_features\u001b[1;34m(self, X, reset)\u001b[0m\n\u001b[0;32m    398\u001b[0m \u001b[1;33m\u001b[0m\u001b[0m\n\u001b[0;32m    399\u001b[0m         \u001b[1;32mif\u001b[0m \u001b[0mn_features\u001b[0m \u001b[1;33m!=\u001b[0m \u001b[0mself\u001b[0m\u001b[1;33m.\u001b[0m\u001b[0mn_features_in_\u001b[0m\u001b[1;33m:\u001b[0m\u001b[1;33m\u001b[0m\u001b[1;33m\u001b[0m\u001b[0m\n\u001b[1;32m--> 400\u001b[1;33m             raise ValueError(\n\u001b[0m\u001b[0;32m    401\u001b[0m                 \u001b[1;34mf\"X has {n_features} features, but {self.__class__.__name__} \"\u001b[0m\u001b[1;33m\u001b[0m\u001b[1;33m\u001b[0m\u001b[0m\n\u001b[0;32m    402\u001b[0m                 \u001b[1;34mf\"is expecting {self.n_features_in_} features as input.\"\u001b[0m\u001b[1;33m\u001b[0m\u001b[1;33m\u001b[0m\u001b[0m\n",
      "\u001b[1;31mValueError\u001b[0m: X has 9 features, but RandomForestClassifier is expecting 11 features as input."
     ]
    }
   ],
   "source": [
    "y_test = dados2['id']\n",
    "y_test['Reserva Cancelada'] = modelo_random_forest.predict(x_test)"
   ]
  },
  {
   "cell_type": "code",
   "execution_count": null,
   "metadata": {},
   "outputs": [],
   "source": [
    "y_test.to_csv('submission_19.csv', index = False)"
   ]
  }
 ],
 "metadata": {
  "kernelspec": {
   "display_name": "Python 3 (ipykernel)",
   "language": "python",
   "name": "python3"
  },
  "language_info": {
   "codemirror_mode": {
    "name": "ipython",
    "version": 3
   },
   "file_extension": ".py",
   "mimetype": "text/x-python",
   "name": "python",
   "nbconvert_exporter": "python",
   "pygments_lexer": "ipython3",
   "version": "3.9.13"
  },
  "varInspector": {
   "cols": {
    "lenName": 16,
    "lenType": 16,
    "lenVar": 40
   },
   "kernels_config": {
    "python": {
     "delete_cmd_postfix": "",
     "delete_cmd_prefix": "del ",
     "library": "var_list.py",
     "varRefreshCmd": "print(var_dic_list())"
    },
    "r": {
     "delete_cmd_postfix": ") ",
     "delete_cmd_prefix": "rm(",
     "library": "var_list.r",
     "varRefreshCmd": "cat(var_dic_list()) "
    }
   },
   "types_to_exclude": [
    "module",
    "function",
    "builtin_function_or_method",
    "instance",
    "_Feature"
   ],
   "window_display": false
  }
 },
 "nbformat": 4,
 "nbformat_minor": 2
}
